{
 "cells": [
  {
   "cell_type": "code",
   "execution_count": 54,
   "id": "fa7cece6",
   "metadata": {
    "execution": {
     "iopub.execute_input": "2024-11-06T13:29:20.381404Z",
     "iopub.status.busy": "2024-11-06T13:29:20.381319Z",
     "iopub.status.idle": "2024-11-06T13:29:20.384344Z",
     "shell.execute_reply": "2024-11-06T13:29:20.384158Z"
    },
    "papermill": {
     "duration": 0.008818,
     "end_time": "2024-11-06T13:29:20.384953",
     "exception": false,
     "start_time": "2024-11-06T13:29:20.376135",
     "status": "completed"
    },
    "tags": [
     "injected-parameters"
    ]
   },
   "outputs": [],
   "source": [
    "# Parameters\n",
    "total_epochs = 200\n",
    "learning_rate = 0.001\n",
    "batch_size = 32\n",
    "kl_scaling_factor = 10\n",
    "intermediate_dim_1 = 88\n",
    "intermediate_dim_2 = 60\n",
    "latent_dim = 32 \n"
   ]
  },
  {
   "cell_type": "markdown",
   "id": "44852ea7",
   "metadata": {
    "papermill": {
     "duration": 0.004392,
     "end_time": "2024-11-06T13:29:20.395194",
     "exception": false,
     "start_time": "2024-11-06T13:29:20.390802",
     "status": "completed"
    },
    "tags": []
   },
   "source": [
    "Import statements, file paths, and feature list."
   ]
  },
  {
   "cell_type": "code",
   "execution_count": 55,
   "id": "8e45a5c5",
   "metadata": {
    "execution": {
     "iopub.execute_input": "2024-11-06T13:29:20.404586Z",
     "iopub.status.busy": "2024-11-06T13:29:20.404464Z",
     "iopub.status.idle": "2024-11-06T13:29:21.728937Z",
     "shell.execute_reply": "2024-11-06T13:29:21.728600Z"
    },
    "papermill": {
     "duration": 1.330022,
     "end_time": "2024-11-06T13:29:21.729906",
     "exception": false,
     "start_time": "2024-11-06T13:29:20.399884",
     "status": "completed"
    },
    "tags": []
   },
   "outputs": [],
   "source": [
    "import os\n",
    "import json\n",
    "import timeit\n",
    "os.environ['TF_CPP_MIN_LOG_LEVEL'] = '3'\n",
    "import tensorflow as tf\n",
    "import numpy as np\n",
    "import pandas as pd\n",
    "import logging\n",
    "from itertools import combinations\n",
    "import matplotlib.pyplot as plt\n",
    "import matplotlib as mpl\n",
    "import seaborn as sns\n",
    "import random\n",
    "import math\n",
    "import warnings\n",
    "import itertools\n",
    "import keras\n",
    "import re\n",
    "from tabulate import tabulate\n",
    "import xgboost as xgb\n",
    "from sklearn.model_selection import train_test_split\n",
    "from sklearn.preprocessing import LabelEncoder\n",
    "from xgboost import plot_importance\n",
    "from scipy.stats import kurtosis, skew, entropy\n",
    "from sklearn.metrics import mean_squared_error\n",
    "from sklearn.preprocessing import MinMaxScaler, StandardScaler, RobustScaler, OrdinalEncoder\n",
    "from sklearn.model_selection import train_test_split\n",
    "from sklearn.manifold import TSNE\n",
    "from mpl_toolkits.mplot3d import Axes3D\n",
    "from keras import layers, Sequential\n",
    "from tensorflow.keras.layers import Dense, Dropout, Lambda, Layer, BatchNormalization\n",
    "from tensorflow.keras.optimizers import Adam\n",
    "from tensorflow.keras.models import Model\n",
    "from tensorflow.keras.losses import mse, MeanSquaredError\n",
    "from tensorflow.keras import backend as K, metrics, callbacks\n",
    "import tensorflow_privacy\n",
    "from tensorflow_privacy.privacy.analysis.compute_dp_sgd_privacy_lib import compute_dp_sgd_privacy_statement\n",
    "import scrapbook as sb\n",
    "\n",
    "\n",
    "\n",
    "# Logging Configuration\n",
    "logging.basicConfig(level=logging.INFO, format='%(levelname)s: %(message)s')\n",
    "warnings.simplefilter(action='ignore', category=FutureWarning) # Ignore future warnings\n",
    "\n",
    "cleaned_data = '../../data/test_data_with_eye_foot_and_drugs_v2_forMI_OE_MICE.csv'\n",
    "\n",
    "# if uID is still in dataset, leave it in for now\n",
    "# all_features = [\n",
    "#     'age', 'duration', 'median_value_hba1c', 'last_value_hba1c', 'n_measures_hba1c', 'iqr_hba1c', 'gradient_values_hba1c',\n",
    "#     'median_value_sbp', 'last_value_sbp', 'n_measures_sbp', 'iqr_sbp', 'gradient_values_sbp',\n",
    "#     'median_value_dbp', 'last_value_dbp', 'n_measures_dbp', 'iqr_dbp', 'gradient_values_dbp',\n",
    "#     'median_value_bmi', 'last_value_bmi', 'n_measures_bmi', 'iqr_bmi', 'gradient_values_bmi',\n",
    "#     'median_value_acr', 'last_value_acr', 'n_measures_acr', 'iqr_acr', 'gradient_values_acr',\n",
    "#     'median_value_creat', 'last_value_creat', 'n_measures_creat', 'iqr_creat', 'gradient_values_creat',\n",
    "#     'median_value_plasma_alb', 'last_value_plasma_alb', 'n_measures_plasma_alb', 'iqr_plasma_alb', \n",
    "#     'gradient_values_plasma_alb', 'dm_type_Maturity Onset Diabetes of Youth', 'dm_type_Secondary - Drug Induced',\n",
    "#     'dm_type_Secondary - Pancreatic Pathology', 'dm_type_Type 1 Diabetes Mellitus', 'dm_type_Type 2 Diabetes Mellitus',\n",
    "#     'smoking_Current smoker', 'smoking_Ex-smoker', 'smoking_Never smoked', 'smoking_Patient declined',\n",
    "#     'ethCode_1B', 'ethCode_1C', 'ethCode_1L', 'ethCode_1Z', 'ethCode_2A', 'ethCode_3F', 'ethCode_3G', 'ethCode_3H', \n",
    "#     'ethCode_3J', 'ethCode_3Z', 'ethCode_4D', 'ethCode_4Y', 'ethCode_5C', 'ethCode_5D', 'ethCode_6A', 'ethCode_6Z', \n",
    "#     'ethCode_98', 'ethCode_99', 'foot_risk', 'eye_risk', 'sex_Male', 'betablockers_prescribed', 'calcium_channel_blockers_prescribed',\n",
    "#     'angiotensin_receptor_blockers_prescribed', 'ace_inhibitors_prescribed', 'thiazide_diuretics_prescribed', 'loop_diuretics_prescribed',\n",
    "#     'potassium_sparing_diuretics_prescribed','other_diuretics_prescribed', 'other_antihypertensives_prescribed',\n",
    "#     'metformin_preparations_prescribed', 'sglt2_inhibitors_prescribed', 'glp1_receptor_agonists_prescribed', 'sulfonylureas_prescribed',\n",
    "#     'dpp4_inhibitors_prescribed', 'thiazolidinediones_prescribed', 'long_acting_insulins_prescribed', 'short_acting_insulins_prescribed',\n",
    "#     'intermediate_acting_insulins_prescribed', 'nitrate_drugs_prescribed', 'statin_drugs_prescribed', 'digoxin_preparations_prescribed',\n",
    "#     'nicorandil_and_related_drugs_prescribed'\n",
    "# ]\n",
    "\n",
    "all_features = [\n",
    "    'age', 'duration', 'median_value_hba1c', 'last_value_hba1c', 'n_measures_hba1c', 'iqr_hba1c', 'gradient_values_hba1c',\n",
    "    'median_value_sbp', 'last_value_sbp', 'n_measures_sbp', 'iqr_sbp', 'gradient_values_sbp',\n",
    "    'median_value_dbp', 'last_value_dbp', 'n_measures_dbp', 'iqr_dbp', 'gradient_values_dbp',\n",
    "    'median_value_bmi', 'last_value_bmi', 'n_measures_bmi', 'iqr_bmi', 'gradient_values_bmi',\n",
    "    'median_value_acr', 'last_value_acr', 'n_measures_acr', 'iqr_acr', 'gradient_values_acr',\n",
    "    'median_value_creat', 'last_value_creat', 'n_measures_creat', 'iqr_creat', 'gradient_values_creat',\n",
    "    'median_value_plasma_alb', 'last_value_plasma_alb', 'n_measures_plasma_alb', 'iqr_plasma_alb', \n",
    "    'gradient_values_plasma_alb','dm_type','smoking', 'foot_risk', 'eye_risk', 'sex_Male', 'betablockers_prescribed', 'calcium_channel_blockers_prescribed',\n",
    "    'angiotensin_receptor_blockers_prescribed', 'ace_inhibitors_prescribed', 'thiazide_diuretics_prescribed', 'loop_diuretics_prescribed',\n",
    "    'potassium_sparing_diuretics_prescribed','other_diuretics_prescribed', 'other_antihypertensives_prescribed',\n",
    "    'metformin_preparations_prescribed', 'sglt2_inhibitors_prescribed', 'glp1_receptor_agonists_prescribed', 'sulfonylureas_prescribed',\n",
    "    'dpp4_inhibitors_prescribed', 'thiazolidinediones_prescribed', 'long_acting_insulins_prescribed', 'short_acting_insulins_prescribed',\n",
    "    'intermediate_acting_insulins_prescribed', 'nitrate_drugs_prescribed', 'statin_drugs_prescribed', 'digoxin_preparations_prescribed',\n",
    "    'nicorandil_and_related_drugs_prescribed'\n",
    "]\n",
    "\n",
    "# sglt_2_inhibitors_prescribed left out of numerical_features since there are no entries for this in the dataset\n",
    "numerical_features = [\n",
    "    'age', 'duration', 'median_value_hba1c', 'last_value_hba1c', 'n_measures_hba1c', 'iqr_hba1c', \n",
    "    'gradient_values_hba1c', 'median_value_sbp', 'last_value_sbp', 'n_measures_sbp', 'iqr_sbp', \n",
    "    'gradient_values_sbp', 'median_value_dbp', 'last_value_dbp', 'n_measures_dbp', 'iqr_dbp', \n",
    "    'gradient_values_dbp', 'median_value_bmi', 'last_value_bmi', 'n_measures_bmi', 'iqr_bmi', \n",
    "    'gradient_values_bmi', 'median_value_acr', 'last_value_acr', 'n_measures_acr', 'iqr_acr', \n",
    "    'gradient_values_acr', 'median_value_creat', 'last_value_creat', 'n_measures_creat', 'iqr_creat',\n",
    "    'gradient_values_creat', 'median_value_plasma_alb', 'last_value_plasma_alb', 'n_measures_plasma_alb', \n",
    "    'iqr_plasma_alb', 'gradient_values_plasma_alb', 'betablockers_prescribed', 'calcium_channel_blockers_prescribed',\n",
    "    'angiotensin_receptor_blockers_prescribed', 'ace_inhibitors_prescribed', 'thiazide_diuretics_prescribed',\n",
    "    'loop_diuretics_prescribed', 'metformin_preparations_prescribed', 'sulfonylureas_prescribed',\n",
    "    'thiazolidinediones_prescribed', 'long_acting_insulins_prescribed', 'short_acting_insulins_prescribed', \n",
    "    'nitrate_drugs_prescribed', 'statin_drugs_prescribed'\n",
    "]\n",
    "\n",
    "# will be extended later in the code\n",
    "embedding_features = ['foot_risk', 'eye_risk', 'dm_type', 'smoking']\n",
    "\n",
    "# will be extended later in the code\n",
    "binary_features = ['sex_Male']\n",
    "\n",
    "conditional_features = ['dm_type', 'smoking']\n",
    "\n"
   ]
  },
  {
   "cell_type": "markdown",
   "id": "6947e88e",
   "metadata": {
    "papermill": {
     "duration": 0.005179,
     "end_time": "2024-11-06T13:29:21.740553",
     "exception": false,
     "start_time": "2024-11-06T13:29:21.735374",
     "status": "completed"
    },
    "tags": []
   },
   "source": [
    "Load data"
   ]
  },
  {
   "cell_type": "code",
   "execution_count": 56,
   "id": "ff5c1b3f",
   "metadata": {
    "execution": {
     "iopub.execute_input": "2024-11-06T13:29:21.750205Z",
     "iopub.status.busy": "2024-11-06T13:29:21.749973Z",
     "iopub.status.idle": "2024-11-06T13:29:21.931865Z",
     "shell.execute_reply": "2024-11-06T13:29:21.931510Z"
    },
    "papermill": {
     "duration": 0.187364,
     "end_time": "2024-11-06T13:29:21.932790",
     "exception": false,
     "start_time": "2024-11-06T13:29:21.745426",
     "status": "completed"
    },
    "tags": []
   },
   "outputs": [],
   "source": [
    "def load_data(file_path, columns):\n",
    "    \"\"\"Load and return data from a CSV file, dropping columns that contain strings.\"\"\"\n",
    "    try:\n",
    "        data = pd.read_csv(file_path, delimiter=',', usecols=columns)\n",
    "        # Drop columns that contain strings\n",
    "        string_cols = data.select_dtypes(include=['object']).columns\n",
    "        data.drop(string_cols, axis=1, inplace=True)\n",
    "        return data\n",
    "    except FileNotFoundError:\n",
    "        logging.error(\"File '%s' not found.\", file_path)\n",
    "        return None\n",
    "    except ValueError as e:\n",
    "        logging.error(\"Error in reading the CSV file: %s\", e)\n",
    "        return None\n",
    "    except Exception as e:\n",
    "        logging.error(\"An unexpected error occurred: %s\", e)\n",
    "        return None\n",
    "    \n",
    "features_df = load_data(cleaned_data, all_features)"
   ]
  },
  {
   "cell_type": "code",
   "execution_count": 57,
   "id": "a171fa7f",
   "metadata": {},
   "outputs": [],
   "source": [
    "# Identify columns in features_df that contain negative numbers\n",
    "negative_columns_info = {\n",
    "    col: (features_df[col] < 0).mean() * 100 for col in features_df.columns if (features_df[col] < 0).any()\n",
    "}\n",
    "\n",
    "# Round negative values to 0 in these columns\n",
    "for col in negative_columns_info.keys():\n",
    "    features_df[col] = features_df[col].apply(lambda x: max(x, 0))\n",
    "\n",
    "# # Print the results\n",
    "# for col, percentage in negative_columns_info.items():\n",
    "#     print(f\"{col}: {percentage:.2f}% negative\")\n",
    "\n",
    "# print(\"All negative values rounded to 0\")\n"
   ]
  },
  {
   "cell_type": "code",
   "execution_count": 58,
   "id": "59c05384",
   "metadata": {},
   "outputs": [
    {
     "name": "stdout",
     "output_type": "stream",
     "text": [
      "Winsorization applied at the 99th percentile for numerical columns.\n"
     ]
    }
   ],
   "source": [
    "# Apply Winsorization at the 99th percentile\n",
    "for col in features_df.columns:\n",
    "    if features_df[col].dtype in [np.float64, np.int64]:  # Only apply to numerical columns\n",
    "        upper_limit = features_df[col].quantile(0.99)\n",
    "        features_df[col] = np.clip(features_df[col], None, upper_limit)\n",
    "\n",
    "print(\"Winsorization applied at the 99th percentile for numerical columns.\")\n"
   ]
  },
  {
   "cell_type": "markdown",
   "id": "c8ce9ec0",
   "metadata": {
    "papermill": {
     "duration": 0.00505,
     "end_time": "2024-11-06T13:29:21.943547",
     "exception": false,
     "start_time": "2024-11-06T13:29:21.938497",
     "status": "completed"
    },
    "tags": []
   },
   "source": [
    "Convert one-hot-encoded categorical features to ordinal"
   ]
  },
  {
   "cell_type": "markdown",
   "id": "ee6f5f77",
   "metadata": {
    "papermill": {
     "duration": 0.005007,
     "end_time": "2024-11-06T13:29:23.528659",
     "exception": false,
     "start_time": "2024-11-06T13:29:23.523652",
     "status": "completed"
    },
    "tags": []
   },
   "source": [
    "Loads data, fills missingness with imputation flags, multiplies gradient columns, drops empty columns, and ensures all data is numeric."
   ]
  },
  {
   "cell_type": "code",
   "execution_count": 59,
   "id": "8659ce77",
   "metadata": {
    "execution": {
     "iopub.execute_input": "2024-11-06T13:29:23.538233Z",
     "iopub.status.busy": "2024-11-06T13:29:23.538085Z",
     "iopub.status.idle": "2024-11-06T13:29:23.779945Z",
     "shell.execute_reply": "2024-11-06T13:29:23.779628Z"
    },
    "papermill": {
     "duration": 0.247306,
     "end_time": "2024-11-06T13:29:23.780715",
     "exception": false,
     "start_time": "2024-11-06T13:29:23.533409",
     "status": "completed"
    },
    "tags": []
   },
   "outputs": [
    {
     "name": "stdout",
     "output_type": "stream",
     "text": [
      "No columns with zero variance found to drop.\n",
      "\n",
      "features_df Shape (Rows, Columns): (70162, 55)\n",
      "[]\n"
     ]
    }
   ],
   "source": [
    "def convert_bool_to_int(df):\n",
    "    \"\"\"Convert boolean columns in the DataFrame to integers (1 for True, 0 for False).\"\"\"\n",
    "    # Identify boolean columns\n",
    "    bool_cols = df.select_dtypes(include=['bool']).columns\n",
    "    \n",
    "    # Convert each boolean column to an int type\n",
    "    for col in bool_cols:\n",
    "        df[col] = df[col].astype(int)\n",
    "    return df\n",
    "\n",
    "def drop_drug_columns(features_df):\n",
    "    '''Drops any drug_x_prescribed columns with <10% drug_prescribed in this dataset.'''\n",
    "    prescribed_all = [col for col in all_features if col.endswith('prescribed')]\n",
    "    prescribed_numerical = [col for col in numerical_features if col.endswith('prescribed')]\n",
    "    columns_to_drop = list(set(prescribed_all) - set(prescribed_numerical))\n",
    "    features_df = features_df.drop(columns=columns_to_drop)\n",
    "    return features_df\n",
    "\n",
    "def check_for_nans(df, data_name):\n",
    "    \"\"\"\n",
    "    Checks and prints if there are any NaN values in the given DataFrame, including the name of the data in the output.\n",
    "    \"\"\"\n",
    "    nan_presence = df.isna().any().any()\n",
    "    print(f'NaNs present in {data_name}: {nan_presence}')\n",
    "\n",
    "def add_imputation_flags(dataframe):\n",
    "    \"\"\"Add binary imputation flags to DataFrame for columns with NaNs.\"\"\"\n",
    "    for col in dataframe.columns:\n",
    "        if dataframe[col].isnull().any():\n",
    "            imputation_col_name = f'{col} imputation?'\n",
    "            dataframe[imputation_col_name] = 0\n",
    "            imputation_indices = dataframe[dataframe[col].isnull()].index\n",
    "            dataframe.loc[imputation_indices, imputation_col_name] = 1\n",
    "    return dataframe\n",
    "\n",
    "def fill_na_with_median(dataframe):\n",
    "    \"\"\"Replace NaNs with the median value of the respective column in the given DataFrame.\"\"\"\n",
    "    return dataframe.fillna(dataframe.median())\n",
    "\n",
    "def drop_zero_variance(df):\n",
    "    \"\"\"\n",
    "    Identifies and drops columns in the dataframe with exactly zero variance, \n",
    "    indicating that all values in the column are identical. Columns with zero variance \n",
    "    are not informative and can be problematic for some modeling techniques.\n",
    "    \"\"\"\n",
    "    zero_variance_columns = []\n",
    "    for column in df.columns:\n",
    "        if df[column].min() == df[column].max():\n",
    "            zero_variance_columns.append(column)\n",
    "    \n",
    "    if zero_variance_columns:\n",
    "        print(\"Columns dropped due to zero variance:\", zero_variance_columns)\n",
    "        df = df.drop(columns=zero_variance_columns)\n",
    "    else:\n",
    "        print(\"No columns with zero variance found to drop.\")\n",
    "\n",
    "    return df\n",
    "\n",
    "def print_shape(data, data_name):\n",
    "    \"\"\"\n",
    "    Prints the shape of the given data.\n",
    "    \"\"\"\n",
    "    print(f\"\\n{data_name} Shape (Rows, Columns): {data.shape}\")\n",
    "\n",
    "def clean_data(data):\n",
    "    data = convert_bool_to_int(data)\n",
    "    data = drop_drug_columns(data)\n",
    " #   data = add_imputation_flags(data)\n",
    "    data = fill_na_with_median(data)\n",
    "    data = drop_zero_variance(data)\n",
    "    return data\n",
    "\n",
    "# cleaning steps\n",
    "features_df = clean_data(features_df) \n",
    "print_shape(features_df, 'features_df')\n",
    "\n",
    "# Find columns containing the word 'imputation' and store them in a list\n",
    "imputation_columns = [col for col in features_df.columns if 'imputation' in col]\n",
    "\n",
    "# Update the binary_columns list by appending imputation_columns\n",
    "binary_features.extend(imputation_columns)\n",
    "\n",
    "print(imputation_columns)\n"
   ]
  },
  {
   "cell_type": "markdown",
   "id": "ac69441a",
   "metadata": {
    "papermill": {
     "duration": 0.005162,
     "end_time": "2024-11-06T13:29:23.791185",
     "exception": false,
     "start_time": "2024-11-06T13:29:23.786023",
     "status": "completed"
    },
    "tags": []
   },
   "source": [
    "Checks that there are no infinite values, NaNs or non-numeric columns."
   ]
  },
  {
   "cell_type": "code",
   "execution_count": 60,
   "id": "f28b1fe5",
   "metadata": {
    "execution": {
     "iopub.execute_input": "2024-11-06T13:29:23.800545Z",
     "iopub.status.busy": "2024-11-06T13:29:23.800408Z",
     "iopub.status.idle": "2024-11-06T13:29:23.810603Z",
     "shell.execute_reply": "2024-11-06T13:29:23.810248Z"
    },
    "papermill": {
     "duration": 0.015607,
     "end_time": "2024-11-06T13:29:23.811349",
     "exception": false,
     "start_time": "2024-11-06T13:29:23.795742",
     "status": "completed"
    },
    "tags": []
   },
   "outputs": [
    {
     "name": "stdout",
     "output_type": "stream",
     "text": [
      "No columns with infinite values found.\n",
      "All columns are numeric.\n",
      "NaNs present in features_df: False\n",
      "\n",
      "features_df Shape (Rows, Columns): (70162, 55)\n"
     ]
    }
   ],
   "source": [
    "def check_for_infinite_values(df):\n",
    "    inf_columns = df.columns.to_series()[np.isinf(df).any()].tolist()\n",
    "    if inf_columns:\n",
    "        print(f\"Columns with infinite values: {', '.join(inf_columns)}\")\n",
    "    else:\n",
    "        print(\"No columns with infinite values found.\")\n",
    "\n",
    "def check_numeric_columns(df):\n",
    "    \"\"\"\n",
    "    Checks each column in the dataframe to ensure it contains numeric data. Prints out the names\n",
    "    of non-numeric columns along with their data types.\n",
    "    \"\"\"\n",
    "    non_numeric_columns = df.select_dtypes(exclude=[np.number]).columns\n",
    "    if non_numeric_columns.empty:\n",
    "        print(\"All columns are numeric.\")\n",
    "    else:\n",
    "        print(\"Non-numeric columns found:\")\n",
    "        for column in non_numeric_columns:\n",
    "            print(f\"Column: {column}, Data Type: {df[column].dtype}\")\n",
    "\n",
    "def check_for_nans(df, data_name):\n",
    "    \"\"\"\n",
    "    Checks and prints if there are any NaN values in the given DataFrame, including the name of the data in the output.\n",
    "    \"\"\"\n",
    "    nan_presence = df.isna().any().any()\n",
    "    print(f'NaNs present in {data_name}: {nan_presence}')\n",
    "\n",
    "def check_and_summarise(df, data_name):\n",
    "    check_for_infinite_values(features_df)\n",
    "    check_numeric_columns(features_df)\n",
    "    check_for_nans(features_df, 'features_df')\n",
    "\n",
    "# checking steps\n",
    "check_and_summarise(features_df, 'features_df')\n",
    "print_shape(features_df, 'features_df')"
   ]
  },
  {
   "cell_type": "markdown",
   "id": "df8aca0a",
   "metadata": {
    "papermill": {
     "duration": 0.00464,
     "end_time": "2024-11-06T13:29:23.821247",
     "exception": false,
     "start_time": "2024-11-06T13:29:23.816607",
     "status": "completed"
    },
    "tags": []
   },
   "source": [
    "Maps the number 4 in the 'foot_risk' column to the number 3"
   ]
  },
  {
   "cell_type": "code",
   "execution_count": 61,
   "id": "ae62f659",
   "metadata": {
    "execution": {
     "iopub.execute_input": "2024-11-06T13:29:23.830928Z",
     "iopub.status.busy": "2024-11-06T13:29:23.830806Z",
     "iopub.status.idle": "2024-11-06T13:29:23.832944Z",
     "shell.execute_reply": "2024-11-06T13:29:23.832745Z"
    },
    "papermill": {
     "duration": 0.007825,
     "end_time": "2024-11-06T13:29:23.833803",
     "exception": false,
     "start_time": "2024-11-06T13:29:23.825978",
     "status": "completed"
    },
    "tags": []
   },
   "outputs": [],
   "source": [
    "features_df['foot_risk'] = features_df['foot_risk'].replace(4, 3)\n",
    "# indexing for this risk score was changed from [0-5) to [0-4) but 3 was mapped to 4, \n",
    "# so that possible values were {0,1,2,4}. This mapping corrects possible values to {0,1,2,3}."
   ]
  },
  {
   "cell_type": "markdown",
   "id": "0d1b4256",
   "metadata": {
    "papermill": {
     "duration": 0.004384,
     "end_time": "2024-11-06T13:29:23.842909",
     "exception": false,
     "start_time": "2024-11-06T13:29:23.838525",
     "status": "completed"
    },
    "tags": []
   },
   "source": [
    "Removes gradient_columns because they are distorted by measurement frequency: whether measurements were taken days, months or years apart."
   ]
  },
  {
   "cell_type": "code",
   "execution_count": 62,
   "id": "80ffa31f",
   "metadata": {
    "execution": {
     "iopub.execute_input": "2024-11-06T13:29:23.852363Z",
     "iopub.status.busy": "2024-11-06T13:29:23.852215Z",
     "iopub.status.idle": "2024-11-06T13:29:23.861351Z",
     "shell.execute_reply": "2024-11-06T13:29:23.861097Z"
    },
    "papermill": {
     "duration": 0.014346,
     "end_time": "2024-11-06T13:29:23.861865",
     "exception": false,
     "start_time": "2024-11-06T13:29:23.847519",
     "status": "completed"
    },
    "tags": []
   },
   "outputs": [
    {
     "name": "stdout",
     "output_type": "stream",
     "text": [
      "(70162, 55)\n",
      "(70162, 48)\n"
     ]
    }
   ],
   "source": [
    "# Remove gradient columns\n",
    "print(features_df.shape)\n",
    "gradient_columns = [col for col in numerical_features if col.startswith('gradient_values')]\n",
    "features_df = features_df.drop(columns=gradient_columns)\n",
    "print(features_df.shape)\n",
    "numerical_features = [col for col in numerical_features if not col.startswith('gradient_values')]"
   ]
  },
  {
   "cell_type": "markdown",
   "id": "805a1bc7",
   "metadata": {
    "papermill": {
     "duration": 0.00437,
     "end_time": "2024-11-06T13:29:23.871232",
     "exception": false,
     "start_time": "2024-11-06T13:29:23.866862",
     "status": "completed"
    },
    "tags": []
   },
   "source": [
    "Train-test split (80% train, 20% test)."
   ]
  },
  {
   "cell_type": "code",
   "execution_count": 63,
   "id": "38dd9529",
   "metadata": {
    "execution": {
     "iopub.execute_input": "2024-11-06T13:29:23.880624Z",
     "iopub.status.busy": "2024-11-06T13:29:23.880505Z",
     "iopub.status.idle": "2024-11-06T13:29:23.908825Z",
     "shell.execute_reply": "2024-11-06T13:29:23.908569Z"
    },
    "papermill": {
     "duration": 0.033523,
     "end_time": "2024-11-06T13:29:23.909401",
     "exception": false,
     "start_time": "2024-11-06T13:29:23.875878",
     "status": "completed"
    },
    "tags": []
   },
   "outputs": [
    {
     "name": "stdout",
     "output_type": "stream",
     "text": [
      "\n",
      "X_train Shape (Rows, Columns): (56129, 48)\n",
      "NaNs present in X_train: False\n",
      "\n",
      "X_test Shape (Rows, Columns): (14033, 48)\n",
      "NaNs present in X_test: False\n"
     ]
    }
   ],
   "source": [
    "# Split the cleaned dataset into autoencoder training (80%) and test (20%) sets\n",
    "\n",
    "# X_train_0 is after train_test split, X_train_1 is after scaling, \n",
    "# X_train_2 is split into a list of tensors\n",
    "X_train_0, X_test_0 = train_test_split(features_df, test_size=0.2, random_state=42)\n",
    "\n",
    "print_shape(X_train_0, 'X_train')\n",
    "check_for_nans(X_train_0, 'X_train')\n",
    "print_shape(X_test_0, 'X_test')\n",
    "check_for_nans(X_test_0, 'X_test')"
   ]
  },
  {
   "cell_type": "markdown",
   "id": "c8a2c1fd",
   "metadata": {
    "papermill": {
     "duration": 0.004673,
     "end_time": "2024-11-06T13:29:23.919670",
     "exception": false,
     "start_time": "2024-11-06T13:29:23.914997",
     "status": "completed"
    },
    "tags": []
   },
   "source": [
    "Scales datasets using minmaxscaler."
   ]
  },
  {
   "cell_type": "code",
   "execution_count": 64,
   "id": "cde640c4",
   "metadata": {
    "execution": {
     "iopub.execute_input": "2024-11-06T13:29:23.929555Z",
     "iopub.status.busy": "2024-11-06T13:29:23.929420Z",
     "iopub.status.idle": "2024-11-06T13:29:23.995450Z",
     "shell.execute_reply": "2024-11-06T13:29:23.995179Z"
    },
    "papermill": {
     "duration": 0.071742,
     "end_time": "2024-11-06T13:29:23.996341",
     "exception": false,
     "start_time": "2024-11-06T13:29:23.924599",
     "status": "completed"
    },
    "tags": []
   },
   "outputs": [],
   "source": [
    "minmax_scaler = MinMaxScaler()\n",
    "\n",
    "def scale_datasets(X_train_0, X_test_0):\n",
    "    X_train_scaled = X_train_0.copy()\n",
    "    X_test_scaled = X_test_0.copy()\n",
    "    \n",
    "    X_train_numerical_scaled = pd.DataFrame(\n",
    "        minmax_scaler.fit_transform(X_train_0[numerical_features]),\n",
    "        columns=numerical_features,\n",
    "        index=X_train_0.index\n",
    "    )\n",
    "    X_test_numerical_scaled = pd.DataFrame(\n",
    "        minmax_scaler.transform(X_test_0[numerical_features]),\n",
    "        columns=numerical_features,\n",
    "        index=X_test_0.index\n",
    "    )\n",
    "    \n",
    "    X_train_scaled.update(X_train_numerical_scaled)\n",
    "    X_test_scaled.update(X_test_numerical_scaled)\n",
    "    \n",
    "    return X_train_scaled, X_test_scaled\n",
    "\n",
    "X_train_1, X_test_1 = scale_datasets(X_train_0, X_test_0)\n",
    "\n",
    "assert set(X_train_0.columns) == set(X_train_1.columns), \"Column mismatch after scaling\"\n",
    "\n",
    "# X_train_0 is after train_test split, X_train_1 is after scaling, \n",
    "# X_train_2 is split into a list of tensors"
   ]
  },
  {
   "cell_type": "code",
   "execution_count": 65,
   "id": "ad2daa67",
   "metadata": {
    "execution": {
     "iopub.execute_input": "2024-11-06T13:29:24.006669Z",
     "iopub.status.busy": "2024-11-06T13:29:24.006522Z",
     "iopub.status.idle": "2024-11-06T13:29:24.084714Z",
     "shell.execute_reply": "2024-11-06T13:29:24.084477Z"
    },
    "papermill": {
     "duration": 0.084406,
     "end_time": "2024-11-06T13:29:24.086129",
     "exception": false,
     "start_time": "2024-11-06T13:29:24.001723",
     "status": "completed"
    },
    "tags": []
   },
   "outputs": [
    {
     "name": "stdout",
     "output_type": "stream",
     "text": [
      "+----+--------------------+------------------+-----------+\n",
      "|    | Metric             |   X_train_scaled |   X_train |\n",
      "+====+====================+==================+===========+\n",
      "|  0 | Mean               |         0.434615 |  24.8395  |\n",
      "+----+--------------------+------------------+-----------+\n",
      "|  1 | Standard Deviation |         0.23091  |  11.6094  |\n",
      "+----+--------------------+------------------+-----------+\n",
      "|  2 | Kurtosis           |         6.30972  |   6.30972 |\n",
      "+----+--------------------+------------------+-----------+\n",
      "|  3 | Skewness           |         1.51267  |   1.51267 |\n",
      "+----+--------------------+------------------+-----------+\n"
     ]
    }
   ],
   "source": [
    "def analyze_dataframe(df):\n",
    "    \"\"\"\n",
    "    Calculates the mean, standard deviation, kurtosis, and skewness of each column in a DataFrame.\n",
    "    Skewness should be 0 for a normal dist, kurtosis (a measure of outlier prevalence) should be 3.\n",
    "    Each of these metrics is calculated as a mean across all columns.\n",
    "    \"\"\"\n",
    "    analysis_results = pd.DataFrame({\n",
    "        'Mean': df.mean(),\n",
    "        'Standard Deviation': df.std(),\n",
    "        'Kurtosis': df.kurtosis(),\n",
    "        'Skewness': df.skew()\n",
    "    })\n",
    "\n",
    "    # Calculate mean values for the metrics across all columns\n",
    "    mean_metrics = analysis_results.mean()\n",
    "\n",
    "    # Return the analysis results along with averaged normality test results\n",
    "    return pd.Series({\n",
    "        'Mean': mean_metrics['Mean'],\n",
    "        'Standard Deviation': mean_metrics['Standard Deviation'],\n",
    "        'Kurtosis': mean_metrics['Kurtosis'],\n",
    "        'Skewness': mean_metrics['Skewness']\n",
    "    })\n",
    "\n",
    "def tabular_comparison(df1, df2, df1_name, df2_name):\n",
    "    \"\"\"\n",
    "    Compares the original test data and the reconstructed data by analyzing both.\n",
    "    Outputs a tabulated table with comparisons.\n",
    "    \"\"\"\n",
    "    # Convert reconstructed data to DataFrame if it's not already one\n",
    "    if not isinstance(df2, pd.DataFrame):\n",
    "        df2 = pd.DataFrame(df2, columns=df1.columns)\n",
    "\n",
    "    # Analyze both datasets\n",
    "    original_analysis = analyze_dataframe(df1)\n",
    "    reconstructed_analysis = analyze_dataframe(df2)\n",
    "\n",
    "    # Combine results for comparison\n",
    "    comparison_df = pd.DataFrame({\n",
    "        'Metric': ['Mean', 'Standard Deviation', 'Kurtosis', 'Skewness'],\n",
    "        df1_name: original_analysis.values,\n",
    "        df2_name: reconstructed_analysis.values\n",
    "    })\n",
    "\n",
    "    print(tabulate(comparison_df, headers='keys', tablefmt='grid'))\n",
    "\n",
    "tabular_comparison(X_train_1, X_train_0, 'X_train_scaled', 'X_train')"
   ]
  },
  {
   "cell_type": "code",
   "execution_count": 66,
   "id": "a45aedaf",
   "metadata": {
    "execution": {
     "iopub.execute_input": "2024-11-06T13:29:24.097276Z",
     "iopub.status.busy": "2024-11-06T13:29:24.097150Z",
     "iopub.status.idle": "2024-11-06T13:29:24.103944Z",
     "shell.execute_reply": "2024-11-06T13:29:24.103720Z"
    },
    "papermill": {
     "duration": 0.01299,
     "end_time": "2024-11-06T13:29:24.104884",
     "exception": false,
     "start_time": "2024-11-06T13:29:24.091894",
     "status": "completed"
    },
    "tags": []
   },
   "outputs": [],
   "source": [
    "# X_train_0 is after train_test split, X_train_1 is after scaling, \n",
    "# X_train_2 is split into a list of tensors\n",
    "\n",
    "X_train_2 = (\n",
    "    [X_train_1[numerical_features].values] +  # Numerical features\n",
    "    [X_train_1[binary_features].values] +     # Binary features\n",
    "    [X_train_1[feature].values for feature in embedding_features]  # Categorical features\n",
    ")\n",
    "\n",
    "X_test_2 = (\n",
    "    [X_test_1[numerical_features].values] +   # Numerical features\n",
    "    [X_test_1[binary_features].values] +      # Binary features\n",
    "    [X_test_1[feature].values for feature in embedding_features]   # Categorical features\n",
    ")"
   ]
  },
  {
   "cell_type": "markdown",
   "id": "2a5f1e9d",
   "metadata": {
    "papermill": {
     "duration": 0.004704,
     "end_time": "2024-11-06T13:29:24.114894",
     "exception": false,
     "start_time": "2024-11-06T13:29:24.110190",
     "status": "completed"
    },
    "tags": []
   },
   "source": [
    "Creates input layers, including embeddings for the categorical features"
   ]
  },
  {
   "cell_type": "code",
   "execution_count": 67,
   "id": "99d886c9",
   "metadata": {
    "execution": {
     "iopub.execute_input": "2024-11-06T13:29:24.124610Z",
     "iopub.status.busy": "2024-11-06T13:29:24.124500Z",
     "iopub.status.idle": "2024-11-06T13:29:24.175271Z",
     "shell.execute_reply": "2024-11-06T13:29:24.174794Z"
    },
    "papermill": {
     "duration": 0.056942,
     "end_time": "2024-11-06T13:29:24.176575",
     "exception": false,
     "start_time": "2024-11-06T13:29:24.119633",
     "status": "completed"
    },
    "tags": []
   },
   "outputs": [],
   "source": [
    "embedding_dim = 3\n",
    "\n",
    "def embed_categorical(categorical_features, embedding_dim):\n",
    "    pre_embedded_inputs = []\n",
    "    embedded_features = []\n",
    "    total_categories = sum(categorical_features.values())\n",
    "    \n",
    "    embedding_layer = layers.Embedding(\n",
    "        input_dim=total_categories,\n",
    "        output_dim=embedding_dim,\n",
    "        name=\"embed_features\"\n",
    "    )\n",
    "    \n",
    "    offset = 0\n",
    "    for feature, num_categories in categorical_features.items():\n",
    "        input_layer = layers.Input(shape=(1,), name=f'input_{feature}')\n",
    "        pre_embedded_inputs.append(input_layer)\n",
    "        \n",
    "        # Add offset to input before embedding, so that embedding spaces don't overlap\n",
    "        offset_layer = layers.Lambda(lambda x, offset=offset: x + offset, name=f'offset_{feature}')\n",
    "        offset_input = offset_layer(input_layer)\n",
    "        \n",
    "        embedded = embedding_layer(offset_input)\n",
    "        embedded_features.append(embedded)\n",
    "        \n",
    "        offset += num_categories\n",
    "    \n",
    "    concatenated_embedding = layers.Concatenate(axis=1, name='concatenate_embedded_features')(embedded_features)\n",
    "    flattened_input = layers.Flatten(name=\"flatten_features\")(concatenated_embedding)\n",
    "    \n",
    "    return pre_embedded_inputs, concatenated_embedding, flattened_input\n",
    "\n",
    "categorical_features = {\n",
    "    'foot_risk': 4,\n",
    "    'eye_risk': 5,\n",
    "    'dm_type': 5,\n",
    "    'smoking': 4\n",
    "}\n",
    "\n",
    "binary_inputs = layers.Input(shape=(len(binary_features),), name='binary_features')\n",
    "numerical_inputs = layers.Input(shape=(len(numerical_features),), name='numerical_features')\n",
    "\n",
    "categorical_inputs, embedded_features, flattened_embeddings = embed_categorical(categorical_features, embedding_dim)\n",
    "\n",
    "concat_inputs = layers.concatenate([binary_inputs, numerical_inputs, flattened_embeddings], name='concatenate_encoder_inputs')"
   ]
  },
  {
   "cell_type": "markdown",
   "id": "b93ffb04",
   "metadata": {
    "papermill": {
     "duration": 0.004678,
     "end_time": "2024-11-06T13:29:24.187143",
     "exception": false,
     "start_time": "2024-11-06T13:29:24.182465",
     "status": "completed"
    },
    "tags": []
   },
   "source": [
    "Defines kl_divergence layer which anneals gradually from 0, via epoch_number/total_epochs, to 1 over the course of training."
   ]
  },
  {
   "cell_type": "code",
   "execution_count": 68,
   "id": "1ac74ab4",
   "metadata": {
    "execution": {
     "iopub.execute_input": "2024-11-06T13:29:24.197403Z",
     "iopub.status.busy": "2024-11-06T13:29:24.197293Z",
     "iopub.status.idle": "2024-11-06T13:29:24.201017Z",
     "shell.execute_reply": "2024-11-06T13:29:24.200811Z"
    },
    "papermill": {
     "duration": 0.00964,
     "end_time": "2024-11-06T13:29:24.201978",
     "exception": false,
     "start_time": "2024-11-06T13:29:24.192338",
     "status": "completed"
    },
    "tags": []
   },
   "outputs": [],
   "source": [
    "kl_scaling_factor = kl_scaling_factor\n",
    "\n",
    "class EpochCounter(callbacks.Callback):\n",
    "    def __init__(self, total_epochs):\n",
    "        super().__init__()\n",
    "        self.total_epochs = total_epochs\n",
    "        self.current_epoch = tf.Variable(0, trainable=False, dtype=tf.float32)\n",
    "    \n",
    "    def on_epoch_begin(self, epoch, logs=None):\n",
    "        self.current_epoch.assign(epoch)\n",
    "\n",
    "class KLDivergenceLayer(layers.Layer):\n",
    "    def __init__(self, epoch_counter, **kwargs):\n",
    "        self.is_placeholder = True\n",
    "        super().__init__(**kwargs)\n",
    "        self.epoch_counter = epoch_counter\n",
    "        self.annealing_factor = tf.Variable(0.0, trainable=False)\n",
    "        self.raw_kl_loss = tf.Variable(0.0, trainable=False)\n",
    "        self.scaled_kl_loss = tf.Variable(0.0, trainable=False)\n",
    "        self.running_avg_kl_loss = tf.Variable(0.0, trainable=False)\n",
    "        self.kl_loss_sum = tf.Variable(0.0, trainable=False)\n",
    "        self.batch_count = tf.Variable(0, trainable=False)\n",
    "    \n",
    "    def call(self, inputs):\n",
    "        z_mean, z_log_var = inputs\n",
    "        kl_loss = -0.5 * tf.reduce_sum(1 + z_log_var - tf.square(z_mean) - tf.exp(z_log_var), axis=-1)\n",
    "        self.annealing_factor.assign(self.epoch_counter.current_epoch / self.epoch_counter.total_epochs)\n",
    "        \n",
    "        self.raw_kl_loss.assign(tf.reduce_mean(kl_loss))\n",
    "        self.scaled_kl_loss.assign(kl_scaling_factor * self.raw_kl_loss * self.annealing_factor)\n",
    "        \n",
    "        # Update running average\n",
    "        self.kl_loss_sum.assign_add(self.scaled_kl_loss)\n",
    "        self.batch_count.assign_add(1)\n",
    "        self.running_avg_kl_loss.assign(self.kl_loss_sum / tf.cast(self.batch_count, tf.float32))\n",
    "        \n",
    "        self.add_loss(self.scaled_kl_loss)\n",
    "        return inputs\n",
    "    \n",
    "    def get_config(self):\n",
    "        config = super().get_config()\n",
    "        config.update({\"is_placeholder\": self.is_placeholder})\n",
    "        return config"
   ]
  },
  {
   "cell_type": "markdown",
   "id": "b1460b15",
   "metadata": {
    "papermill": {
     "duration": 0.004442,
     "end_time": "2024-11-06T13:29:24.211187",
     "exception": false,
     "start_time": "2024-11-06T13:29:24.206745",
     "status": "completed"
    },
    "tags": []
   },
   "source": [
    "Define variational encoder"
   ]
  },
  {
   "cell_type": "code",
   "execution_count": 69,
   "id": "c70ad8fe",
   "metadata": {
    "execution": {
     "iopub.execute_input": "2024-11-06T13:29:24.220865Z",
     "iopub.status.busy": "2024-11-06T13:29:24.220686Z",
     "iopub.status.idle": "2024-11-06T13:29:24.287154Z",
     "shell.execute_reply": "2024-11-06T13:29:24.286664Z"
    },
    "papermill": {
     "duration": 0.072448,
     "end_time": "2024-11-06T13:29:24.288330",
     "exception": false,
     "start_time": "2024-11-06T13:29:24.215882",
     "status": "completed"
    },
    "tags": []
   },
   "outputs": [],
   "source": [
    "# Set up the model\n",
    "# total_epochs must be defined before encoder for kl_divergence_layer to work. \n",
    "# Currently at top of the script\n",
    "\n",
    "# stores training runtime as a variable\n",
    "start_time = timeit.default_timer()\n",
    "\n",
    "# Parameters\n",
    "original_dim = concat_inputs.shape[1]\n",
    "intermediate_dim_1 = intermediate_dim_1\n",
    "intermediate_dim_2 = intermediate_dim_2\n",
    "latent_dim = latent_dim\n",
    "\n",
    "# Encoder layers\n",
    "h1 = layers.Dense(intermediate_dim_1, name=\"encoder_intermediate_1\")(concat_inputs)\n",
    "h1_bn = layers.BatchNormalization(name=\"encoder_bn_1\")(h1)\n",
    "h1_act = layers.LeakyReLU(name=\"encoder_activation_1\")(h1_bn)\n",
    "\n",
    "h2 = layers.Dense(intermediate_dim_2, name=\"encoder_intermediate_2\")(h1_act)\n",
    "h2_bn = layers.BatchNormalization(name=\"encoder_bn_2\")(h2)\n",
    "h2_act = layers.LeakyReLU(name=\"encoder_activation_2\")(h2_bn)\n",
    "\n",
    "z_mean = layers.Dense(latent_dim, name=\"z_mean\")(h2_act)\n",
    "z_log_sigma = layers.Dense(latent_dim, name=\"z_log_sigma\")(h2_act)\n",
    "\n",
    "# Add KL loss to total loss\n",
    "epoch_counter = EpochCounter(total_epochs)\n",
    "kl_layer = KLDivergenceLayer(epoch_counter)\n",
    "z_mean, z_log_sigma = kl_layer([z_mean, z_log_sigma])\n",
    "\n",
    "# Sampling function\n",
    "def sampling(args):\n",
    "    z_mean, z_log_sigma = args\n",
    "    epsilon = K.random_normal(shape=(K.shape(z_mean)[0], latent_dim),\n",
    "                            mean=0., stddev=1)\n",
    "    return z_mean + K.exp(z_log_sigma / 2) * epsilon\n",
    "\n",
    "# Sample from latent space\n",
    "z = Lambda(sampling, output_shape=(latent_dim,), name='z_latent_encoding')([z_mean, z_log_sigma])\n",
    "\n",
    "# Instantiate encoder\n",
    "encoder_inputs = [numerical_inputs, binary_inputs] + categorical_inputs\n",
    "encoder = Model(encoder_inputs, [z_mean, z_log_sigma, z], name='encoder')\n",
    "# keras.utils.plot_model(encoder, \"../../figures/variational_encoder_flowchart.png\", show_shapes=True)\n"
   ]
  },
  {
   "cell_type": "markdown",
   "id": "858873ff",
   "metadata": {
    "papermill": {
     "duration": 0.004791,
     "end_time": "2024-11-06T13:29:24.299330",
     "exception": false,
     "start_time": "2024-11-06T13:29:24.294539",
     "status": "completed"
    },
    "tags": []
   },
   "source": [
    "Define decoder"
   ]
  },
  {
   "cell_type": "code",
   "execution_count": 70,
   "id": "4d5d1dc9",
   "metadata": {
    "execution": {
     "iopub.execute_input": "2024-11-06T13:29:24.309314Z",
     "iopub.status.busy": "2024-11-06T13:29:24.309180Z",
     "iopub.status.idle": "2024-11-06T13:29:24.345060Z",
     "shell.execute_reply": "2024-11-06T13:29:24.344822Z"
    },
    "papermill": {
     "duration": 0.041878,
     "end_time": "2024-11-06T13:29:24.346069",
     "exception": false,
     "start_time": "2024-11-06T13:29:24.304191",
     "status": "completed"
    },
    "tags": []
   },
   "outputs": [],
   "source": [
    "# Decoder Model\n",
    "latent_inputs = layers.Input(shape=(latent_dim,), name='z_sampling')\n",
    "\n",
    "x1 = layers.Dense(intermediate_dim_2, name=\"decoder_intermediate_1\")(latent_inputs)\n",
    "x1_bn = layers.BatchNormalization(name=\"decoder_bn_1\")(x1)\n",
    "x1_act = layers.LeakyReLU(name=\"decoder_activation_1\")(x1_bn)\n",
    "\n",
    "x2 = layers.Dense(intermediate_dim_1, name=\"decoder_intermediate_2\")(x1_act)\n",
    "x2_bn = layers.BatchNormalization(name=\"decoder_bn_2\")(x2)\n",
    "x2_act = layers.LeakyReLU(name=\"decoder_activation_2\")(x2_bn)\n",
    "\n",
    "# Create binary & numerical outputs\n",
    "numerical_outputs = layers.Dense(len(numerical_features), activation=\"sigmoid\", name=\"numerical_outputs\")(x2_act)\n",
    "binary_outputs = layers.Dense(len(binary_features), activation=\"sigmoid\", name=\"binary_outputs\")(x2_act)\n",
    "\n",
    "# Create categorical outputs\n",
    "categorical_outputs = []\n",
    "for feature, num_categories in categorical_features.items():\n",
    "    output = layers.Dense(num_categories, activation='softmax', name=f'output_{feature}')(x2_act)\n",
    "    categorical_outputs.append(output)\n",
    "\n",
    "# Combine all outputs\n",
    "decoder_outputs = [numerical_outputs, binary_outputs] + categorical_outputs\n",
    "\n",
    "# Instantiate decoder\n",
    "decoder = Model(latent_inputs, decoder_outputs, name='decoder')\n",
    "# keras.utils.plot_model(decoder, \"../../figures/variational_decoder_flowchart.png\", show_shapes=True)\n"
   ]
  },
  {
   "cell_type": "markdown",
   "id": "3f41db7a",
   "metadata": {
    "papermill": {
     "duration": 0.004651,
     "end_time": "2024-11-06T13:29:24.356118",
     "exception": false,
     "start_time": "2024-11-06T13:29:24.351467",
     "status": "completed"
    },
    "tags": []
   },
   "source": [
    "Define full variational autoencoder"
   ]
  },
  {
   "cell_type": "code",
   "execution_count": 71,
   "id": "4cf88b5c",
   "metadata": {
    "execution": {
     "iopub.execute_input": "2024-11-06T13:29:24.366239Z",
     "iopub.status.busy": "2024-11-06T13:29:24.366129Z",
     "iopub.status.idle": "2024-11-06T13:29:24.404869Z",
     "shell.execute_reply": "2024-11-06T13:29:24.404635Z"
    },
    "papermill": {
     "duration": 0.044721,
     "end_time": "2024-11-06T13:29:24.405869",
     "exception": false,
     "start_time": "2024-11-06T13:29:24.361148",
     "status": "completed"
    },
    "tags": []
   },
   "outputs": [],
   "source": [
    "z = encoder(encoder_inputs)[2]\n",
    "vae_outputs = decoder(z)\n",
    "\n",
    "named_outputs = [\n",
    "    layers.Lambda(lambda x: x, name='numerical')(vae_outputs[0]),\n",
    "    layers.Lambda(lambda x: x, name='binary')(vae_outputs[1]),\n",
    "    layers.Lambda(lambda x: x, name='foot_risk')(vae_outputs[2]),\n",
    "    layers.Lambda(lambda x: x, name='eye_risk')(vae_outputs[3]),\n",
    "    layers.Lambda(lambda x: x, name='dm_type')(vae_outputs[4]),\n",
    "    layers.Lambda(lambda x: x, name='smoking')(vae_outputs[5])\n",
    "]\n",
    "\n",
    "# Create VAE model with explicitly named outputs\n",
    "vae = Model(encoder_inputs, named_outputs, name='vae')"
   ]
  },
  {
   "cell_type": "markdown",
   "id": "b5886e01",
   "metadata": {
    "papermill": {
     "duration": 0.004712,
     "end_time": "2024-11-06T13:29:24.416355",
     "exception": false,
     "start_time": "2024-11-06T13:29:24.411643",
     "status": "completed"
    },
    "tags": []
   },
   "source": [
    "Prepare input data"
   ]
  },
  {
   "cell_type": "markdown",
   "id": "63750663",
   "metadata": {
    "papermill": {
     "duration": 0.004474,
     "end_time": "2024-11-06T13:29:24.425675",
     "exception": false,
     "start_time": "2024-11-06T13:29:24.421201",
     "status": "completed"
    },
    "tags": []
   },
   "source": [
    "Compile model"
   ]
  },
  {
   "cell_type": "code",
   "execution_count": 72,
   "id": "4fdffc30",
   "metadata": {
    "execution": {
     "iopub.execute_input": "2024-11-06T13:29:24.435421Z",
     "iopub.status.busy": "2024-11-06T13:29:24.435285Z",
     "iopub.status.idle": "2024-11-06T13:29:24.443305Z",
     "shell.execute_reply": "2024-11-06T13:29:24.443078Z"
    },
    "papermill": {
     "duration": 0.013837,
     "end_time": "2024-11-06T13:29:24.444234",
     "exception": false,
     "start_time": "2024-11-06T13:29:24.430397",
     "status": "completed"
    },
    "tags": []
   },
   "outputs": [],
   "source": [
    "binary_weight = 1\n",
    "learning_rate = learning_rate\n",
    "\n",
    "optimizer=Adam(learning_rate=learning_rate, clipvalue=1.0)\n",
    "\n",
    "vae.compile(\n",
    "    optimizer=optimizer,\n",
    "    loss={\n",
    "        'numerical': 'mse',\n",
    "        'binary': 'binary_crossentropy',\n",
    "        'foot_risk': 'sparse_categorical_crossentropy',\n",
    "        'eye_risk': 'sparse_categorical_crossentropy',\n",
    "        'dm_type': 'sparse_categorical_crossentropy',\n",
    "        'smoking': 'sparse_categorical_crossentropy'\n",
    "    },\n",
    "    loss_weights = {\n",
    "    'numerical': 100,  # 111 columns\n",
    "    'binary': binary_weight,     # 63 columns\n",
    "    'foot_risk': 1,\n",
    "    'eye_risk': 1,\n",
    "    'dm_type': 1,\n",
    "    'smoking': 1\n",
    "    },\n",
    "    metrics=['accuracy']\n",
    ")\n",
    "\n",
    "# Define an embedding layer\n",
    "embedding_layer = encoder.get_layer(\"embed_features\")"
   ]
  },
  {
   "cell_type": "code",
   "execution_count": 73,
   "id": "48585935",
   "metadata": {
    "execution": {
     "iopub.execute_input": "2024-11-06T13:29:24.454101Z",
     "iopub.status.busy": "2024-11-06T13:29:24.453947Z",
     "iopub.status.idle": "2024-11-06T13:32:18.072731Z",
     "shell.execute_reply": "2024-11-06T13:32:18.072480Z"
    },
    "papermill": {
     "duration": 173.624273,
     "end_time": "2024-11-06T13:32:18.073375",
     "exception": false,
     "start_time": "2024-11-06T13:29:24.449102",
     "status": "completed"
    },
    "tags": []
   },
   "outputs": [
    {
     "name": "stdout",
     "output_type": "stream",
     "text": [
      "Epoch 1/200\n"
     ]
    },
    {
     "name": "stdout",
     "output_type": "stream",
     "text": [
      "1755/1755 [==============================] - 3s 1ms/step - loss: 1.3479 - numerical_loss: 0.0110 - binary_loss: 0.0158 - foot_risk_loss: 0.0693 - eye_risk_loss: 0.0717 - dm_type_loss: 0.0388 - smoking_loss: 0.0499 - numerical_accuracy: 0.3418 - binary_accuracy: 0.9964 - foot_risk_accuracy: 0.9764 - eye_risk_accuracy: 0.9772 - dm_type_accuracy: 0.9901 - smoking_accuracy: 0.9814 - val_loss: 0.7393 - val_numerical_loss: 0.0071 - val_binary_loss: 8.0258e-04 - val_foot_risk_loss: 0.0037 - val_eye_risk_loss: 0.0078 - val_dm_type_loss: 0.0097 - val_smoking_loss: 0.0040 - val_numerical_accuracy: 0.4231 - val_binary_accuracy: 0.9999 - val_foot_risk_accuracy: 0.9991 - val_eye_risk_accuracy: 0.9978 - val_dm_type_accuracy: 0.9969 - val_smoking_accuracy: 0.9989\n",
      "Epoch 2/200\n",
      "1755/1755 [==============================] - 2s 1ms/step - loss: 23.8090 - numerical_loss: 0.0067 - binary_loss: 0.0051 - foot_risk_loss: 0.0095 - eye_risk_loss: 0.0120 - dm_type_loss: 0.0102 - smoking_loss: 0.0068 - numerical_accuracy: 0.4215 - binary_accuracy: 0.9987 - foot_risk_accuracy: 0.9979 - eye_risk_accuracy: 0.9970 - dm_type_accuracy: 0.9970 - smoking_accuracy: 0.9984 - val_loss: 30.3612 - val_numerical_loss: 0.0063 - val_binary_loss: 4.7411e-04 - val_foot_risk_loss: 0.0063 - val_eye_risk_loss: 0.0086 - val_dm_type_loss: 0.0062 - val_smoking_loss: 8.3578e-04 - val_numerical_accuracy: 0.4539 - val_binary_accuracy: 0.9999 - val_foot_risk_accuracy: 0.9985 - val_eye_risk_accuracy: 0.9976 - val_dm_type_accuracy: 0.9980 - val_smoking_accuracy: 0.9999\n",
      "Epoch 3/200\n",
      "1755/1755 [==============================] - 2s 1ms/step - loss: 70.0753 - numerical_loss: 0.0059 - binary_loss: 0.0033 - foot_risk_loss: 0.0075 - eye_risk_loss: 0.0082 - dm_type_loss: 0.0073 - smoking_loss: 0.0056 - numerical_accuracy: 0.4313 - binary_accuracy: 0.9993 - foot_risk_accuracy: 0.9979 - eye_risk_accuracy: 0.9980 - dm_type_accuracy: 0.9976 - smoking_accuracy: 0.9984 - val_loss: 89.7137 - val_numerical_loss: 0.0049 - val_binary_loss: 2.8007e-04 - val_foot_risk_loss: 0.0188 - val_eye_risk_loss: 0.0071 - val_dm_type_loss: 0.0042 - val_smoking_loss: 8.2053e-04 - val_numerical_accuracy: 0.4874 - val_binary_accuracy: 0.9999 - val_foot_risk_accuracy: 0.9940 - val_eye_risk_accuracy: 0.9977 - val_dm_type_accuracy: 0.9985 - val_smoking_accuracy: 1.0000\n",
      "Epoch 4/200\n",
      "1755/1755 [==============================] - 2s 1ms/step - loss: 148.8435 - numerical_loss: 0.0054 - binary_loss: 0.0035 - foot_risk_loss: 0.0072 - eye_risk_loss: 0.0073 - dm_type_loss: 0.0061 - smoking_loss: 0.0052 - numerical_accuracy: 0.4424 - binary_accuracy: 0.9990 - foot_risk_accuracy: 0.9980 - eye_risk_accuracy: 0.9979 - dm_type_accuracy: 0.9980 - smoking_accuracy: 0.9987 - val_loss: 177.3111 - val_numerical_loss: 0.0049 - val_binary_loss: 2.3415e-04 - val_foot_risk_loss: 0.0073 - val_eye_risk_loss: 0.0084 - val_dm_type_loss: 0.0049 - val_smoking_loss: 0.0037 - val_numerical_accuracy: 0.4843 - val_binary_accuracy: 1.0000 - val_foot_risk_accuracy: 0.9987 - val_eye_risk_accuracy: 0.9984 - val_dm_type_accuracy: 0.9984 - val_smoking_accuracy: 0.9985\n",
      "Epoch 5/200\n",
      "1755/1755 [==============================] - 2s 1ms/step - loss: 263.2607 - numerical_loss: 0.0050 - binary_loss: 0.0025 - foot_risk_loss: 0.0053 - eye_risk_loss: 0.0056 - dm_type_loss: 0.0046 - smoking_loss: 0.0043 - numerical_accuracy: 0.4496 - binary_accuracy: 0.9994 - foot_risk_accuracy: 0.9986 - eye_risk_accuracy: 0.9985 - dm_type_accuracy: 0.9986 - smoking_accuracy: 0.9989 - val_loss: 315.0030 - val_numerical_loss: 0.0052 - val_binary_loss: 4.3700e-04 - val_foot_risk_loss: 0.0034 - val_eye_risk_loss: 7.6724e-04 - val_dm_type_loss: 0.0041 - val_smoking_loss: 5.6513e-04 - val_numerical_accuracy: 0.4715 - val_binary_accuracy: 1.0000 - val_foot_risk_accuracy: 0.9990 - val_eye_risk_accuracy: 0.9998 - val_dm_type_accuracy: 0.9990 - val_smoking_accuracy: 0.9999\n",
      "Epoch 6/200\n",
      "1755/1755 [==============================] - 2s 1ms/step - loss: 417.9879 - numerical_loss: 0.0048 - binary_loss: 0.0027 - foot_risk_loss: 0.0051 - eye_risk_loss: 0.0048 - dm_type_loss: 0.0036 - smoking_loss: 0.0035 - numerical_accuracy: 0.4589 - binary_accuracy: 0.9993 - foot_risk_accuracy: 0.9987 - eye_risk_accuracy: 0.9988 - dm_type_accuracy: 0.9991 - smoking_accuracy: 0.9991 - val_loss: 466.4080 - val_numerical_loss: 0.0040 - val_binary_loss: 0.0012 - val_foot_risk_loss: 0.0010 - val_eye_risk_loss: 0.0046 - val_dm_type_loss: 0.0050 - val_smoking_loss: 5.2592e-04 - val_numerical_accuracy: 0.4973 - val_binary_accuracy: 0.9998 - val_foot_risk_accuracy: 0.9999 - val_eye_risk_accuracy: 0.9990 - val_dm_type_accuracy: 0.9986 - val_smoking_accuracy: 1.0000\n",
      "Epoch 7/200\n",
      "1755/1755 [==============================] - 2s 1ms/step - loss: 611.5959 - numerical_loss: 0.0046 - binary_loss: 0.0021 - foot_risk_loss: 0.0052 - eye_risk_loss: 0.0049 - dm_type_loss: 0.0037 - smoking_loss: 0.0033 - numerical_accuracy: 0.4703 - binary_accuracy: 0.9995 - foot_risk_accuracy: 0.9985 - eye_risk_accuracy: 0.9987 - dm_type_accuracy: 0.9988 - smoking_accuracy: 0.9990 - val_loss: 674.1323 - val_numerical_loss: 0.0035 - val_binary_loss: 3.9657e-04 - val_foot_risk_loss: 0.0013 - val_eye_risk_loss: 8.3447e-04 - val_dm_type_loss: 0.0038 - val_smoking_loss: 0.0036 - val_numerical_accuracy: 0.5050 - val_binary_accuracy: 0.9999 - val_foot_risk_accuracy: 0.9999 - val_eye_risk_accuracy: 0.9998 - val_dm_type_accuracy: 0.9989 - val_smoking_accuracy: 0.9989\n",
      "Epoch 8/200\n",
      "1755/1755 [==============================] - 2s 1ms/step - loss: 846.7302 - numerical_loss: 0.0044 - binary_loss: 0.0021 - foot_risk_loss: 0.0038 - eye_risk_loss: 0.0045 - dm_type_loss: 0.0031 - smoking_loss: 0.0026 - numerical_accuracy: 0.4790 - binary_accuracy: 0.9995 - foot_risk_accuracy: 0.9987 - eye_risk_accuracy: 0.9988 - dm_type_accuracy: 0.9991 - smoking_accuracy: 0.9993 - val_loss: 942.0268 - val_numerical_loss: 0.0036 - val_binary_loss: 6.1407e-04 - val_foot_risk_loss: 1.2206e-04 - val_eye_risk_loss: 7.7794e-04 - val_dm_type_loss: 0.0022 - val_smoking_loss: 5.2202e-04 - val_numerical_accuracy: 0.4822 - val_binary_accuracy: 0.9999 - val_foot_risk_accuracy: 1.0000 - val_eye_risk_accuracy: 0.9999 - val_dm_type_accuracy: 0.9994 - val_smoking_accuracy: 0.9999\n",
      "Epoch 9/200\n",
      "1755/1755 [==============================] - 2s 1ms/step - loss: 1127.4933 - numerical_loss: 0.0042 - binary_loss: 0.0015 - foot_risk_loss: 0.0036 - eye_risk_loss: 0.0040 - dm_type_loss: 0.0031 - smoking_loss: 0.0026 - numerical_accuracy: 0.4847 - binary_accuracy: 0.9996 - foot_risk_accuracy: 0.9990 - eye_risk_accuracy: 0.9988 - dm_type_accuracy: 0.9992 - smoking_accuracy: 0.9992 - val_loss: 1255.8127 - val_numerical_loss: 0.0029 - val_binary_loss: 2.1976e-04 - val_foot_risk_loss: 0.0015 - val_eye_risk_loss: 6.8349e-04 - val_dm_type_loss: 0.0022 - val_smoking_loss: 7.8000e-05 - val_numerical_accuracy: 0.5369 - val_binary_accuracy: 0.9999 - val_foot_risk_accuracy: 0.9995 - val_eye_risk_accuracy: 1.0000 - val_dm_type_accuracy: 0.9994 - val_smoking_accuracy: 1.0000\n",
      "Epoch 10/200\n",
      "1755/1755 [==============================] - 2s 1ms/step - loss: 1500.1450 - numerical_loss: 0.0040 - binary_loss: 0.0020 - foot_risk_loss: 0.0038 - eye_risk_loss: 0.0043 - dm_type_loss: 0.0023 - smoking_loss: 0.0023 - numerical_accuracy: 0.4876 - binary_accuracy: 0.9995 - foot_risk_accuracy: 0.9988 - eye_risk_accuracy: 0.9987 - dm_type_accuracy: 0.9993 - smoking_accuracy: 0.9994 - val_loss: 1638.3834 - val_numerical_loss: 0.0033 - val_binary_loss: 2.9735e-04 - val_foot_risk_loss: 3.4510e-04 - val_eye_risk_loss: 9.0338e-04 - val_dm_type_loss: 0.0028 - val_smoking_loss: 4.5081e-05 - val_numerical_accuracy: 0.5423 - val_binary_accuracy: 0.9999 - val_foot_risk_accuracy: 1.0000 - val_eye_risk_accuracy: 0.9999 - val_dm_type_accuracy: 0.9994 - val_smoking_accuracy: 1.0000\n",
      "Epoch 11/200\n",
      "1755/1755 [==============================] - 2s 1ms/step - loss: 1941.0101 - numerical_loss: 0.0039 - binary_loss: 0.0014 - foot_risk_loss: 0.0033 - eye_risk_loss: 0.0038 - dm_type_loss: 0.0025 - smoking_loss: 0.0019 - numerical_accuracy: 0.4899 - binary_accuracy: 0.9996 - foot_risk_accuracy: 0.9990 - eye_risk_accuracy: 0.9989 - dm_type_accuracy: 0.9992 - smoking_accuracy: 0.9995 - val_loss: 2177.6262 - val_numerical_loss: 0.0037 - val_binary_loss: 3.2969e-05 - val_foot_risk_loss: 0.0015 - val_eye_risk_loss: 0.0026 - val_dm_type_loss: 0.0051 - val_smoking_loss: 1.7181e-04 - val_numerical_accuracy: 0.5418 - val_binary_accuracy: 1.0000 - val_foot_risk_accuracy: 0.9996 - val_eye_risk_accuracy: 0.9996 - val_dm_type_accuracy: 0.9986 - val_smoking_accuracy: 1.0000\n",
      "Epoch 12/200\n",
      "1755/1755 [==============================] - 2s 1ms/step - loss: 2480.6704 - numerical_loss: 0.0037 - binary_loss: 0.0010 - foot_risk_loss: 0.0032 - eye_risk_loss: 0.0034 - dm_type_loss: 0.0026 - smoking_loss: 0.0025 - numerical_accuracy: 0.4926 - binary_accuracy: 0.9998 - foot_risk_accuracy: 0.9991 - eye_risk_accuracy: 0.9991 - dm_type_accuracy: 0.9991 - smoking_accuracy: 0.9993 - val_loss: 2683.7751 - val_numerical_loss: 0.0032 - val_binary_loss: 3.6344e-05 - val_foot_risk_loss: 0.0015 - val_eye_risk_loss: 8.3671e-04 - val_dm_type_loss: 0.0024 - val_smoking_loss: 2.8504e-05 - val_numerical_accuracy: 0.5262 - val_binary_accuracy: 1.0000 - val_foot_risk_accuracy: 0.9997 - val_eye_risk_accuracy: 0.9999 - val_dm_type_accuracy: 0.9995 - val_smoking_accuracy: 1.0000\n",
      "Epoch 13/200\n",
      "1755/1755 [==============================] - 2s 1ms/step - loss: 3045.4285 - numerical_loss: 0.0036 - binary_loss: 0.0011 - foot_risk_loss: 0.0035 - eye_risk_loss: 0.0031 - dm_type_loss: 0.0022 - smoking_loss: 0.0020 - numerical_accuracy: 0.4959 - binary_accuracy: 0.9998 - foot_risk_accuracy: 0.9991 - eye_risk_accuracy: 0.9991 - dm_type_accuracy: 0.9994 - smoking_accuracy: 0.9994 - val_loss: 3290.4688 - val_numerical_loss: 0.0031 - val_binary_loss: 2.0147e-04 - val_foot_risk_loss: 8.2287e-04 - val_eye_risk_loss: 7.0906e-04 - val_dm_type_loss: 0.0017 - val_smoking_loss: 2.6059e-04 - val_numerical_accuracy: 0.5224 - val_binary_accuracy: 0.9999 - val_foot_risk_accuracy: 0.9999 - val_eye_risk_accuracy: 0.9999 - val_dm_type_accuracy: 0.9996 - val_smoking_accuracy: 0.9999\n",
      "Epoch 14/200\n",
      "1755/1755 [==============================] - 2s 1ms/step - loss: 3694.1040 - numerical_loss: 0.0035 - binary_loss: 8.6355e-04 - foot_risk_loss: 0.0030 - eye_risk_loss: 0.0029 - dm_type_loss: 0.0016 - smoking_loss: 0.0018 - numerical_accuracy: 0.4954 - binary_accuracy: 0.9999 - foot_risk_accuracy: 0.9991 - eye_risk_accuracy: 0.9991 - dm_type_accuracy: 0.9996 - smoking_accuracy: 0.9994 - val_loss: 4055.5894 - val_numerical_loss: 0.0027 - val_binary_loss: 0.0017 - val_foot_risk_loss: 9.5004e-04 - val_eye_risk_loss: 0.0076 - val_dm_type_loss: 0.0031 - val_smoking_loss: 8.0623e-05 - val_numerical_accuracy: 0.5557 - val_binary_accuracy: 0.9995 - val_foot_risk_accuracy: 0.9999 - val_eye_risk_accuracy: 0.9969 - val_dm_type_accuracy: 0.9994 - val_smoking_accuracy: 1.0000\n",
      "Epoch 15/200\n",
      "1755/1755 [==============================] - 2s 1ms/step - loss: 4532.2407 - numerical_loss: 0.0034 - binary_loss: 0.0011 - foot_risk_loss: 0.0028 - eye_risk_loss: 0.0031 - dm_type_loss: 0.0016 - smoking_loss: 0.0015 - numerical_accuracy: 0.5054 - binary_accuracy: 0.9999 - foot_risk_accuracy: 0.9991 - eye_risk_accuracy: 0.9991 - dm_type_accuracy: 0.9996 - smoking_accuracy: 0.9995 - val_loss: 4813.9185 - val_numerical_loss: 0.0026 - val_binary_loss: 1.9763e-04 - val_foot_risk_loss: 1.8704e-04 - val_eye_risk_loss: 8.9831e-04 - val_dm_type_loss: 0.0017 - val_smoking_loss: 1.7765e-05 - val_numerical_accuracy: 0.5545 - val_binary_accuracy: 0.9999 - val_foot_risk_accuracy: 1.0000 - val_eye_risk_accuracy: 0.9999 - val_dm_type_accuracy: 0.9995 - val_smoking_accuracy: 1.0000\n",
      "Epoch 16/200\n",
      "1755/1755 [==============================] - 2s 1ms/step - loss: 5390.7471 - numerical_loss: 0.0033 - binary_loss: 0.0010 - foot_risk_loss: 0.0024 - eye_risk_loss: 0.0031 - dm_type_loss: 0.0020 - smoking_loss: 0.0024 - numerical_accuracy: 0.5061 - binary_accuracy: 0.9998 - foot_risk_accuracy: 0.9994 - eye_risk_accuracy: 0.9991 - dm_type_accuracy: 0.9994 - smoking_accuracy: 0.9994 - val_loss: 5874.7910 - val_numerical_loss: 0.0030 - val_binary_loss: 1.3261e-04 - val_foot_risk_loss: 2.9228e-04 - val_eye_risk_loss: 0.0011 - val_dm_type_loss: 0.0494 - val_smoking_loss: 1.6087e-04 - val_numerical_accuracy: 0.5382 - val_binary_accuracy: 1.0000 - val_foot_risk_accuracy: 1.0000 - val_eye_risk_accuracy: 0.9996 - val_dm_type_accuracy: 0.9840 - val_smoking_accuracy: 0.9999\n",
      "Epoch 17/200\n",
      "1755/1755 [==============================] - 2s 1ms/step - loss: 6587.1450 - numerical_loss: 0.0032 - binary_loss: 8.4164e-04 - foot_risk_loss: 0.0021 - eye_risk_loss: 0.0028 - dm_type_loss: 0.0012 - smoking_loss: 9.8913e-04 - numerical_accuracy: 0.5139 - binary_accuracy: 0.9998 - foot_risk_accuracy: 0.9994 - eye_risk_accuracy: 0.9991 - dm_type_accuracy: 0.9996 - smoking_accuracy: 0.9998 - val_loss: 7083.2861 - val_numerical_loss: 0.0022 - val_binary_loss: 0.0057 - val_foot_risk_loss: 1.0018e-04 - val_eye_risk_loss: 2.1828e-04 - val_dm_type_loss: 0.0031 - val_smoking_loss: 3.8351e-05 - val_numerical_accuracy: 0.5487 - val_binary_accuracy: 0.9984 - val_foot_risk_accuracy: 1.0000 - val_eye_risk_accuracy: 1.0000 - val_dm_type_accuracy: 0.9991 - val_smoking_accuracy: 1.0000\n",
      "Epoch 18/200\n",
      "1755/1755 [==============================] - 2s 1ms/step - loss: 8007.6646 - numerical_loss: 0.0032 - binary_loss: 9.7250e-04 - foot_risk_loss: 0.0030 - eye_risk_loss: 0.0021 - dm_type_loss: 0.0015 - smoking_loss: 0.0017 - numerical_accuracy: 0.5139 - binary_accuracy: 0.9998 - foot_risk_accuracy: 0.9990 - eye_risk_accuracy: 0.9994 - dm_type_accuracy: 0.9996 - smoking_accuracy: 0.9994 - val_loss: 8815.2441 - val_numerical_loss: 0.0027 - val_binary_loss: 9.7129e-04 - val_foot_risk_loss: 9.0322e-04 - val_eye_risk_loss: 0.0011 - val_dm_type_loss: 0.0032 - val_smoking_loss: 3.3643e-04 - val_numerical_accuracy: 0.5396 - val_binary_accuracy: 0.9999 - val_foot_risk_accuracy: 0.9997 - val_eye_risk_accuracy: 0.9997 - val_dm_type_accuracy: 0.9994 - val_smoking_accuracy: 0.9999\n",
      "Epoch 19/200\n",
      "1755/1755 [==============================] - 2s 1ms/step - loss: 9444.8174 - numerical_loss: 0.0031 - binary_loss: 6.9625e-04 - foot_risk_loss: 0.0017 - eye_risk_loss: 0.0023 - dm_type_loss: 0.0015 - smoking_loss: 0.0013 - numerical_accuracy: 0.5183 - binary_accuracy: 0.9998 - foot_risk_accuracy: 0.9995 - eye_risk_accuracy: 0.9993 - dm_type_accuracy: 0.9996 - smoking_accuracy: 0.9996 - val_loss: 10118.0986 - val_numerical_loss: 0.0025 - val_binary_loss: 5.0614e-04 - val_foot_risk_loss: 0.0053 - val_eye_risk_loss: 0.0089 - val_dm_type_loss: 0.0037 - val_smoking_loss: 0.0095 - val_numerical_accuracy: 0.5584 - val_binary_accuracy: 0.9999 - val_foot_risk_accuracy: 0.9984 - val_eye_risk_accuracy: 0.9969 - val_dm_type_accuracy: 0.9991 - val_smoking_accuracy: 0.9974\n",
      "Epoch 20/200\n",
      "1755/1755 [==============================] - 2s 1ms/step - loss: 11124.5088 - numerical_loss: 0.0030 - binary_loss: 0.0011 - foot_risk_loss: 0.0022 - eye_risk_loss: 0.0022 - dm_type_loss: 0.0013 - smoking_loss: 0.0013 - numerical_accuracy: 0.5240 - binary_accuracy: 0.9998 - foot_risk_accuracy: 0.9994 - eye_risk_accuracy: 0.9994 - dm_type_accuracy: 0.9996 - smoking_accuracy: 0.9997 - val_loss: 12113.1201 - val_numerical_loss: 0.0022 - val_binary_loss: 1.3864e-04 - val_foot_risk_loss: 7.9731e-05 - val_eye_risk_loss: 5.7695e-04 - val_dm_type_loss: 0.0033 - val_smoking_loss: 3.7458e-05 - val_numerical_accuracy: 0.5967 - val_binary_accuracy: 0.9999 - val_foot_risk_accuracy: 1.0000 - val_eye_risk_accuracy: 0.9998 - val_dm_type_accuracy: 0.9990 - val_smoking_accuracy: 1.0000\n",
      "Epoch 21/200\n",
      "1755/1755 [==============================] - 2s 1ms/step - loss: 13016.3477 - numerical_loss: 0.0030 - binary_loss: 5.6682e-04 - foot_risk_loss: 0.0019 - eye_risk_loss: 0.0023 - dm_type_loss: 0.0013 - smoking_loss: 0.0019 - numerical_accuracy: 0.5224 - binary_accuracy: 0.9998 - foot_risk_accuracy: 0.9995 - eye_risk_accuracy: 0.9994 - dm_type_accuracy: 0.9997 - smoking_accuracy: 0.9994 - val_loss: 13332.3906 - val_numerical_loss: 0.0024 - val_binary_loss: 0.0085 - val_foot_risk_loss: 1.4125e-04 - val_eye_risk_loss: 3.6616e-04 - val_dm_type_loss: 0.0025 - val_smoking_loss: 1.7817e-05 - val_numerical_accuracy: 0.5684 - val_binary_accuracy: 0.9976 - val_foot_risk_accuracy: 1.0000 - val_eye_risk_accuracy: 0.9999 - val_dm_type_accuracy: 0.9993 - val_smoking_accuracy: 1.0000\n",
      "Epoch 22/200\n",
      "1755/1755 [==============================] - 2s 1ms/step - loss: 14752.2695 - numerical_loss: 0.0029 - binary_loss: 7.2272e-04 - foot_risk_loss: 0.0016 - eye_risk_loss: 0.0023 - dm_type_loss: 0.0014 - smoking_loss: 4.1696e-04 - numerical_accuracy: 0.5219 - binary_accuracy: 0.9998 - foot_risk_accuracy: 0.9996 - eye_risk_accuracy: 0.9993 - dm_type_accuracy: 0.9996 - smoking_accuracy: 0.9999 - val_loss: 15327.9814 - val_numerical_loss: 0.0019 - val_binary_loss: 6.5961e-04 - val_foot_risk_loss: 8.5931e-05 - val_eye_risk_loss: 4.1592e-04 - val_dm_type_loss: 0.0029 - val_smoking_loss: 4.5911e-06 - val_numerical_accuracy: 0.5824 - val_binary_accuracy: 0.9998 - val_foot_risk_accuracy: 1.0000 - val_eye_risk_accuracy: 0.9999 - val_dm_type_accuracy: 0.9993 - val_smoking_accuracy: 1.0000\n",
      "Epoch 23/200\n",
      "1755/1755 [==============================] - 2s 1ms/step - loss: 16822.0879 - numerical_loss: 0.0029 - binary_loss: 7.0293e-04 - foot_risk_loss: 0.0020 - eye_risk_loss: 0.0027 - dm_type_loss: 0.0014 - smoking_loss: 0.0018 - numerical_accuracy: 0.5252 - binary_accuracy: 0.9998 - foot_risk_accuracy: 0.9995 - eye_risk_accuracy: 0.9992 - dm_type_accuracy: 0.9996 - smoking_accuracy: 0.9995 - val_loss: 17691.7793 - val_numerical_loss: 0.0023 - val_binary_loss: 4.0255e-05 - val_foot_risk_loss: 0.0022 - val_eye_risk_loss: 3.9011e-04 - val_dm_type_loss: 0.0032 - val_smoking_loss: 0.0060 - val_numerical_accuracy: 0.5689 - val_binary_accuracy: 1.0000 - val_foot_risk_accuracy: 0.9994 - val_eye_risk_accuracy: 0.9999 - val_dm_type_accuracy: 0.9987 - val_smoking_accuracy: 0.9976\n",
      "Epoch 24/200\n",
      "1755/1755 [==============================] - 2s 1ms/step - loss: 18862.1758 - numerical_loss: 0.0028 - binary_loss: 6.8565e-04 - foot_risk_loss: 0.0019 - eye_risk_loss: 0.0016 - dm_type_loss: 0.0011 - smoking_loss: 4.9581e-04 - numerical_accuracy: 0.5322 - binary_accuracy: 0.9999 - foot_risk_accuracy: 0.9994 - eye_risk_accuracy: 0.9995 - dm_type_accuracy: 0.9996 - smoking_accuracy: 0.9999 - val_loss: 19603.3691 - val_numerical_loss: 0.0016 - val_binary_loss: 1.2585e-04 - val_foot_risk_loss: 3.1529e-05 - val_eye_risk_loss: 4.0066e-04 - val_dm_type_loss: 0.0024 - val_smoking_loss: 1.4235e-05 - val_numerical_accuracy: 0.5937 - val_binary_accuracy: 1.0000 - val_foot_risk_accuracy: 1.0000 - val_eye_risk_accuracy: 0.9999 - val_dm_type_accuracy: 0.9994 - val_smoking_accuracy: 1.0000\n",
      "Epoch 25/200\n",
      "1755/1755 [==============================] - 2s 1ms/step - loss: 20779.0898 - numerical_loss: 0.0028 - binary_loss: 0.0011 - foot_risk_loss: 0.0013 - eye_risk_loss: 0.0020 - dm_type_loss: 9.6302e-04 - smoking_loss: 6.0030e-04 - numerical_accuracy: 0.5281 - binary_accuracy: 0.9997 - foot_risk_accuracy: 0.9997 - eye_risk_accuracy: 0.9995 - dm_type_accuracy: 0.9998 - smoking_accuracy: 0.9999 - val_loss: 21770.1270 - val_numerical_loss: 0.0021 - val_binary_loss: 1.8529e-04 - val_foot_risk_loss: 0.0019 - val_eye_risk_loss: 9.0878e-04 - val_dm_type_loss: 0.0293 - val_smoking_loss: 8.5754e-06 - val_numerical_accuracy: 0.4968 - val_binary_accuracy: 0.9999 - val_foot_risk_accuracy: 0.9995 - val_eye_risk_accuracy: 0.9997 - val_dm_type_accuracy: 0.9901 - val_smoking_accuracy: 1.0000\n",
      "Epoch 26/200\n",
      "1755/1755 [==============================] - 2s 1ms/step - loss: 23405.1016 - numerical_loss: 0.0028 - binary_loss: 4.8544e-04 - foot_risk_loss: 0.0017 - eye_risk_loss: 0.0015 - dm_type_loss: 0.0010 - smoking_loss: 0.0012 - numerical_accuracy: 0.5306 - binary_accuracy: 0.9999 - foot_risk_accuracy: 0.9995 - eye_risk_accuracy: 0.9996 - dm_type_accuracy: 0.9997 - smoking_accuracy: 0.9997 - val_loss: 24362.9785 - val_numerical_loss: 0.0016 - val_binary_loss: 1.7604e-04 - val_foot_risk_loss: 7.6629e-05 - val_eye_risk_loss: 2.0965e-04 - val_dm_type_loss: 0.0031 - val_smoking_loss: 1.7182e-05 - val_numerical_accuracy: 0.5734 - val_binary_accuracy: 1.0000 - val_foot_risk_accuracy: 1.0000 - val_eye_risk_accuracy: 1.0000 - val_dm_type_accuracy: 0.9992 - val_smoking_accuracy: 1.0000\n",
      "Epoch 27/200\n",
      "1755/1755 [==============================] - 2s 1ms/step - loss: 25595.6016 - numerical_loss: 0.0028 - binary_loss: 8.3526e-04 - foot_risk_loss: 0.0017 - eye_risk_loss: 0.0019 - dm_type_loss: 0.0011 - smoking_loss: 8.0089e-04 - numerical_accuracy: 0.5358 - binary_accuracy: 0.9997 - foot_risk_accuracy: 0.9995 - eye_risk_accuracy: 0.9995 - dm_type_accuracy: 0.9997 - smoking_accuracy: 0.9998 - val_loss: 26795.7227 - val_numerical_loss: 0.0021 - val_binary_loss: 0.0066 - val_foot_risk_loss: 5.4871e-04 - val_eye_risk_loss: 0.0034 - val_dm_type_loss: 0.0044 - val_smoking_loss: 2.9570e-05 - val_numerical_accuracy: 0.5842 - val_binary_accuracy: 0.9974 - val_foot_risk_accuracy: 0.9998 - val_eye_risk_accuracy: 0.9991 - val_dm_type_accuracy: 0.9992 - val_smoking_accuracy: 1.0000\n",
      "Epoch 28/200\n",
      "1755/1755 [==============================] - 2s 1ms/step - loss: 28441.6660 - numerical_loss: 0.0027 - binary_loss: 3.3041e-04 - foot_risk_loss: 0.0022 - eye_risk_loss: 0.0016 - dm_type_loss: 9.6653e-04 - smoking_loss: 0.0013 - numerical_accuracy: 0.5341 - binary_accuracy: 0.9999 - foot_risk_accuracy: 0.9994 - eye_risk_accuracy: 0.9995 - dm_type_accuracy: 0.9996 - smoking_accuracy: 0.9996 - val_loss: 28840.4668 - val_numerical_loss: 0.0018 - val_binary_loss: 1.1343e-04 - val_foot_risk_loss: 1.5718e-04 - val_eye_risk_loss: 5.3149e-04 - val_dm_type_loss: 0.0014 - val_smoking_loss: 8.8035e-04 - val_numerical_accuracy: 0.6061 - val_binary_accuracy: 1.0000 - val_foot_risk_accuracy: 0.9999 - val_eye_risk_accuracy: 0.9999 - val_dm_type_accuracy: 0.9994 - val_smoking_accuracy: 0.9999\n",
      "Epoch 29/200\n",
      "1755/1755 [==============================] - 2s 1ms/step - loss: 30839.7109 - numerical_loss: 0.0027 - binary_loss: 4.4905e-04 - foot_risk_loss: 0.0021 - eye_risk_loss: 0.0017 - dm_type_loss: 7.6843e-04 - smoking_loss: 0.0013 - numerical_accuracy: 0.5366 - binary_accuracy: 1.0000 - foot_risk_accuracy: 0.9994 - eye_risk_accuracy: 0.9995 - dm_type_accuracy: 0.9998 - smoking_accuracy: 0.9997 - val_loss: 31825.0996 - val_numerical_loss: 0.0020 - val_binary_loss: 6.4094e-04 - val_foot_risk_loss: 0.0012 - val_eye_risk_loss: 9.1978e-04 - val_dm_type_loss: 0.0040 - val_smoking_loss: 2.1434e-04 - val_numerical_accuracy: 0.5619 - val_binary_accuracy: 0.9999 - val_foot_risk_accuracy: 0.9996 - val_eye_risk_accuracy: 0.9999 - val_dm_type_accuracy: 0.9992 - val_smoking_accuracy: 0.9999\n",
      "Epoch 30/200\n",
      "1755/1755 [==============================] - 2s 1ms/step - loss: 33843.6055 - numerical_loss: 0.0027 - binary_loss: 9.0375e-04 - foot_risk_loss: 0.0010 - eye_risk_loss: 0.0020 - dm_type_loss: 0.0018 - smoking_loss: 7.8382e-04 - numerical_accuracy: 0.5384 - binary_accuracy: 0.9997 - foot_risk_accuracy: 0.9997 - eye_risk_accuracy: 0.9994 - dm_type_accuracy: 0.9995 - smoking_accuracy: 0.9997 - val_loss: 35895.3906 - val_numerical_loss: 0.0025 - val_binary_loss: 0.0061 - val_foot_risk_loss: 8.7622e-05 - val_eye_risk_loss: 1.6047e-04 - val_dm_type_loss: 0.0047 - val_smoking_loss: 4.4188e-04 - val_numerical_accuracy: 0.5717 - val_binary_accuracy: 0.9979 - val_foot_risk_accuracy: 1.0000 - val_eye_risk_accuracy: 0.9999 - val_dm_type_accuracy: 0.9988 - val_smoking_accuracy: 0.9999\n",
      "Epoch 31/200\n",
      "1755/1755 [==============================] - 2s 1ms/step - loss: 37538.4531 - numerical_loss: 0.0026 - binary_loss: 5.5647e-04 - foot_risk_loss: 0.0017 - eye_risk_loss: 0.0014 - dm_type_loss: 8.9642e-04 - smoking_loss: 5.7197e-04 - numerical_accuracy: 0.5417 - binary_accuracy: 0.9998 - foot_risk_accuracy: 0.9995 - eye_risk_accuracy: 0.9996 - dm_type_accuracy: 0.9998 - smoking_accuracy: 0.9998 - val_loss: 39633.6172 - val_numerical_loss: 0.0018 - val_binary_loss: 1.0093e-04 - val_foot_risk_loss: 2.4589e-05 - val_eye_risk_loss: 1.1456e-04 - val_dm_type_loss: 0.0035 - val_smoking_loss: 2.0694e-04 - val_numerical_accuracy: 0.5950 - val_binary_accuracy: 1.0000 - val_foot_risk_accuracy: 1.0000 - val_eye_risk_accuracy: 1.0000 - val_dm_type_accuracy: 0.9992 - val_smoking_accuracy: 0.9999\n",
      "Epoch 32/200\n",
      "1755/1755 [==============================] - 2s 1ms/step - loss: 40742.0508 - numerical_loss: 0.0026 - binary_loss: 6.9442e-04 - foot_risk_loss: 0.0013 - eye_risk_loss: 0.0017 - dm_type_loss: 0.0015 - smoking_loss: 6.8299e-04 - numerical_accuracy: 0.5408 - binary_accuracy: 0.9998 - foot_risk_accuracy: 0.9996 - eye_risk_accuracy: 0.9994 - dm_type_accuracy: 0.9996 - smoking_accuracy: 0.9998 - val_loss: 42271.5039 - val_numerical_loss: 0.0015 - val_binary_loss: 1.7984e-04 - val_foot_risk_loss: 1.7931e-04 - val_eye_risk_loss: 1.3634e-04 - val_dm_type_loss: 0.0015 - val_smoking_loss: 8.2304e-06 - val_numerical_accuracy: 0.6093 - val_binary_accuracy: 0.9999 - val_foot_risk_accuracy: 1.0000 - val_eye_risk_accuracy: 1.0000 - val_dm_type_accuracy: 0.9994 - val_smoking_accuracy: 1.0000\n",
      "Epoch 33/200\n",
      "1755/1755 [==============================] - 2s 1ms/step - loss: 44525.7148 - numerical_loss: 0.0026 - binary_loss: 5.3211e-04 - foot_risk_loss: 0.0011 - eye_risk_loss: 0.0022 - dm_type_loss: 7.6300e-04 - smoking_loss: 0.0011 - numerical_accuracy: 0.5399 - binary_accuracy: 0.9998 - foot_risk_accuracy: 0.9997 - eye_risk_accuracy: 0.9994 - dm_type_accuracy: 0.9998 - smoking_accuracy: 0.9996 - val_loss: 45367.4570 - val_numerical_loss: 0.0017 - val_binary_loss: 2.5467e-04 - val_foot_risk_loss: 0.0076 - val_eye_risk_loss: 8.6058e-05 - val_dm_type_loss: 0.0046 - val_smoking_loss: 4.6660e-06 - val_numerical_accuracy: 0.5974 - val_binary_accuracy: 0.9999 - val_foot_risk_accuracy: 0.9979 - val_eye_risk_accuracy: 1.0000 - val_dm_type_accuracy: 0.9991 - val_smoking_accuracy: 1.0000\n",
      "Epoch 34/200\n",
      "1755/1755 [==============================] - 2s 1ms/step - loss: 47197.7461 - numerical_loss: 0.0025 - binary_loss: 4.9760e-04 - foot_risk_loss: 8.5675e-04 - eye_risk_loss: 0.0011 - dm_type_loss: 0.0012 - smoking_loss: 5.1636e-04 - numerical_accuracy: 0.5397 - binary_accuracy: 0.9998 - foot_risk_accuracy: 0.9998 - eye_risk_accuracy: 0.9997 - dm_type_accuracy: 0.9996 - smoking_accuracy: 0.9999 - val_loss: 47327.8750 - val_numerical_loss: 0.0017 - val_binary_loss: 9.6921e-05 - val_foot_risk_loss: 2.2333e-05 - val_eye_risk_loss: 8.2520e-05 - val_dm_type_loss: 0.0021 - val_smoking_loss: 3.5551e-06 - val_numerical_accuracy: 0.6091 - val_binary_accuracy: 1.0000 - val_foot_risk_accuracy: 1.0000 - val_eye_risk_accuracy: 1.0000 - val_dm_type_accuracy: 0.9994 - val_smoking_accuracy: 1.0000\n",
      "Epoch 35/200\n",
      "1755/1755 [==============================] - 2s 1ms/step - loss: 50864.0273 - numerical_loss: 0.0025 - binary_loss: 6.9147e-04 - foot_risk_loss: 0.0013 - eye_risk_loss: 0.0015 - dm_type_loss: 9.7095e-04 - smoking_loss: 5.8727e-04 - numerical_accuracy: 0.5435 - binary_accuracy: 0.9999 - foot_risk_accuracy: 0.9996 - eye_risk_accuracy: 0.9995 - dm_type_accuracy: 0.9997 - smoking_accuracy: 0.9998 - val_loss: 52457.3828 - val_numerical_loss: 0.0015 - val_binary_loss: 2.5336e-04 - val_foot_risk_loss: 1.2883e-05 - val_eye_risk_loss: 1.2746e-04 - val_dm_type_loss: 0.0038 - val_smoking_loss: 7.2557e-06 - val_numerical_accuracy: 0.6094 - val_binary_accuracy: 0.9999 - val_foot_risk_accuracy: 1.0000 - val_eye_risk_accuracy: 0.9999 - val_dm_type_accuracy: 0.9993 - val_smoking_accuracy: 1.0000\n",
      "Epoch 36/200\n",
      "1755/1755 [==============================] - 2s 1ms/step - loss: 55339.2422 - numerical_loss: 0.0025 - binary_loss: 8.1212e-04 - foot_risk_loss: 0.0012 - eye_risk_loss: 0.0016 - dm_type_loss: 0.0011 - smoking_loss: 6.2073e-04 - numerical_accuracy: 0.5432 - binary_accuracy: 0.9997 - foot_risk_accuracy: 0.9996 - eye_risk_accuracy: 0.9995 - dm_type_accuracy: 0.9996 - smoking_accuracy: 0.9998 - val_loss: 56951.3203 - val_numerical_loss: 0.0016 - val_binary_loss: 3.0588e-04 - val_foot_risk_loss: 1.4010e-05 - val_eye_risk_loss: 4.0314e-04 - val_dm_type_loss: 0.0021 - val_smoking_loss: 1.8888e-05 - val_numerical_accuracy: 0.5897 - val_binary_accuracy: 0.9999 - val_foot_risk_accuracy: 1.0000 - val_eye_risk_accuracy: 0.9999 - val_dm_type_accuracy: 0.9994 - val_smoking_accuracy: 1.0000\n",
      "Epoch 37/200\n",
      "1755/1755 [==============================] - 2s 1ms/step - loss: 59947.7383 - numerical_loss: 0.0025 - binary_loss: 3.7093e-04 - foot_risk_loss: 5.7058e-04 - eye_risk_loss: 0.0023 - dm_type_loss: 0.0011 - smoking_loss: 7.9659e-04 - numerical_accuracy: 0.5475 - binary_accuracy: 0.9999 - foot_risk_accuracy: 0.9999 - eye_risk_accuracy: 0.9993 - dm_type_accuracy: 0.9997 - smoking_accuracy: 0.9998 - val_loss: 61570.6680 - val_numerical_loss: 0.0016 - val_binary_loss: 5.9152e-04 - val_foot_risk_loss: 1.6747e-04 - val_eye_risk_loss: 1.6480e-04 - val_dm_type_loss: 0.0036 - val_smoking_loss: 1.3268e-05 - val_numerical_accuracy: 0.5821 - val_binary_accuracy: 0.9998 - val_foot_risk_accuracy: 1.0000 - val_eye_risk_accuracy: 0.9999 - val_dm_type_accuracy: 0.9993 - val_smoking_accuracy: 1.0000\n",
      "Epoch 38/200\n",
      "1755/1755 [==============================] - 2s 1ms/step - loss: 64806.4805 - numerical_loss: 0.0025 - binary_loss: 5.8789e-04 - foot_risk_loss: 0.0014 - eye_risk_loss: 0.0014 - dm_type_loss: 0.0010 - smoking_loss: 0.0015 - numerical_accuracy: 0.5437 - binary_accuracy: 0.9998 - foot_risk_accuracy: 0.9995 - eye_risk_accuracy: 0.9996 - dm_type_accuracy: 0.9997 - smoking_accuracy: 0.9996 - val_loss: 65550.4375 - val_numerical_loss: 0.0016 - val_binary_loss: 4.8424e-04 - val_foot_risk_loss: 4.5367e-05 - val_eye_risk_loss: 1.0164e-04 - val_dm_type_loss: 0.0030 - val_smoking_loss: 1.6229e-06 - val_numerical_accuracy: 0.6009 - val_binary_accuracy: 0.9998 - val_foot_risk_accuracy: 1.0000 - val_eye_risk_accuracy: 1.0000 - val_dm_type_accuracy: 0.9993 - val_smoking_accuracy: 1.0000\n",
      "Epoch 39/200\n",
      "1755/1755 [==============================] - 2s 1ms/step - loss: 68472.6953 - numerical_loss: 0.0024 - binary_loss: 4.1368e-04 - foot_risk_loss: 0.0011 - eye_risk_loss: 0.0014 - dm_type_loss: 8.2019e-04 - smoking_loss: 6.5391e-04 - numerical_accuracy: 0.5470 - binary_accuracy: 0.9998 - foot_risk_accuracy: 0.9997 - eye_risk_accuracy: 0.9996 - dm_type_accuracy: 0.9997 - smoking_accuracy: 0.9998 - val_loss: 69835.6094 - val_numerical_loss: 0.0014 - val_binary_loss: 2.8449e-04 - val_foot_risk_loss: 3.6125e-05 - val_eye_risk_loss: 1.5152e-04 - val_dm_type_loss: 0.0027 - val_smoking_loss: 5.7308e-06 - val_numerical_accuracy: 0.5980 - val_binary_accuracy: 0.9999 - val_foot_risk_accuracy: 1.0000 - val_eye_risk_accuracy: 0.9999 - val_dm_type_accuracy: 0.9995 - val_smoking_accuracy: 1.0000\n",
      "Epoch 40/200\n",
      "1755/1755 [==============================] - 2s 1ms/step - loss: 73068.4141 - numerical_loss: 0.0024 - binary_loss: 3.9466e-04 - foot_risk_loss: 6.1473e-04 - eye_risk_loss: 0.0023 - dm_type_loss: 0.0011 - smoking_loss: 9.6138e-04 - numerical_accuracy: 0.5442 - binary_accuracy: 0.9998 - foot_risk_accuracy: 1.0000 - eye_risk_accuracy: 0.9992 - dm_type_accuracy: 0.9997 - smoking_accuracy: 0.9997 - val_loss: 74195.8047 - val_numerical_loss: 0.0015 - val_binary_loss: 6.7242e-04 - val_foot_risk_loss: 0.0017 - val_eye_risk_loss: 2.0340e-04 - val_dm_type_loss: 0.0039 - val_smoking_loss: 1.3204e-05 - val_numerical_accuracy: 0.5965 - val_binary_accuracy: 0.9997 - val_foot_risk_accuracy: 0.9993 - val_eye_risk_accuracy: 0.9999 - val_dm_type_accuracy: 0.9993 - val_smoking_accuracy: 1.0000\n",
      "Epoch 41/200\n",
      "1755/1755 [==============================] - 2s 1ms/step - loss: 77974.6641 - numerical_loss: 0.0024 - binary_loss: 4.8101e-04 - foot_risk_loss: 0.0011 - eye_risk_loss: 0.0017 - dm_type_loss: 0.0010 - smoking_loss: 5.5248e-04 - numerical_accuracy: 0.5436 - binary_accuracy: 0.9998 - foot_risk_accuracy: 0.9996 - eye_risk_accuracy: 0.9994 - dm_type_accuracy: 0.9997 - smoking_accuracy: 0.9999 - val_loss: 79197.6406 - val_numerical_loss: 0.0018 - val_binary_loss: 1.1676e-04 - val_foot_risk_loss: 4.2886e-05 - val_eye_risk_loss: 0.0027 - val_dm_type_loss: 0.0035 - val_smoking_loss: 1.0305e-04 - val_numerical_accuracy: 0.5948 - val_binary_accuracy: 1.0000 - val_foot_risk_accuracy: 1.0000 - val_eye_risk_accuracy: 0.9989 - val_dm_type_accuracy: 0.9992 - val_smoking_accuracy: 1.0000\n",
      "Epoch 42/200\n",
      "1755/1755 [==============================] - 2s 1ms/step - loss: 83487.8359 - numerical_loss: 0.0024 - binary_loss: 4.2184e-04 - foot_risk_loss: 0.0012 - eye_risk_loss: 0.0010 - dm_type_loss: 8.1254e-04 - smoking_loss: 3.1879e-04 - numerical_accuracy: 0.5527 - binary_accuracy: 0.9999 - foot_risk_accuracy: 0.9997 - eye_risk_accuracy: 0.9997 - dm_type_accuracy: 0.9998 - smoking_accuracy: 0.9999 - val_loss: 84374.9375 - val_numerical_loss: 0.0015 - val_binary_loss: 1.2180e-04 - val_foot_risk_loss: 1.5071e-05 - val_eye_risk_loss: 0.0020 - val_dm_type_loss: 0.0019 - val_smoking_loss: 6.0773e-06 - val_numerical_accuracy: 0.5965 - val_binary_accuracy: 1.0000 - val_foot_risk_accuracy: 1.0000 - val_eye_risk_accuracy: 0.9994 - val_dm_type_accuracy: 0.9994 - val_smoking_accuracy: 1.0000\n",
      "Epoch 43/200\n",
      "1755/1755 [==============================] - 2s 1ms/step - loss: 88885.6172 - numerical_loss: 0.0024 - binary_loss: 7.7331e-04 - foot_risk_loss: 3.8419e-04 - eye_risk_loss: 0.0010 - dm_type_loss: 5.4678e-04 - smoking_loss: 7.9412e-04 - numerical_accuracy: 0.5500 - binary_accuracy: 0.9998 - foot_risk_accuracy: 0.9999 - eye_risk_accuracy: 0.9997 - dm_type_accuracy: 0.9999 - smoking_accuracy: 0.9998 - val_loss: 89418.3203 - val_numerical_loss: 0.0019 - val_binary_loss: 0.0016 - val_foot_risk_loss: 4.4746e-05 - val_eye_risk_loss: 0.0261 - val_dm_type_loss: 0.0037 - val_smoking_loss: 6.8027e-06 - val_numerical_accuracy: 0.5865 - val_binary_accuracy: 0.9997 - val_foot_risk_accuracy: 1.0000 - val_eye_risk_accuracy: 0.9907 - val_dm_type_accuracy: 0.9992 - val_smoking_accuracy: 1.0000\n",
      "Epoch 44/200\n",
      "1755/1755 [==============================] - 2s 1ms/step - loss: 96474.6484 - numerical_loss: 0.0024 - binary_loss: 2.8010e-04 - foot_risk_loss: 0.0011 - eye_risk_loss: 0.0016 - dm_type_loss: 0.0013 - smoking_loss: 5.7408e-04 - numerical_accuracy: 0.5500 - binary_accuracy: 0.9999 - foot_risk_accuracy: 0.9997 - eye_risk_accuracy: 0.9996 - dm_type_accuracy: 0.9997 - smoking_accuracy: 0.9998 - val_loss: 97607.8281 - val_numerical_loss: 0.0014 - val_binary_loss: 2.1299e-04 - val_foot_risk_loss: 2.2111e-05 - val_eye_risk_loss: 5.4243e-05 - val_dm_type_loss: 0.0028 - val_smoking_loss: 2.9890e-05 - val_numerical_accuracy: 0.5593 - val_binary_accuracy: 0.9999 - val_foot_risk_accuracy: 1.0000 - val_eye_risk_accuracy: 1.0000 - val_dm_type_accuracy: 0.9995 - val_smoking_accuracy: 1.0000\n",
      "Epoch 45/200\n",
      "1755/1755 [==============================] - 2s 1ms/step - loss: 101910.3516 - numerical_loss: 0.0024 - binary_loss: 6.5408e-04 - foot_risk_loss: 0.0011 - eye_risk_loss: 0.0014 - dm_type_loss: 7.3727e-04 - smoking_loss: 5.2805e-04 - numerical_accuracy: 0.5514 - binary_accuracy: 0.9998 - foot_risk_accuracy: 0.9996 - eye_risk_accuracy: 0.9996 - dm_type_accuracy: 0.9998 - smoking_accuracy: 0.9998 - val_loss: 104340.1406 - val_numerical_loss: 0.0016 - val_binary_loss: 5.6554e-05 - val_foot_risk_loss: 1.6535e-05 - val_eye_risk_loss: 1.8201e-04 - val_dm_type_loss: 0.0030 - val_smoking_loss: 3.3901e-06 - val_numerical_accuracy: 0.6049 - val_binary_accuracy: 1.0000 - val_foot_risk_accuracy: 1.0000 - val_eye_risk_accuracy: 0.9999 - val_dm_type_accuracy: 0.9993 - val_smoking_accuracy: 1.0000\n",
      "Epoch 46/200\n",
      "1755/1755 [==============================] - 2s 1ms/step - loss: 107538.8281 - numerical_loss: 0.0024 - binary_loss: 2.3950e-04 - foot_risk_loss: 4.4328e-04 - eye_risk_loss: 0.0024 - dm_type_loss: 0.0012 - smoking_loss: 3.9632e-04 - numerical_accuracy: 0.5507 - binary_accuracy: 0.9999 - foot_risk_accuracy: 0.9999 - eye_risk_accuracy: 0.9994 - dm_type_accuracy: 0.9996 - smoking_accuracy: 0.9999 - val_loss: 109621.5391 - val_numerical_loss: 0.0014 - val_binary_loss: 3.6378e-04 - val_foot_risk_loss: 1.8964e-04 - val_eye_risk_loss: 1.3329e-04 - val_dm_type_loss: 0.0031 - val_smoking_loss: 5.6901e-06 - val_numerical_accuracy: 0.6143 - val_binary_accuracy: 0.9999 - val_foot_risk_accuracy: 1.0000 - val_eye_risk_accuracy: 1.0000 - val_dm_type_accuracy: 0.9995 - val_smoking_accuracy: 1.0000\n",
      "Epoch 47/200\n",
      "1755/1755 [==============================] - 2s 1ms/step - loss: 113200.4531 - numerical_loss: 0.0023 - binary_loss: 5.1183e-04 - foot_risk_loss: 4.9810e-04 - eye_risk_loss: 0.0013 - dm_type_loss: 5.0510e-04 - smoking_loss: 7.9325e-04 - numerical_accuracy: 0.5494 - binary_accuracy: 0.9998 - foot_risk_accuracy: 0.9999 - eye_risk_accuracy: 0.9996 - dm_type_accuracy: 0.9999 - smoking_accuracy: 0.9998 - val_loss: 115363.8906 - val_numerical_loss: 0.0015 - val_binary_loss: 8.1585e-05 - val_foot_risk_loss: 3.0510e-05 - val_eye_risk_loss: 0.0011 - val_dm_type_loss: 0.0042 - val_smoking_loss: 4.6045e-06 - val_numerical_accuracy: 0.6035 - val_binary_accuracy: 1.0000 - val_foot_risk_accuracy: 1.0000 - val_eye_risk_accuracy: 0.9995 - val_dm_type_accuracy: 0.9993 - val_smoking_accuracy: 1.0000\n",
      "Epoch 48/200\n",
      "1755/1755 [==============================] - 2s 1ms/step - loss: 118095.2578 - numerical_loss: 0.0023 - binary_loss: 5.2105e-04 - foot_risk_loss: 8.0878e-04 - eye_risk_loss: 0.0013 - dm_type_loss: 6.6749e-04 - smoking_loss: 7.9157e-04 - numerical_accuracy: 0.5522 - binary_accuracy: 0.9998 - foot_risk_accuracy: 0.9998 - eye_risk_accuracy: 0.9996 - dm_type_accuracy: 0.9998 - smoking_accuracy: 0.9997 - val_loss: 118785.5078 - val_numerical_loss: 0.0017 - val_binary_loss: 4.3483e-04 - val_foot_risk_loss: 6.1734e-05 - val_eye_risk_loss: 0.0036 - val_dm_type_loss: 0.0033 - val_smoking_loss: 9.5399e-05 - val_numerical_accuracy: 0.6049 - val_binary_accuracy: 0.9998 - val_foot_risk_accuracy: 1.0000 - val_eye_risk_accuracy: 0.9994 - val_dm_type_accuracy: 0.9994 - val_smoking_accuracy: 1.0000\n",
      "Epoch 49/200\n",
      "1755/1755 [==============================] - 2s 1ms/step - loss: 124355.0078 - numerical_loss: 0.0023 - binary_loss: 2.9337e-04 - foot_risk_loss: 4.0768e-04 - eye_risk_loss: 0.0023 - dm_type_loss: 9.4429e-04 - smoking_loss: 4.2690e-04 - numerical_accuracy: 0.5531 - binary_accuracy: 0.9999 - foot_risk_accuracy: 0.9999 - eye_risk_accuracy: 0.9994 - dm_type_accuracy: 0.9997 - smoking_accuracy: 0.9999 - val_loss: 126511.1328 - val_numerical_loss: 0.0014 - val_binary_loss: 1.7083e-04 - val_foot_risk_loss: 1.7727e-05 - val_eye_risk_loss: 2.7189e-04 - val_dm_type_loss: 0.0033 - val_smoking_loss: 2.6114e-06 - val_numerical_accuracy: 0.6180 - val_binary_accuracy: 1.0000 - val_foot_risk_accuracy: 1.0000 - val_eye_risk_accuracy: 0.9999 - val_dm_type_accuracy: 0.9994 - val_smoking_accuracy: 1.0000\n",
      "Epoch 50/200\n",
      "1755/1755 [==============================] - 2s 1ms/step - loss: 130839.3203 - numerical_loss: 0.0023 - binary_loss: 5.6922e-04 - foot_risk_loss: 5.3640e-04 - eye_risk_loss: 8.8999e-04 - dm_type_loss: 9.8729e-04 - smoking_loss: 4.2941e-04 - numerical_accuracy: 0.5519 - binary_accuracy: 0.9998 - foot_risk_accuracy: 0.9999 - eye_risk_accuracy: 0.9998 - dm_type_accuracy: 0.9997 - smoking_accuracy: 0.9998 - val_loss: 134312.3438 - val_numerical_loss: 0.0016 - val_binary_loss: 5.7100e-05 - val_foot_risk_loss: 5.0183e-04 - val_eye_risk_loss: 4.9137e-04 - val_dm_type_loss: 0.0029 - val_smoking_loss: 9.3347e-07 - val_numerical_accuracy: 0.6141 - val_binary_accuracy: 1.0000 - val_foot_risk_accuracy: 0.9999 - val_eye_risk_accuracy: 0.9999 - val_dm_type_accuracy: 0.9994 - val_smoking_accuracy: 1.0000\n",
      "Epoch 51/200\n",
      "1755/1755 [==============================] - 2s 1ms/step - loss: 137872.8438 - numerical_loss: 0.0023 - binary_loss: 3.0126e-04 - foot_risk_loss: 9.9353e-04 - eye_risk_loss: 0.0016 - dm_type_loss: 6.6797e-04 - smoking_loss: 9.4815e-04 - numerical_accuracy: 0.5555 - binary_accuracy: 0.9999 - foot_risk_accuracy: 0.9998 - eye_risk_accuracy: 0.9995 - dm_type_accuracy: 0.9998 - smoking_accuracy: 0.9997 - val_loss: 140296.5781 - val_numerical_loss: 0.0014 - val_binary_loss: 6.7883e-04 - val_foot_risk_loss: 2.8507e-05 - val_eye_risk_loss: 1.1001e-04 - val_dm_type_loss: 0.0050 - val_smoking_loss: 1.0431e-06 - val_numerical_accuracy: 0.5964 - val_binary_accuracy: 0.9999 - val_foot_risk_accuracy: 1.0000 - val_eye_risk_accuracy: 1.0000 - val_dm_type_accuracy: 0.9992 - val_smoking_accuracy: 1.0000\n",
      "Epoch 52/200\n",
      "1755/1755 [==============================] - 2s 1ms/step - loss: 144325.8906 - numerical_loss: 0.0023 - binary_loss: 6.4786e-04 - foot_risk_loss: 5.6961e-04 - eye_risk_loss: 0.0012 - dm_type_loss: 7.9968e-04 - smoking_loss: 2.0501e-04 - numerical_accuracy: 0.5529 - binary_accuracy: 0.9998 - foot_risk_accuracy: 0.9998 - eye_risk_accuracy: 0.9996 - dm_type_accuracy: 0.9998 - smoking_accuracy: 1.0000 - val_loss: 147766.1094 - val_numerical_loss: 0.0013 - val_binary_loss: 7.2343e-05 - val_foot_risk_loss: 2.9901e-05 - val_eye_risk_loss: 2.5297e-04 - val_dm_type_loss: 0.0031 - val_smoking_loss: 5.6825e-06 - val_numerical_accuracy: 0.5655 - val_binary_accuracy: 1.0000 - val_foot_risk_accuracy: 1.0000 - val_eye_risk_accuracy: 0.9999 - val_dm_type_accuracy: 0.9994 - val_smoking_accuracy: 1.0000\n",
      "Epoch 53/200\n",
      "1755/1755 [==============================] - 2s 1ms/step - loss: 151928.3594 - numerical_loss: 0.0023 - binary_loss: 3.2626e-04 - foot_risk_loss: 4.6459e-04 - eye_risk_loss: 0.0023 - dm_type_loss: 0.0011 - smoking_loss: 9.3211e-04 - numerical_accuracy: 0.5537 - binary_accuracy: 0.9999 - foot_risk_accuracy: 0.9999 - eye_risk_accuracy: 0.9993 - dm_type_accuracy: 0.9998 - smoking_accuracy: 0.9997 - val_loss: 152983.3750 - val_numerical_loss: 0.0019 - val_binary_loss: 2.6068e-04 - val_foot_risk_loss: 5.6993e-05 - val_eye_risk_loss: 7.8777e-04 - val_dm_type_loss: 0.0031 - val_smoking_loss: 2.5905e-06 - val_numerical_accuracy: 0.6114 - val_binary_accuracy: 0.9999 - val_foot_risk_accuracy: 1.0000 - val_eye_risk_accuracy: 0.9999 - val_dm_type_accuracy: 0.9994 - val_smoking_accuracy: 1.0000\n",
      "Epoch 54/200\n",
      "1755/1755 [==============================] - 2s 1ms/step - loss: 158023.5312 - numerical_loss: 0.0023 - binary_loss: 5.4140e-04 - foot_risk_loss: 4.9873e-04 - eye_risk_loss: 7.9011e-04 - dm_type_loss: 8.1283e-04 - smoking_loss: 2.7988e-04 - numerical_accuracy: 0.5519 - binary_accuracy: 0.9999 - foot_risk_accuracy: 0.9999 - eye_risk_accuracy: 0.9997 - dm_type_accuracy: 0.9998 - smoking_accuracy: 0.9999 - val_loss: 162015.2969 - val_numerical_loss: 0.0017 - val_binary_loss: 0.0024 - val_foot_risk_loss: 3.1867e-05 - val_eye_risk_loss: 2.3666e-04 - val_dm_type_loss: 0.0031 - val_smoking_loss: 1.7852e-06 - val_numerical_accuracy: 0.5962 - val_binary_accuracy: 0.9991 - val_foot_risk_accuracy: 1.0000 - val_eye_risk_accuracy: 0.9999 - val_dm_type_accuracy: 0.9994 - val_smoking_accuracy: 1.0000\n",
      "Epoch 55/200\n",
      "1755/1755 [==============================] - 2s 1ms/step - loss: 163492.9688 - numerical_loss: 0.0023 - binary_loss: 4.4904e-04 - foot_risk_loss: 8.6129e-04 - eye_risk_loss: 0.0013 - dm_type_loss: 5.2882e-04 - smoking_loss: 6.2522e-04 - numerical_accuracy: 0.5527 - binary_accuracy: 0.9999 - foot_risk_accuracy: 0.9998 - eye_risk_accuracy: 0.9996 - dm_type_accuracy: 0.9999 - smoking_accuracy: 0.9998 - val_loss: 164620.6094 - val_numerical_loss: 0.0017 - val_binary_loss: 0.0020 - val_foot_risk_loss: 0.0090 - val_eye_risk_loss: 4.0090e-04 - val_dm_type_loss: 0.0032 - val_smoking_loss: 3.0946e-07 - val_numerical_accuracy: 0.6040 - val_binary_accuracy: 0.9996 - val_foot_risk_accuracy: 0.9979 - val_eye_risk_accuracy: 0.9998 - val_dm_type_accuracy: 0.9993 - val_smoking_accuracy: 1.0000\n",
      "Epoch 56/200\n",
      "1755/1755 [==============================] - 2s 1ms/step - loss: 173068.5312 - numerical_loss: 0.0023 - binary_loss: 3.9917e-04 - foot_risk_loss: 0.0014 - eye_risk_loss: 0.0012 - dm_type_loss: 0.0013 - smoking_loss: 0.0016 - numerical_accuracy: 0.5527 - binary_accuracy: 0.9999 - foot_risk_accuracy: 0.9996 - eye_risk_accuracy: 0.9997 - dm_type_accuracy: 0.9997 - smoking_accuracy: 0.9996 - val_loss: 174306.0312 - val_numerical_loss: 0.0020 - val_binary_loss: 0.0043 - val_foot_risk_loss: 1.6176e-05 - val_eye_risk_loss: 0.0029 - val_dm_type_loss: 0.0036 - val_smoking_loss: 0.0117 - val_numerical_accuracy: 0.5922 - val_binary_accuracy: 0.9984 - val_foot_risk_accuracy: 1.0000 - val_eye_risk_accuracy: 0.9991 - val_dm_type_accuracy: 0.9994 - val_smoking_accuracy: 0.9962\n",
      "Epoch 57/200\n",
      "1755/1755 [==============================] - 2s 1ms/step - loss: 177990.0625 - numerical_loss: 0.0022 - binary_loss: 4.8412e-04 - foot_risk_loss: 6.9057e-04 - eye_risk_loss: 9.4889e-04 - dm_type_loss: 6.1393e-04 - smoking_loss: 4.6472e-04 - numerical_accuracy: 0.5528 - binary_accuracy: 0.9998 - foot_risk_accuracy: 0.9997 - eye_risk_accuracy: 0.9997 - dm_type_accuracy: 0.9998 - smoking_accuracy: 0.9998 - val_loss: 182017.3281 - val_numerical_loss: 0.0014 - val_binary_loss: 2.0418e-04 - val_foot_risk_loss: 1.3364e-05 - val_eye_risk_loss: 3.2450e-04 - val_dm_type_loss: 0.0028 - val_smoking_loss: 1.1311e-06 - val_numerical_accuracy: 0.6091 - val_binary_accuracy: 0.9999 - val_foot_risk_accuracy: 1.0000 - val_eye_risk_accuracy: 0.9999 - val_dm_type_accuracy: 0.9996 - val_smoking_accuracy: 1.0000\n",
      "Epoch 58/200\n",
      "1755/1755 [==============================] - 2s 1ms/step - loss: 185750.3281 - numerical_loss: 0.0022 - binary_loss: 3.1082e-04 - foot_risk_loss: 7.5650e-04 - eye_risk_loss: 0.0013 - dm_type_loss: 9.2150e-04 - smoking_loss: 5.8536e-04 - numerical_accuracy: 0.5533 - binary_accuracy: 0.9999 - foot_risk_accuracy: 0.9998 - eye_risk_accuracy: 0.9996 - dm_type_accuracy: 0.9997 - smoking_accuracy: 0.9998 - val_loss: 187400.2344 - val_numerical_loss: 0.0015 - val_binary_loss: 1.0447e-04 - val_foot_risk_loss: 6.4595e-06 - val_eye_risk_loss: 2.9384e-04 - val_dm_type_loss: 0.0017 - val_smoking_loss: 1.1929e-06 - val_numerical_accuracy: 0.5887 - val_binary_accuracy: 1.0000 - val_foot_risk_accuracy: 1.0000 - val_eye_risk_accuracy: 0.9999 - val_dm_type_accuracy: 0.9996 - val_smoking_accuracy: 1.0000\n",
      "Epoch 59/200\n",
      "1755/1755 [==============================] - 2s 1ms/step - loss: 191368.6250 - numerical_loss: 0.0022 - binary_loss: 4.3456e-04 - foot_risk_loss: 3.4354e-04 - eye_risk_loss: 0.0012 - dm_type_loss: 5.0137e-04 - smoking_loss: 5.0866e-04 - numerical_accuracy: 0.5542 - binary_accuracy: 0.9998 - foot_risk_accuracy: 0.9999 - eye_risk_accuracy: 0.9996 - dm_type_accuracy: 0.9998 - smoking_accuracy: 0.9998 - val_loss: 198384.9062 - val_numerical_loss: 0.0015 - val_binary_loss: 0.0019 - val_foot_risk_loss: 4.0340e-04 - val_eye_risk_loss: 0.0012 - val_dm_type_loss: 0.0037 - val_smoking_loss: 4.0110e-05 - val_numerical_accuracy: 0.5746 - val_binary_accuracy: 0.9993 - val_foot_risk_accuracy: 0.9999 - val_eye_risk_accuracy: 0.9996 - val_dm_type_accuracy: 0.9994 - val_smoking_accuracy: 1.0000\n",
      "Epoch 60/200\n",
      "1755/1755 [==============================] - 2s 1ms/step - loss: 199302.6719 - numerical_loss: 0.0022 - binary_loss: 6.3567e-04 - foot_risk_loss: 7.7833e-04 - eye_risk_loss: 9.6933e-04 - dm_type_loss: 9.0775e-04 - smoking_loss: 3.1970e-04 - numerical_accuracy: 0.5579 - binary_accuracy: 0.9998 - foot_risk_accuracy: 0.9998 - eye_risk_accuracy: 0.9997 - dm_type_accuracy: 0.9998 - smoking_accuracy: 0.9998 - val_loss: 200739.7969 - val_numerical_loss: 0.0014 - val_binary_loss: 1.3669e-04 - val_foot_risk_loss: 1.6758e-05 - val_eye_risk_loss: 5.1185e-05 - val_dm_type_loss: 0.0026 - val_smoking_loss: 2.1579e-04 - val_numerical_accuracy: 0.6221 - val_binary_accuracy: 1.0000 - val_foot_risk_accuracy: 1.0000 - val_eye_risk_accuracy: 1.0000 - val_dm_type_accuracy: 0.9994 - val_smoking_accuracy: 0.9999\n",
      "Epoch 61/200\n",
      "1755/1755 [==============================] - 2s 1ms/step - loss: 206566.5938 - numerical_loss: 0.0022 - binary_loss: 2.4028e-04 - foot_risk_loss: 6.2657e-04 - eye_risk_loss: 0.0012 - dm_type_loss: 6.9533e-04 - smoking_loss: 0.0013 - numerical_accuracy: 0.5578 - binary_accuracy: 0.9999 - foot_risk_accuracy: 0.9998 - eye_risk_accuracy: 0.9996 - dm_type_accuracy: 0.9998 - smoking_accuracy: 0.9996 - val_loss: 208474.3438 - val_numerical_loss: 0.0015 - val_binary_loss: 1.5123e-04 - val_foot_risk_loss: 1.5619e-05 - val_eye_risk_loss: 3.9267e-04 - val_dm_type_loss: 0.0029 - val_smoking_loss: 2.9537e-06 - val_numerical_accuracy: 0.6432 - val_binary_accuracy: 1.0000 - val_foot_risk_accuracy: 1.0000 - val_eye_risk_accuracy: 0.9999 - val_dm_type_accuracy: 0.9995 - val_smoking_accuracy: 1.0000\n",
      "Epoch 62/200\n",
      "1755/1755 [==============================] - 2s 1ms/step - loss: 211389.3125 - numerical_loss: 0.0022 - binary_loss: 2.3065e-04 - foot_risk_loss: 9.6911e-04 - eye_risk_loss: 0.0010 - dm_type_loss: 0.0011 - smoking_loss: 5.7683e-04 - numerical_accuracy: 0.5552 - binary_accuracy: 1.0000 - foot_risk_accuracy: 0.9997 - eye_risk_accuracy: 0.9997 - dm_type_accuracy: 0.9997 - smoking_accuracy: 0.9998 - val_loss: 214065.1250 - val_numerical_loss: 0.0013 - val_binary_loss: 2.6514e-04 - val_foot_risk_loss: 1.2394e-05 - val_eye_risk_loss: 3.6091e-05 - val_dm_type_loss: 0.0029 - val_smoking_loss: 3.3654e-06 - val_numerical_accuracy: 0.5767 - val_binary_accuracy: 0.9999 - val_foot_risk_accuracy: 1.0000 - val_eye_risk_accuracy: 1.0000 - val_dm_type_accuracy: 0.9995 - val_smoking_accuracy: 1.0000\n",
      "Epoch 63/200\n",
      "1755/1755 [==============================] - 2s 1ms/step - loss: 220210.0781 - numerical_loss: 0.0022 - binary_loss: 4.8628e-04 - foot_risk_loss: 6.1803e-04 - eye_risk_loss: 0.0011 - dm_type_loss: 5.0823e-04 - smoking_loss: 4.1143e-04 - numerical_accuracy: 0.5559 - binary_accuracy: 0.9999 - foot_risk_accuracy: 0.9998 - eye_risk_accuracy: 0.9996 - dm_type_accuracy: 0.9998 - smoking_accuracy: 0.9998 - val_loss: 225712.0625 - val_numerical_loss: 0.0017 - val_binary_loss: 5.5444e-05 - val_foot_risk_loss: 1.4169e-04 - val_eye_risk_loss: 7.3699e-04 - val_dm_type_loss: 0.0011 - val_smoking_loss: 0.0077 - val_numerical_accuracy: 0.5558 - val_binary_accuracy: 1.0000 - val_foot_risk_accuracy: 1.0000 - val_eye_risk_accuracy: 0.9999 - val_dm_type_accuracy: 0.9998 - val_smoking_accuracy: 0.9975\n",
      "Epoch 64/200\n",
      "1755/1755 [==============================] - 2s 1ms/step - loss: 231465.8906 - numerical_loss: 0.0022 - binary_loss: 2.9375e-04 - foot_risk_loss: 5.4379e-04 - eye_risk_loss: 0.0014 - dm_type_loss: 7.5413e-04 - smoking_loss: 6.2429e-04 - numerical_accuracy: 0.5551 - binary_accuracy: 0.9999 - foot_risk_accuracy: 0.9999 - eye_risk_accuracy: 0.9996 - dm_type_accuracy: 0.9998 - smoking_accuracy: 0.9998 - val_loss: 237734.4062 - val_numerical_loss: 0.0014 - val_binary_loss: 2.0472e-04 - val_foot_risk_loss: 1.4268e-05 - val_eye_risk_loss: 2.8511e-04 - val_dm_type_loss: 0.0029 - val_smoking_loss: 2.6304e-06 - val_numerical_accuracy: 0.6170 - val_binary_accuracy: 0.9999 - val_foot_risk_accuracy: 1.0000 - val_eye_risk_accuracy: 0.9999 - val_dm_type_accuracy: 0.9994 - val_smoking_accuracy: 1.0000\n",
      "Epoch 65/200\n",
      "1755/1755 [==============================] - 2s 1ms/step - loss: 240903.5000 - numerical_loss: 0.0022 - binary_loss: 4.4864e-04 - foot_risk_loss: 5.5145e-04 - eye_risk_loss: 7.4352e-04 - dm_type_loss: 4.6473e-04 - smoking_loss: 2.8993e-04 - numerical_accuracy: 0.5565 - binary_accuracy: 0.9998 - foot_risk_accuracy: 0.9999 - eye_risk_accuracy: 0.9998 - dm_type_accuracy: 0.9998 - smoking_accuracy: 0.9999 - val_loss: 235856.8906 - val_numerical_loss: 0.0014 - val_binary_loss: 2.2873e-04 - val_foot_risk_loss: 6.6507e-05 - val_eye_risk_loss: 1.4800e-04 - val_dm_type_loss: 0.0025 - val_smoking_loss: 4.9792e-06 - val_numerical_accuracy: 0.6043 - val_binary_accuracy: 1.0000 - val_foot_risk_accuracy: 1.0000 - val_eye_risk_accuracy: 0.9999 - val_dm_type_accuracy: 0.9994 - val_smoking_accuracy: 1.0000\n",
      "Epoch 66/200\n",
      "1755/1755 [==============================] - 2s 1ms/step - loss: 251112.2344 - numerical_loss: 0.0022 - binary_loss: 2.9024e-04 - foot_risk_loss: 4.3943e-04 - eye_risk_loss: 8.3863e-04 - dm_type_loss: 6.8932e-04 - smoking_loss: 9.9977e-04 - numerical_accuracy: 0.5556 - binary_accuracy: 0.9999 - foot_risk_accuracy: 0.9999 - eye_risk_accuracy: 0.9997 - dm_type_accuracy: 0.9998 - smoking_accuracy: 0.9997 - val_loss: 261889.1562 - val_numerical_loss: 0.0015 - val_binary_loss: 8.5752e-05 - val_foot_risk_loss: 0.0014 - val_eye_risk_loss: 2.4827e-04 - val_dm_type_loss: 0.0026 - val_smoking_loss: 5.2609e-07 - val_numerical_accuracy: 0.6146 - val_binary_accuracy: 1.0000 - val_foot_risk_accuracy: 0.9997 - val_eye_risk_accuracy: 0.9999 - val_dm_type_accuracy: 0.9995 - val_smoking_accuracy: 1.0000\n",
      "Epoch 67/200\n",
      "1755/1755 [==============================] - 2s 1ms/step - loss: 256966.6094 - numerical_loss: 0.0022 - binary_loss: 5.1565e-04 - foot_risk_loss: 6.8481e-04 - eye_risk_loss: 0.0019 - dm_type_loss: 7.9701e-04 - smoking_loss: 3.1698e-04 - numerical_accuracy: 0.5581 - binary_accuracy: 0.9998 - foot_risk_accuracy: 0.9998 - eye_risk_accuracy: 0.9995 - dm_type_accuracy: 0.9998 - smoking_accuracy: 0.9999 - val_loss: 259581.4062 - val_numerical_loss: 0.0013 - val_binary_loss: 1.4898e-04 - val_foot_risk_loss: 1.7770e-05 - val_eye_risk_loss: 3.2033e-04 - val_dm_type_loss: 0.0029 - val_smoking_loss: 1.1085e-06 - val_numerical_accuracy: 0.6357 - val_binary_accuracy: 0.9999 - val_foot_risk_accuracy: 1.0000 - val_eye_risk_accuracy: 1.0000 - val_dm_type_accuracy: 0.9994 - val_smoking_accuracy: 1.0000\n",
      "Epoch 68/200\n",
      "1755/1755 [==============================] - 2s 1ms/step - loss: 265663.4062 - numerical_loss: 0.0022 - binary_loss: 1.9994e-04 - foot_risk_loss: 4.5057e-04 - eye_risk_loss: 5.9446e-04 - dm_type_loss: 7.8399e-04 - smoking_loss: 8.9403e-04 - numerical_accuracy: 0.5567 - binary_accuracy: 1.0000 - foot_risk_accuracy: 0.9999 - eye_risk_accuracy: 0.9998 - dm_type_accuracy: 0.9998 - smoking_accuracy: 0.9998 - val_loss: 274148.2812 - val_numerical_loss: 0.0014 - val_binary_loss: 8.4111e-04 - val_foot_risk_loss: 0.0038 - val_eye_risk_loss: 7.0665e-05 - val_dm_type_loss: 0.0022 - val_smoking_loss: 2.3170e-06 - val_numerical_accuracy: 0.6307 - val_binary_accuracy: 0.9997 - val_foot_risk_accuracy: 0.9989 - val_eye_risk_accuracy: 1.0000 - val_dm_type_accuracy: 0.9994 - val_smoking_accuracy: 1.0000\n",
      "Epoch 69/200\n",
      "1755/1755 [==============================] - 2s 1ms/step - loss: 275732.2188 - numerical_loss: 0.0022 - binary_loss: 5.3665e-04 - foot_risk_loss: 4.9561e-04 - eye_risk_loss: 7.1066e-04 - dm_type_loss: 5.3865e-04 - smoking_loss: 3.9530e-04 - numerical_accuracy: 0.5528 - binary_accuracy: 0.9999 - foot_risk_accuracy: 0.9999 - eye_risk_accuracy: 0.9997 - dm_type_accuracy: 0.9998 - smoking_accuracy: 0.9998 - val_loss: 276310.5938 - val_numerical_loss: 0.0015 - val_binary_loss: 6.5630e-05 - val_foot_risk_loss: 1.9888e-05 - val_eye_risk_loss: 3.3550e-04 - val_dm_type_loss: 0.0033 - val_smoking_loss: 1.6533e-06 - val_numerical_accuracy: 0.6029 - val_binary_accuracy: 1.0000 - val_foot_risk_accuracy: 1.0000 - val_eye_risk_accuracy: 0.9999 - val_dm_type_accuracy: 0.9993 - val_smoking_accuracy: 1.0000\n",
      "Epoch 70/200\n",
      "1755/1755 [==============================] - 2s 1ms/step - loss: 281677.3750 - numerical_loss: 0.0022 - binary_loss: 1.6430e-04 - foot_risk_loss: 0.0011 - eye_risk_loss: 8.3045e-04 - dm_type_loss: 5.3303e-04 - smoking_loss: 5.5006e-04 - numerical_accuracy: 0.5571 - binary_accuracy: 1.0000 - foot_risk_accuracy: 0.9998 - eye_risk_accuracy: 0.9997 - dm_type_accuracy: 0.9998 - smoking_accuracy: 0.9998 - val_loss: 277686.7500 - val_numerical_loss: 0.0014 - val_binary_loss: 1.9463e-04 - val_foot_risk_loss: 2.8535e-05 - val_eye_risk_loss: 0.0065 - val_dm_type_loss: 0.0039 - val_smoking_loss: 1.6606e-06 - val_numerical_accuracy: 0.6374 - val_binary_accuracy: 1.0000 - val_foot_risk_accuracy: 1.0000 - val_eye_risk_accuracy: 0.9981 - val_dm_type_accuracy: 0.9994 - val_smoking_accuracy: 1.0000\n",
      "Epoch 71/200\n",
      "1755/1755 [==============================] - 2s 1ms/step - loss: 293089.6250 - numerical_loss: 0.0022 - binary_loss: 5.0820e-04 - foot_risk_loss: 3.0738e-04 - eye_risk_loss: 0.0015 - dm_type_loss: 5.8784e-04 - smoking_loss: 9.1763e-04 - numerical_accuracy: 0.5559 - binary_accuracy: 0.9999 - foot_risk_accuracy: 0.9999 - eye_risk_accuracy: 0.9996 - dm_type_accuracy: 0.9998 - smoking_accuracy: 0.9997 - val_loss: 294231.9375 - val_numerical_loss: 0.0014 - val_binary_loss: 1.0867e-04 - val_foot_risk_loss: 2.8027e-05 - val_eye_risk_loss: 2.4051e-04 - val_dm_type_loss: 0.0039 - val_smoking_loss: 4.3709e-04 - val_numerical_accuracy: 0.6045 - val_binary_accuracy: 1.0000 - val_foot_risk_accuracy: 1.0000 - val_eye_risk_accuracy: 0.9999 - val_dm_type_accuracy: 0.9993 - val_smoking_accuracy: 0.9998\n",
      "Epoch 72/200\n",
      "1755/1755 [==============================] - 2s 1ms/step - loss: 302738.1875 - numerical_loss: 0.0022 - binary_loss: 3.8895e-04 - foot_risk_loss: 5.4541e-04 - eye_risk_loss: 8.0597e-04 - dm_type_loss: 9.1463e-04 - smoking_loss: 3.0767e-04 - numerical_accuracy: 0.5574 - binary_accuracy: 0.9999 - foot_risk_accuracy: 0.9999 - eye_risk_accuracy: 0.9998 - dm_type_accuracy: 0.9997 - smoking_accuracy: 0.9999 - val_loss: 309931.5312 - val_numerical_loss: 0.0017 - val_binary_loss: 0.0012 - val_foot_risk_loss: 1.6503e-05 - val_eye_risk_loss: 3.4471e-04 - val_dm_type_loss: 0.0072 - val_smoking_loss: 1.9736e-06 - val_numerical_accuracy: 0.5768 - val_binary_accuracy: 0.9995 - val_foot_risk_accuracy: 1.0000 - val_eye_risk_accuracy: 0.9999 - val_dm_type_accuracy: 0.9974 - val_smoking_accuracy: 1.0000\n",
      "Epoch 73/200\n",
      "1755/1755 [==============================] - 2s 1ms/step - loss: 314219.3438 - numerical_loss: 0.0022 - binary_loss: 5.5369e-04 - foot_risk_loss: 7.2385e-04 - eye_risk_loss: 0.0011 - dm_type_loss: 6.7407e-04 - smoking_loss: 5.9319e-04 - numerical_accuracy: 0.5537 - binary_accuracy: 0.9999 - foot_risk_accuracy: 0.9998 - eye_risk_accuracy: 0.9997 - dm_type_accuracy: 0.9998 - smoking_accuracy: 0.9999 - val_loss: 319395.5938 - val_numerical_loss: 0.0014 - val_binary_loss: 1.6546e-04 - val_foot_risk_loss: 2.8736e-05 - val_eye_risk_loss: 0.0034 - val_dm_type_loss: 0.0027 - val_smoking_loss: 2.5080e-06 - val_numerical_accuracy: 0.6201 - val_binary_accuracy: 1.0000 - val_foot_risk_accuracy: 1.0000 - val_eye_risk_accuracy: 0.9990 - val_dm_type_accuracy: 0.9994 - val_smoking_accuracy: 1.0000\n",
      "Epoch 74/200\n",
      "1755/1755 [==============================] - 2s 1ms/step - loss: 318187.4375 - numerical_loss: 0.0022 - binary_loss: 3.3460e-04 - foot_risk_loss: 9.2794e-04 - eye_risk_loss: 9.4811e-04 - dm_type_loss: 9.9189e-04 - smoking_loss: 0.0010 - numerical_accuracy: 0.5586 - binary_accuracy: 0.9999 - foot_risk_accuracy: 0.9997 - eye_risk_accuracy: 0.9997 - dm_type_accuracy: 0.9998 - smoking_accuracy: 0.9996 - val_loss: 321347.1875 - val_numerical_loss: 0.0013 - val_binary_loss: 8.4686e-05 - val_foot_risk_loss: 8.4401e-06 - val_eye_risk_loss: 2.8255e-04 - val_dm_type_loss: 0.0019 - val_smoking_loss: 4.8114e-06 - val_numerical_accuracy: 0.6416 - val_binary_accuracy: 1.0000 - val_foot_risk_accuracy: 1.0000 - val_eye_risk_accuracy: 0.9999 - val_dm_type_accuracy: 0.9994 - val_smoking_accuracy: 1.0000\n",
      "Epoch 75/200\n",
      "1755/1755 [==============================] - 2s 1ms/step - loss: 329480.0625 - numerical_loss: 0.0021 - binary_loss: 5.4409e-04 - foot_risk_loss: 3.5608e-04 - eye_risk_loss: 8.9549e-04 - dm_type_loss: 8.0606e-04 - smoking_loss: 2.5773e-04 - numerical_accuracy: 0.5562 - binary_accuracy: 0.9999 - foot_risk_accuracy: 0.9999 - eye_risk_accuracy: 0.9997 - dm_type_accuracy: 0.9998 - smoking_accuracy: 0.9999 - val_loss: 336703.6250 - val_numerical_loss: 0.0012 - val_binary_loss: 7.4982e-05 - val_foot_risk_loss: 9.5241e-05 - val_eye_risk_loss: 7.6679e-05 - val_dm_type_loss: 0.0030 - val_smoking_loss: 8.5794e-07 - val_numerical_accuracy: 0.6279 - val_binary_accuracy: 1.0000 - val_foot_risk_accuracy: 1.0000 - val_eye_risk_accuracy: 1.0000 - val_dm_type_accuracy: 0.9994 - val_smoking_accuracy: 1.0000\n",
      "Epoch 76/200\n",
      "1755/1755 [==============================] - 2s 1ms/step - loss: 341519.4375 - numerical_loss: 0.0021 - binary_loss: 6.1656e-04 - foot_risk_loss: 7.1931e-04 - eye_risk_loss: 0.0014 - dm_type_loss: 8.7018e-04 - smoking_loss: 4.0260e-04 - numerical_accuracy: 0.5586 - binary_accuracy: 0.9998 - foot_risk_accuracy: 0.9999 - eye_risk_accuracy: 0.9996 - dm_type_accuracy: 0.9998 - smoking_accuracy: 0.9999 - val_loss: 354386.6250 - val_numerical_loss: 0.0015 - val_binary_loss: 2.2119e-04 - val_foot_risk_loss: 8.8270e-06 - val_eye_risk_loss: 2.4587e-05 - val_dm_type_loss: 0.0032 - val_smoking_loss: 4.3369e-06 - val_numerical_accuracy: 0.6141 - val_binary_accuracy: 0.9999 - val_foot_risk_accuracy: 1.0000 - val_eye_risk_accuracy: 1.0000 - val_dm_type_accuracy: 0.9994 - val_smoking_accuracy: 1.0000\n",
      "Epoch 77/200\n",
      "1755/1755 [==============================] - 2s 1ms/step - loss: 354873.4688 - numerical_loss: 0.0021 - binary_loss: 2.5976e-04 - foot_risk_loss: 6.4828e-04 - eye_risk_loss: 0.0025 - dm_type_loss: 4.1540e-04 - smoking_loss: 7.2780e-04 - numerical_accuracy: 0.5563 - binary_accuracy: 0.9999 - foot_risk_accuracy: 0.9998 - eye_risk_accuracy: 0.9996 - dm_type_accuracy: 0.9999 - smoking_accuracy: 0.9998 - val_loss: 355548.5938 - val_numerical_loss: 0.0017 - val_binary_loss: 7.6597e-05 - val_foot_risk_loss: 3.2245e-05 - val_eye_risk_loss: 3.8051e-04 - val_dm_type_loss: 0.0139 - val_smoking_loss: 4.9386e-07 - val_numerical_accuracy: 0.6215 - val_binary_accuracy: 1.0000 - val_foot_risk_accuracy: 1.0000 - val_eye_risk_accuracy: 0.9998 - val_dm_type_accuracy: 0.9962 - val_smoking_accuracy: 1.0000\n",
      "Epoch 78/200\n",
      "1755/1755 [==============================] - 2s 1ms/step - loss: 364936.4062 - numerical_loss: 0.0021 - binary_loss: 3.0988e-04 - foot_risk_loss: 4.8376e-04 - eye_risk_loss: 5.8514e-04 - dm_type_loss: 9.5248e-04 - smoking_loss: 4.1349e-04 - numerical_accuracy: 0.5591 - binary_accuracy: 0.9999 - foot_risk_accuracy: 0.9999 - eye_risk_accuracy: 0.9998 - dm_type_accuracy: 0.9998 - smoking_accuracy: 0.9999 - val_loss: 368970.5312 - val_numerical_loss: 0.0015 - val_binary_loss: 0.0059 - val_foot_risk_loss: 5.2154e-05 - val_eye_risk_loss: 3.5326e-04 - val_dm_type_loss: 0.0028 - val_smoking_loss: 1.4886e-04 - val_numerical_accuracy: 0.6122 - val_binary_accuracy: 0.9978 - val_foot_risk_accuracy: 1.0000 - val_eye_risk_accuracy: 0.9997 - val_dm_type_accuracy: 0.9994 - val_smoking_accuracy: 0.9999\n",
      "Epoch 79/200\n",
      "1755/1755 [==============================] - 2s 1ms/step - loss: 373873.1562 - numerical_loss: 0.0021 - binary_loss: 3.6518e-04 - foot_risk_loss: 6.9758e-04 - eye_risk_loss: 8.1622e-04 - dm_type_loss: 7.3583e-04 - smoking_loss: 4.5831e-04 - numerical_accuracy: 0.5587 - binary_accuracy: 0.9999 - foot_risk_accuracy: 0.9999 - eye_risk_accuracy: 0.9998 - dm_type_accuracy: 0.9998 - smoking_accuracy: 0.9998 - val_loss: 377784.7812 - val_numerical_loss: 0.0015 - val_binary_loss: 1.5282e-04 - val_foot_risk_loss: 3.3397e-05 - val_eye_risk_loss: 2.3138e-04 - val_dm_type_loss: 0.0035 - val_smoking_loss: 5.7219e-07 - val_numerical_accuracy: 0.6015 - val_binary_accuracy: 1.0000 - val_foot_risk_accuracy: 1.0000 - val_eye_risk_accuracy: 0.9999 - val_dm_type_accuracy: 0.9992 - val_smoking_accuracy: 1.0000\n",
      "Epoch 80/200\n",
      "1755/1755 [==============================] - 2s 1ms/step - loss: 385374.8125 - numerical_loss: 0.0021 - binary_loss: 3.7354e-04 - foot_risk_loss: 5.4337e-04 - eye_risk_loss: 9.6422e-04 - dm_type_loss: 9.2868e-04 - smoking_loss: 3.3921e-04 - numerical_accuracy: 0.5584 - binary_accuracy: 0.9999 - foot_risk_accuracy: 0.9999 - eye_risk_accuracy: 0.9998 - dm_type_accuracy: 0.9998 - smoking_accuracy: 0.9999 - val_loss: 377863.5625 - val_numerical_loss: 0.0028 - val_binary_loss: 1.2983e-04 - val_foot_risk_loss: 1.6174e-05 - val_eye_risk_loss: 5.1187e-04 - val_dm_type_loss: 0.0037 - val_smoking_loss: 0.0728 - val_numerical_accuracy: 0.5739 - val_binary_accuracy: 1.0000 - val_foot_risk_accuracy: 1.0000 - val_eye_risk_accuracy: 0.9999 - val_dm_type_accuracy: 0.9994 - val_smoking_accuracy: 0.9735\n",
      "Epoch 81/200\n",
      "1755/1755 [==============================] - 2s 1ms/step - loss: 394686.5625 - numerical_loss: 0.0021 - binary_loss: 2.8673e-04 - foot_risk_loss: 3.4910e-04 - eye_risk_loss: 8.4012e-04 - dm_type_loss: 9.2554e-04 - smoking_loss: 8.0569e-04 - numerical_accuracy: 0.5560 - binary_accuracy: 1.0000 - foot_risk_accuracy: 0.9999 - eye_risk_accuracy: 0.9997 - dm_type_accuracy: 0.9996 - smoking_accuracy: 0.9998 - val_loss: 393499.4688 - val_numerical_loss: 0.0015 - val_binary_loss: 0.3499 - val_foot_risk_loss: 2.6498e-05 - val_eye_risk_loss: 2.0888e-04 - val_dm_type_loss: 0.0028 - val_smoking_loss: 1.2303e-05 - val_numerical_accuracy: 0.5952 - val_binary_accuracy: 0.8893 - val_foot_risk_accuracy: 1.0000 - val_eye_risk_accuracy: 0.9999 - val_dm_type_accuracy: 0.9994 - val_smoking_accuracy: 1.0000\n",
      "Epoch 82/200\n",
      "1755/1755 [==============================] - 2s 1ms/step - loss: 411897.5312 - numerical_loss: 0.0021 - binary_loss: 4.6579e-04 - foot_risk_loss: 5.4295e-04 - eye_risk_loss: 7.2463e-04 - dm_type_loss: 7.0141e-04 - smoking_loss: 4.8819e-04 - numerical_accuracy: 0.5605 - binary_accuracy: 0.9999 - foot_risk_accuracy: 0.9999 - eye_risk_accuracy: 0.9998 - dm_type_accuracy: 0.9998 - smoking_accuracy: 0.9998 - val_loss: 408130.6250 - val_numerical_loss: 0.0013 - val_binary_loss: 0.0025 - val_foot_risk_loss: 2.4780e-05 - val_eye_risk_loss: 3.5528e-04 - val_dm_type_loss: 0.0036 - val_smoking_loss: 1.5316e-06 - val_numerical_accuracy: 0.6248 - val_binary_accuracy: 0.9994 - val_foot_risk_accuracy: 1.0000 - val_eye_risk_accuracy: 0.9997 - val_dm_type_accuracy: 0.9994 - val_smoking_accuracy: 1.0000\n",
      "Epoch 83/200\n",
      "1755/1755 [==============================] - 2s 1ms/step - loss: 428932.7500 - numerical_loss: 0.0021 - binary_loss: 4.3068e-04 - foot_risk_loss: 4.2017e-04 - eye_risk_loss: 0.0013 - dm_type_loss: 6.7633e-04 - smoking_loss: 6.2384e-04 - numerical_accuracy: 0.5578 - binary_accuracy: 0.9999 - foot_risk_accuracy: 0.9999 - eye_risk_accuracy: 0.9996 - dm_type_accuracy: 0.9998 - smoking_accuracy: 0.9999 - val_loss: 430656.9375 - val_numerical_loss: 0.0015 - val_binary_loss: 1.6726e-04 - val_foot_risk_loss: 5.5632e-05 - val_eye_risk_loss: 8.9260e-04 - val_dm_type_loss: 0.0028 - val_smoking_loss: 7.2390e-05 - val_numerical_accuracy: 0.6392 - val_binary_accuracy: 1.0000 - val_foot_risk_accuracy: 1.0000 - val_eye_risk_accuracy: 0.9997 - val_dm_type_accuracy: 0.9995 - val_smoking_accuracy: 0.9999\n",
      "Epoch 84/200\n",
      "1755/1755 [==============================] - 2s 1ms/step - loss: 435806.9062 - numerical_loss: 0.0021 - binary_loss: 2.4685e-04 - foot_risk_loss: 3.3953e-04 - eye_risk_loss: 0.0015 - dm_type_loss: 4.9871e-04 - smoking_loss: 3.9204e-04 - numerical_accuracy: 0.5560 - binary_accuracy: 0.9999 - foot_risk_accuracy: 0.9999 - eye_risk_accuracy: 0.9996 - dm_type_accuracy: 0.9999 - smoking_accuracy: 0.9999 - val_loss: 438768.4062 - val_numerical_loss: 0.0014 - val_binary_loss: 6.7665e-05 - val_foot_risk_loss: 2.9100e-05 - val_eye_risk_loss: 3.1035e-05 - val_dm_type_loss: 0.0025 - val_smoking_loss: 4.5650e-05 - val_numerical_accuracy: 0.6346 - val_binary_accuracy: 1.0000 - val_foot_risk_accuracy: 1.0000 - val_eye_risk_accuracy: 1.0000 - val_dm_type_accuracy: 0.9994 - val_smoking_accuracy: 1.0000\n",
      "Epoch 85/200\n",
      "1755/1755 [==============================] - 2s 1ms/step - loss: 458057.5000 - numerical_loss: 0.0021 - binary_loss: 3.5797e-04 - foot_risk_loss: 7.9439e-04 - eye_risk_loss: 6.8551e-04 - dm_type_loss: 7.4766e-04 - smoking_loss: 7.5559e-04 - numerical_accuracy: 0.5605 - binary_accuracy: 0.9999 - foot_risk_accuracy: 0.9998 - eye_risk_accuracy: 0.9998 - dm_type_accuracy: 0.9998 - smoking_accuracy: 0.9997 - val_loss: 468183.1250 - val_numerical_loss: 0.0013 - val_binary_loss: 3.9392e-04 - val_foot_risk_loss: 3.6065e-05 - val_eye_risk_loss: 2.6153e-04 - val_dm_type_loss: 0.0024 - val_smoking_loss: 1.2720e-06 - val_numerical_accuracy: 0.6329 - val_binary_accuracy: 0.9999 - val_foot_risk_accuracy: 1.0000 - val_eye_risk_accuracy: 0.9999 - val_dm_type_accuracy: 0.9995 - val_smoking_accuracy: 1.0000\n",
      "Epoch 86/200\n",
      "1755/1755 [==============================] - 2s 1ms/step - loss: 465795.8125 - numerical_loss: 0.0021 - binary_loss: 2.8658e-04 - foot_risk_loss: 3.2167e-04 - eye_risk_loss: 0.0012 - dm_type_loss: 3.7734e-04 - smoking_loss: 5.0160e-04 - numerical_accuracy: 0.5595 - binary_accuracy: 0.9999 - foot_risk_accuracy: 0.9999 - eye_risk_accuracy: 0.9996 - dm_type_accuracy: 0.9999 - smoking_accuracy: 0.9999 - val_loss: 466947.6875 - val_numerical_loss: 0.0012 - val_binary_loss: 2.1203e-04 - val_foot_risk_loss: 1.5849e-05 - val_eye_risk_loss: 2.6383e-04 - val_dm_type_loss: 0.0028 - val_smoking_loss: 1.0330e-05 - val_numerical_accuracy: 0.6225 - val_binary_accuracy: 0.9999 - val_foot_risk_accuracy: 1.0000 - val_eye_risk_accuracy: 0.9999 - val_dm_type_accuracy: 0.9995 - val_smoking_accuracy: 1.0000\n",
      "Epoch 87/200\n",
      "1755/1755 [==============================] - 2s 1ms/step - loss: 478844.2812 - numerical_loss: 0.0021 - binary_loss: 4.6409e-04 - foot_risk_loss: 9.2130e-04 - eye_risk_loss: 0.0012 - dm_type_loss: 5.2827e-04 - smoking_loss: 4.1619e-04 - numerical_accuracy: 0.5598 - binary_accuracy: 0.9998 - foot_risk_accuracy: 0.9998 - eye_risk_accuracy: 0.9996 - dm_type_accuracy: 0.9998 - smoking_accuracy: 0.9999 - val_loss: 494360.8750 - val_numerical_loss: 0.0015 - val_binary_loss: 9.6723e-05 - val_foot_risk_loss: 3.6528e-05 - val_eye_risk_loss: 1.7004e-04 - val_dm_type_loss: 0.0028 - val_smoking_loss: 8.6977e-06 - val_numerical_accuracy: 0.6037 - val_binary_accuracy: 1.0000 - val_foot_risk_accuracy: 1.0000 - val_eye_risk_accuracy: 0.9999 - val_dm_type_accuracy: 0.9994 - val_smoking_accuracy: 1.0000\n",
      "Epoch 88/200\n",
      "1755/1755 [==============================] - 2s 1ms/step - loss: 500316.9375 - numerical_loss: 0.0021 - binary_loss: 2.5860e-04 - foot_risk_loss: 9.4467e-04 - eye_risk_loss: 0.0017 - dm_type_loss: 4.2337e-04 - smoking_loss: 6.8087e-04 - numerical_accuracy: 0.5589 - binary_accuracy: 1.0000 - foot_risk_accuracy: 0.9998 - eye_risk_accuracy: 0.9996 - dm_type_accuracy: 0.9998 - smoking_accuracy: 0.9998 - val_loss: 505181.3438 - val_numerical_loss: 0.0014 - val_binary_loss: 1.4985e-04 - val_foot_risk_loss: 1.3763e-05 - val_eye_risk_loss: 4.9962e-04 - val_dm_type_loss: 0.0020 - val_smoking_loss: 2.6598e-05 - val_numerical_accuracy: 0.6247 - val_binary_accuracy: 0.9999 - val_foot_risk_accuracy: 1.0000 - val_eye_risk_accuracy: 0.9998 - val_dm_type_accuracy: 0.9996 - val_smoking_accuracy: 1.0000\n",
      "Epoch 89/200\n",
      "1755/1755 [==============================] - 2s 1ms/step - loss: 511578.9688 - numerical_loss: 0.0021 - binary_loss: 4.1388e-04 - foot_risk_loss: 4.5800e-04 - eye_risk_loss: 0.0013 - dm_type_loss: 7.6955e-04 - smoking_loss: 3.8776e-04 - numerical_accuracy: 0.5612 - binary_accuracy: 0.9998 - foot_risk_accuracy: 0.9999 - eye_risk_accuracy: 0.9995 - dm_type_accuracy: 0.9997 - smoking_accuracy: 0.9999 - val_loss: 511230.9375 - val_numerical_loss: 0.0017 - val_binary_loss: 7.2503e-05 - val_foot_risk_loss: 5.4811e-06 - val_eye_risk_loss: 5.0811e-04 - val_dm_type_loss: 0.0048 - val_smoking_loss: 7.8058e-05 - val_numerical_accuracy: 0.5565 - val_binary_accuracy: 1.0000 - val_foot_risk_accuracy: 1.0000 - val_eye_risk_accuracy: 0.9999 - val_dm_type_accuracy: 0.9987 - val_smoking_accuracy: 0.9999\n",
      "Epoch 90/200\n",
      "1755/1755 [==============================] - 2s 1ms/step - loss: 526923.8125 - numerical_loss: 0.0021 - binary_loss: 4.1161e-04 - foot_risk_loss: 7.4624e-04 - eye_risk_loss: 0.0011 - dm_type_loss: 3.7158e-04 - smoking_loss: 7.7918e-04 - numerical_accuracy: 0.5582 - binary_accuracy: 0.9999 - foot_risk_accuracy: 0.9998 - eye_risk_accuracy: 0.9996 - dm_type_accuracy: 0.9999 - smoking_accuracy: 0.9998 - val_loss: 525089.3750 - val_numerical_loss: 0.0015 - val_binary_loss: 6.7875e-04 - val_foot_risk_loss: 2.9430e-05 - val_eye_risk_loss: 2.4059e-04 - val_dm_type_loss: 0.0045 - val_smoking_loss: 2.4850e-05 - val_numerical_accuracy: 0.6222 - val_binary_accuracy: 0.9999 - val_foot_risk_accuracy: 1.0000 - val_eye_risk_accuracy: 0.9999 - val_dm_type_accuracy: 0.9994 - val_smoking_accuracy: 1.0000\n",
      "Epoch 91/200\n",
      "1755/1755 [==============================] - 2s 1ms/step - loss: 542578.4375 - numerical_loss: 0.0021 - binary_loss: 3.7141e-04 - foot_risk_loss: 5.1990e-04 - eye_risk_loss: 8.8304e-04 - dm_type_loss: 6.3398e-04 - smoking_loss: 5.5072e-04 - numerical_accuracy: 0.5594 - binary_accuracy: 0.9999 - foot_risk_accuracy: 0.9998 - eye_risk_accuracy: 0.9997 - dm_type_accuracy: 0.9998 - smoking_accuracy: 0.9998 - val_loss: 561532.0000 - val_numerical_loss: 0.0017 - val_binary_loss: 1.8684e-04 - val_foot_risk_loss: 0.0014 - val_eye_risk_loss: 1.6284e-04 - val_dm_type_loss: 0.0025 - val_smoking_loss: 2.7440e-04 - val_numerical_accuracy: 0.5803 - val_binary_accuracy: 0.9999 - val_foot_risk_accuracy: 0.9996 - val_eye_risk_accuracy: 0.9999 - val_dm_type_accuracy: 0.9994 - val_smoking_accuracy: 1.0000\n",
      "Epoch 92/200\n",
      "1755/1755 [==============================] - 2s 1ms/step - loss: 560660.5625 - numerical_loss: 0.0021 - binary_loss: 1.7501e-04 - foot_risk_loss: 4.0531e-04 - eye_risk_loss: 0.0015 - dm_type_loss: 6.4710e-04 - smoking_loss: 4.1387e-04 - numerical_accuracy: 0.5633 - binary_accuracy: 1.0000 - foot_risk_accuracy: 0.9999 - eye_risk_accuracy: 0.9995 - dm_type_accuracy: 0.9998 - smoking_accuracy: 0.9999 - val_loss: 572283.0625 - val_numerical_loss: 0.0013 - val_binary_loss: 1.6747e-04 - val_foot_risk_loss: 2.0797e-05 - val_eye_risk_loss: 2.1425e-04 - val_dm_type_loss: 0.0030 - val_smoking_loss: 4.0026e-05 - val_numerical_accuracy: 0.6135 - val_binary_accuracy: 0.9999 - val_foot_risk_accuracy: 1.0000 - val_eye_risk_accuracy: 0.9999 - val_dm_type_accuracy: 0.9994 - val_smoking_accuracy: 1.0000\n",
      "Epoch 93/200\n",
      "1755/1755 [==============================] - 2s 1ms/step - loss: 578574.6875 - numerical_loss: 0.0021 - binary_loss: 2.5694e-04 - foot_risk_loss: 8.3324e-04 - eye_risk_loss: 9.0345e-04 - dm_type_loss: 6.0550e-04 - smoking_loss: 8.1066e-04 - numerical_accuracy: 0.5601 - binary_accuracy: 0.9999 - foot_risk_accuracy: 0.9997 - eye_risk_accuracy: 0.9998 - dm_type_accuracy: 0.9999 - smoking_accuracy: 0.9998 - val_loss: 580274.8750 - val_numerical_loss: 0.0013 - val_binary_loss: 5.3459e-04 - val_foot_risk_loss: 1.6393e-05 - val_eye_risk_loss: 1.5208e-04 - val_dm_type_loss: 0.0028 - val_smoking_loss: 4.2296e-06 - val_numerical_accuracy: 0.6351 - val_binary_accuracy: 0.9997 - val_foot_risk_accuracy: 1.0000 - val_eye_risk_accuracy: 0.9999 - val_dm_type_accuracy: 0.9996 - val_smoking_accuracy: 1.0000\n",
      "Epoch 94/200\n",
      "1755/1755 [==============================] - 2s 1ms/step - loss: 594912.0625 - numerical_loss: 0.0020 - binary_loss: 3.5656e-04 - foot_risk_loss: 4.9716e-04 - eye_risk_loss: 9.1262e-04 - dm_type_loss: 9.9733e-04 - smoking_loss: 3.8903e-04 - numerical_accuracy: 0.5643 - binary_accuracy: 0.9999 - foot_risk_accuracy: 0.9999 - eye_risk_accuracy: 0.9997 - dm_type_accuracy: 0.9997 - smoking_accuracy: 0.9999 - val_loss: 598793.7500 - val_numerical_loss: 0.0014 - val_binary_loss: 9.3177e-05 - val_foot_risk_loss: 4.2457e-05 - val_eye_risk_loss: 3.3397e-04 - val_dm_type_loss: 0.0026 - val_smoking_loss: 1.2072e-05 - val_numerical_accuracy: 0.6027 - val_binary_accuracy: 1.0000 - val_foot_risk_accuracy: 1.0000 - val_eye_risk_accuracy: 0.9999 - val_dm_type_accuracy: 0.9996 - val_smoking_accuracy: 1.0000\n",
      "Epoch 95/200\n",
      "1755/1755 [==============================] - 2s 1ms/step - loss: 608863.4375 - numerical_loss: 0.0020 - binary_loss: 2.8985e-04 - foot_risk_loss: 4.2895e-04 - eye_risk_loss: 7.6656e-04 - dm_type_loss: 8.4220e-04 - smoking_loss: 3.6641e-04 - numerical_accuracy: 0.5594 - binary_accuracy: 0.9999 - foot_risk_accuracy: 0.9999 - eye_risk_accuracy: 0.9997 - dm_type_accuracy: 0.9997 - smoking_accuracy: 0.9999 - val_loss: 607817.0000 - val_numerical_loss: 0.0013 - val_binary_loss: 4.3259e-05 - val_foot_risk_loss: 9.0978e-06 - val_eye_risk_loss: 2.4368e-05 - val_dm_type_loss: 0.0041 - val_smoking_loss: 1.6173e-05 - val_numerical_accuracy: 0.6548 - val_binary_accuracy: 1.0000 - val_foot_risk_accuracy: 1.0000 - val_eye_risk_accuracy: 1.0000 - val_dm_type_accuracy: 0.9993 - val_smoking_accuracy: 1.0000\n",
      "Epoch 96/200\n",
      "1755/1755 [==============================] - 2s 1ms/step - loss: 621558.8750 - numerical_loss: 0.0020 - binary_loss: 2.8538e-04 - foot_risk_loss: 4.6979e-04 - eye_risk_loss: 0.0021 - dm_type_loss: 3.7321e-04 - smoking_loss: 2.7775e-04 - numerical_accuracy: 0.5603 - binary_accuracy: 0.9999 - foot_risk_accuracy: 0.9999 - eye_risk_accuracy: 0.9996 - dm_type_accuracy: 0.9998 - smoking_accuracy: 0.9999 - val_loss: 637915.0000 - val_numerical_loss: 0.0016 - val_binary_loss: 1.4297e-04 - val_foot_risk_loss: 2.2592e-04 - val_eye_risk_loss: 8.4921e-04 - val_dm_type_loss: 0.0031 - val_smoking_loss: 1.4914e-05 - val_numerical_accuracy: 0.6215 - val_binary_accuracy: 1.0000 - val_foot_risk_accuracy: 0.9999 - val_eye_risk_accuracy: 0.9996 - val_dm_type_accuracy: 0.9995 - val_smoking_accuracy: 1.0000\n",
      "Epoch 97/200\n",
      "1755/1755 [==============================] - 2s 1ms/step - loss: 638915.8750 - numerical_loss: 0.0020 - binary_loss: 2.4099e-04 - foot_risk_loss: 6.6617e-04 - eye_risk_loss: 8.7734e-04 - dm_type_loss: 0.0011 - smoking_loss: 4.6416e-04 - numerical_accuracy: 0.5620 - binary_accuracy: 1.0000 - foot_risk_accuracy: 0.9999 - eye_risk_accuracy: 0.9997 - dm_type_accuracy: 0.9998 - smoking_accuracy: 0.9999 - val_loss: 639139.9375 - val_numerical_loss: 0.0014 - val_binary_loss: 2.0320e-04 - val_foot_risk_loss: 1.8605e-05 - val_eye_risk_loss: 0.0041 - val_dm_type_loss: 0.0029 - val_smoking_loss: 5.8382e-06 - val_numerical_accuracy: 0.6369 - val_binary_accuracy: 0.9999 - val_foot_risk_accuracy: 1.0000 - val_eye_risk_accuracy: 0.9986 - val_dm_type_accuracy: 0.9994 - val_smoking_accuracy: 1.0000\n",
      "Epoch 98/200\n",
      "1755/1755 [==============================] - 2s 1ms/step - loss: 661150.2500 - numerical_loss: 0.0020 - binary_loss: 3.1640e-04 - foot_risk_loss: 8.7581e-04 - eye_risk_loss: 7.3092e-04 - dm_type_loss: 7.0194e-04 - smoking_loss: 4.3477e-04 - numerical_accuracy: 0.5609 - binary_accuracy: 0.9999 - foot_risk_accuracy: 0.9998 - eye_risk_accuracy: 0.9997 - dm_type_accuracy: 0.9997 - smoking_accuracy: 0.9999 - val_loss: 685994.5625 - val_numerical_loss: 0.0015 - val_binary_loss: 9.1186e-04 - val_foot_risk_loss: 1.7539e-05 - val_eye_risk_loss: 0.0447 - val_dm_type_loss: 0.0019 - val_smoking_loss: 1.7751e-05 - val_numerical_accuracy: 0.6323 - val_binary_accuracy: 0.9997 - val_foot_risk_accuracy: 1.0000 - val_eye_risk_accuracy: 0.9870 - val_dm_type_accuracy: 0.9996 - val_smoking_accuracy: 1.0000\n",
      "Epoch 99/200\n",
      "1755/1755 [==============================] - 2s 1ms/step - loss: 682172.2500 - numerical_loss: 0.0020 - binary_loss: 3.7855e-04 - foot_risk_loss: 2.4199e-04 - eye_risk_loss: 6.5509e-04 - dm_type_loss: 5.2741e-04 - smoking_loss: 2.2881e-04 - numerical_accuracy: 0.5652 - binary_accuracy: 0.9998 - foot_risk_accuracy: 0.9999 - eye_risk_accuracy: 0.9997 - dm_type_accuracy: 0.9998 - smoking_accuracy: 0.9999 - val_loss: 698093.0625 - val_numerical_loss: 0.0016 - val_binary_loss: 5.4991e-04 - val_foot_risk_loss: 6.4281e-06 - val_eye_risk_loss: 1.6917e-04 - val_dm_type_loss: 0.0031 - val_smoking_loss: 2.6711e-05 - val_numerical_accuracy: 0.6200 - val_binary_accuracy: 0.9998 - val_foot_risk_accuracy: 1.0000 - val_eye_risk_accuracy: 0.9999 - val_dm_type_accuracy: 0.9996 - val_smoking_accuracy: 1.0000\n",
      "Epoch 100/200\n",
      "1755/1755 [==============================] - 2s 1ms/step - loss: 691169.1250 - numerical_loss: 0.0020 - binary_loss: 3.1501e-04 - foot_risk_loss: 4.9723e-04 - eye_risk_loss: 7.9907e-04 - dm_type_loss: 0.0010 - smoking_loss: 6.2939e-04 - numerical_accuracy: 0.5622 - binary_accuracy: 1.0000 - foot_risk_accuracy: 0.9999 - eye_risk_accuracy: 0.9997 - dm_type_accuracy: 0.9997 - smoking_accuracy: 0.9998 - val_loss: 691249.6250 - val_numerical_loss: 0.0014 - val_binary_loss: 4.9186e-05 - val_foot_risk_loss: 1.7151e-05 - val_eye_risk_loss: 2.3773e-04 - val_dm_type_loss: 0.0016 - val_smoking_loss: 2.6154e-05 - val_numerical_accuracy: 0.5997 - val_binary_accuracy: 1.0000 - val_foot_risk_accuracy: 1.0000 - val_eye_risk_accuracy: 0.9999 - val_dm_type_accuracy: 0.9994 - val_smoking_accuracy: 1.0000\n",
      "Epoch 101/200\n",
      "1755/1755 [==============================] - 2s 1ms/step - loss: 707662.4375 - numerical_loss: 0.0020 - binary_loss: 1.8132e-04 - foot_risk_loss: 3.7251e-04 - eye_risk_loss: 0.0012 - dm_type_loss: 6.3739e-04 - smoking_loss: 3.1383e-04 - numerical_accuracy: 0.5601 - binary_accuracy: 1.0000 - foot_risk_accuracy: 0.9999 - eye_risk_accuracy: 0.9997 - dm_type_accuracy: 0.9998 - smoking_accuracy: 0.9999 - val_loss: 715236.6250 - val_numerical_loss: 0.0013 - val_binary_loss: 8.7713e-05 - val_foot_risk_loss: 3.5395e-05 - val_eye_risk_loss: 2.8156e-04 - val_dm_type_loss: 0.0018 - val_smoking_loss: 3.7863e-05 - val_numerical_accuracy: 0.6240 - val_binary_accuracy: 1.0000 - val_foot_risk_accuracy: 1.0000 - val_eye_risk_accuracy: 0.9999 - val_dm_type_accuracy: 0.9996 - val_smoking_accuracy: 1.0000\n",
      "Epoch 102/200\n",
      "1755/1755 [==============================] - 2s 1ms/step - loss: 726773.4375 - numerical_loss: 0.0020 - binary_loss: 3.7605e-04 - foot_risk_loss: 5.3640e-04 - eye_risk_loss: 7.0095e-04 - dm_type_loss: 8.3344e-04 - smoking_loss: 8.6521e-04 - numerical_accuracy: 0.5628 - binary_accuracy: 0.9999 - foot_risk_accuracy: 0.9999 - eye_risk_accuracy: 0.9998 - dm_type_accuracy: 0.9998 - smoking_accuracy: 0.9998 - val_loss: 746670.1875 - val_numerical_loss: 0.0016 - val_binary_loss: 6.4629e-05 - val_foot_risk_loss: 1.1331e-05 - val_eye_risk_loss: 1.3962e-04 - val_dm_type_loss: 0.0085 - val_smoking_loss: 1.2268e-04 - val_numerical_accuracy: 0.6219 - val_binary_accuracy: 1.0000 - val_foot_risk_accuracy: 1.0000 - val_eye_risk_accuracy: 0.9999 - val_dm_type_accuracy: 0.9977 - val_smoking_accuracy: 1.0000\n",
      "Epoch 103/200\n",
      "1755/1755 [==============================] - 2s 1ms/step - loss: 746211.6875 - numerical_loss: 0.0020 - binary_loss: 3.2637e-04 - foot_risk_loss: 3.9433e-04 - eye_risk_loss: 0.0016 - dm_type_loss: 6.5134e-04 - smoking_loss: 1.8787e-04 - numerical_accuracy: 0.5622 - binary_accuracy: 0.9999 - foot_risk_accuracy: 0.9999 - eye_risk_accuracy: 0.9994 - dm_type_accuracy: 0.9998 - smoking_accuracy: 1.0000 - val_loss: 736770.3750 - val_numerical_loss: 0.0013 - val_binary_loss: 0.0172 - val_foot_risk_loss: 1.0059e-05 - val_eye_risk_loss: 2.0090e-04 - val_dm_type_loss: 0.0055 - val_smoking_loss: 1.4955e-05 - val_numerical_accuracy: 0.5991 - val_binary_accuracy: 0.9947 - val_foot_risk_accuracy: 1.0000 - val_eye_risk_accuracy: 0.9999 - val_dm_type_accuracy: 0.9994 - val_smoking_accuracy: 1.0000\n",
      "Epoch 104/200\n",
      "1755/1755 [==============================] - 2s 1ms/step - loss: 766423.3750 - numerical_loss: 0.0020 - binary_loss: 2.2985e-04 - foot_risk_loss: 3.7239e-04 - eye_risk_loss: 6.9531e-04 - dm_type_loss: 5.3279e-04 - smoking_loss: 7.0144e-04 - numerical_accuracy: 0.5601 - binary_accuracy: 1.0000 - foot_risk_accuracy: 0.9999 - eye_risk_accuracy: 0.9998 - dm_type_accuracy: 0.9998 - smoking_accuracy: 0.9998 - val_loss: 770892.5000 - val_numerical_loss: 0.0013 - val_binary_loss: 4.7145e-05 - val_foot_risk_loss: 1.2528e-05 - val_eye_risk_loss: 3.1775e-04 - val_dm_type_loss: 0.0020 - val_smoking_loss: 1.5636e-04 - val_numerical_accuracy: 0.6314 - val_binary_accuracy: 1.0000 - val_foot_risk_accuracy: 1.0000 - val_eye_risk_accuracy: 0.9999 - val_dm_type_accuracy: 0.9995 - val_smoking_accuracy: 0.9999\n",
      "Epoch 105/200\n",
      "1755/1755 [==============================] - 2s 1ms/step - loss: 786670.5000 - numerical_loss: 0.0020 - binary_loss: 5.1418e-04 - foot_risk_loss: 4.1584e-04 - eye_risk_loss: 0.0011 - dm_type_loss: 4.2725e-04 - smoking_loss: 4.7652e-04 - numerical_accuracy: 0.5610 - binary_accuracy: 0.9998 - foot_risk_accuracy: 0.9999 - eye_risk_accuracy: 0.9996 - dm_type_accuracy: 0.9999 - smoking_accuracy: 0.9998 - val_loss: 783272.8125 - val_numerical_loss: 0.0012 - val_binary_loss: 5.2153e-04 - val_foot_risk_loss: 2.3172e-05 - val_eye_risk_loss: 4.9222e-06 - val_dm_type_loss: 0.0034 - val_smoking_loss: 3.0321e-06 - val_numerical_accuracy: 0.6069 - val_binary_accuracy: 0.9997 - val_foot_risk_accuracy: 1.0000 - val_eye_risk_accuracy: 1.0000 - val_dm_type_accuracy: 0.9996 - val_smoking_accuracy: 1.0000\n",
      "Epoch 106/200\n",
      "1755/1755 [==============================] - 2s 1ms/step - loss: 803714.0000 - numerical_loss: 0.0020 - binary_loss: 2.0503e-04 - foot_risk_loss: 2.7781e-04 - eye_risk_loss: 8.4541e-04 - dm_type_loss: 4.4792e-04 - smoking_loss: 7.2823e-04 - numerical_accuracy: 0.5637 - binary_accuracy: 0.9999 - foot_risk_accuracy: 0.9999 - eye_risk_accuracy: 0.9998 - dm_type_accuracy: 0.9999 - smoking_accuracy: 0.9998 - val_loss: 825070.7500 - val_numerical_loss: 0.0013 - val_binary_loss: 7.8447e-05 - val_foot_risk_loss: 4.6970e-04 - val_eye_risk_loss: 3.7385e-04 - val_dm_type_loss: 0.0024 - val_smoking_loss: 1.2306e-05 - val_numerical_accuracy: 0.6105 - val_binary_accuracy: 1.0000 - val_foot_risk_accuracy: 0.9998 - val_eye_risk_accuracy: 0.9998 - val_dm_type_accuracy: 0.9995 - val_smoking_accuracy: 1.0000\n",
      "Epoch 107/200\n",
      "1755/1755 [==============================] - 2s 1ms/step - loss: 816953.5000 - numerical_loss: 0.0020 - binary_loss: 3.7380e-04 - foot_risk_loss: 6.3017e-04 - eye_risk_loss: 6.2635e-04 - dm_type_loss: 6.9066e-04 - smoking_loss: 3.8872e-04 - numerical_accuracy: 0.5676 - binary_accuracy: 0.9999 - foot_risk_accuracy: 0.9998 - eye_risk_accuracy: 0.9998 - dm_type_accuracy: 0.9998 - smoking_accuracy: 0.9998 - val_loss: 816614.5000 - val_numerical_loss: 0.0015 - val_binary_loss: 7.0044e-05 - val_foot_risk_loss: 3.5350e-04 - val_eye_risk_loss: 2.3292e-05 - val_dm_type_loss: 0.0041 - val_smoking_loss: 1.1090e-04 - val_numerical_accuracy: 0.6217 - val_binary_accuracy: 1.0000 - val_foot_risk_accuracy: 0.9999 - val_eye_risk_accuracy: 1.0000 - val_dm_type_accuracy: 0.9990 - val_smoking_accuracy: 0.9999\n",
      "Epoch 108/200\n",
      "1755/1755 [==============================] - 2s 1ms/step - loss: 838393.5000 - numerical_loss: 0.0020 - binary_loss: 1.7632e-04 - foot_risk_loss: 2.0292e-04 - eye_risk_loss: 0.0013 - dm_type_loss: 0.0014 - smoking_loss: 4.1931e-04 - numerical_accuracy: 0.5653 - binary_accuracy: 1.0000 - foot_risk_accuracy: 0.9999 - eye_risk_accuracy: 0.9996 - dm_type_accuracy: 0.9997 - smoking_accuracy: 0.9999 - val_loss: 850265.6875 - val_numerical_loss: 0.0012 - val_binary_loss: 3.9373e-04 - val_foot_risk_loss: 2.2215e-05 - val_eye_risk_loss: 4.8551e-04 - val_dm_type_loss: 0.0024 - val_smoking_loss: 5.5765e-05 - val_numerical_accuracy: 0.6441 - val_binary_accuracy: 0.9999 - val_foot_risk_accuracy: 1.0000 - val_eye_risk_accuracy: 0.9999 - val_dm_type_accuracy: 0.9995 - val_smoking_accuracy: 1.0000\n",
      "Epoch 109/200\n",
      "1755/1755 [==============================] - 2s 1ms/step - loss: 858335.9375 - numerical_loss: 0.0020 - binary_loss: 6.2556e-04 - foot_risk_loss: 5.2274e-04 - eye_risk_loss: 5.4350e-04 - dm_type_loss: 5.4021e-04 - smoking_loss: 5.4249e-04 - numerical_accuracy: 0.5662 - binary_accuracy: 0.9999 - foot_risk_accuracy: 0.9999 - eye_risk_accuracy: 0.9998 - dm_type_accuracy: 0.9999 - smoking_accuracy: 0.9999 - val_loss: 886806.5000 - val_numerical_loss: 0.0013 - val_binary_loss: 5.1665e-05 - val_foot_risk_loss: 6.9728e-06 - val_eye_risk_loss: 3.2729e-04 - val_dm_type_loss: 0.0017 - val_smoking_loss: 1.5389e-04 - val_numerical_accuracy: 0.6081 - val_binary_accuracy: 1.0000 - val_foot_risk_accuracy: 1.0000 - val_eye_risk_accuracy: 0.9998 - val_dm_type_accuracy: 0.9996 - val_smoking_accuracy: 1.0000\n",
      "Epoch 110/200\n",
      "1755/1755 [==============================] - 2s 1ms/step - loss: 882263.3750 - numerical_loss: 0.0020 - binary_loss: 3.2237e-04 - foot_risk_loss: 2.6401e-04 - eye_risk_loss: 0.0011 - dm_type_loss: 7.5783e-04 - smoking_loss: 4.2592e-04 - numerical_accuracy: 0.5639 - binary_accuracy: 0.9999 - foot_risk_accuracy: 0.9999 - eye_risk_accuracy: 0.9997 - dm_type_accuracy: 0.9997 - smoking_accuracy: 0.9999 - val_loss: 892888.0000 - val_numerical_loss: 0.0015 - val_binary_loss: 6.3924e-05 - val_foot_risk_loss: 2.9929e-06 - val_eye_risk_loss: 0.0036 - val_dm_type_loss: 0.0036 - val_smoking_loss: 9.6199e-04 - val_numerical_accuracy: 0.6096 - val_binary_accuracy: 1.0000 - val_foot_risk_accuracy: 1.0000 - val_eye_risk_accuracy: 0.9987 - val_dm_type_accuracy: 0.9996 - val_smoking_accuracy: 0.9996\n",
      "Epoch 111/200\n",
      "1755/1755 [==============================] - 2s 1ms/step - loss: 894204.5625 - numerical_loss: 0.0020 - binary_loss: 3.7219e-04 - foot_risk_loss: 8.2888e-04 - eye_risk_loss: 9.3196e-04 - dm_type_loss: 6.6696e-04 - smoking_loss: 4.5390e-04 - numerical_accuracy: 0.5612 - binary_accuracy: 0.9999 - foot_risk_accuracy: 0.9997 - eye_risk_accuracy: 0.9997 - dm_type_accuracy: 0.9998 - smoking_accuracy: 0.9999 - val_loss: 895283.0000 - val_numerical_loss: 0.0013 - val_binary_loss: 1.3942e-04 - val_foot_risk_loss: 1.1198e-05 - val_eye_risk_loss: 2.7728e-05 - val_dm_type_loss: 0.0021 - val_smoking_loss: 1.8569e-04 - val_numerical_accuracy: 0.5989 - val_binary_accuracy: 0.9999 - val_foot_risk_accuracy: 1.0000 - val_eye_risk_accuracy: 1.0000 - val_dm_type_accuracy: 0.9996 - val_smoking_accuracy: 0.9999\n",
      "Epoch 112/200\n",
      "1755/1755 [==============================] - 2s 1ms/step - loss: 901337.0000 - numerical_loss: 0.0020 - binary_loss: 2.0270e-04 - foot_risk_loss: 4.9330e-04 - eye_risk_loss: 9.8440e-04 - dm_type_loss: 6.7136e-04 - smoking_loss: 4.6783e-04 - numerical_accuracy: 0.5626 - binary_accuracy: 1.0000 - foot_risk_accuracy: 0.9999 - eye_risk_accuracy: 0.9996 - dm_type_accuracy: 0.9997 - smoking_accuracy: 0.9999 - val_loss: 933054.7500 - val_numerical_loss: 0.0015 - val_binary_loss: 2.2594e-04 - val_foot_risk_loss: 6.1241e-06 - val_eye_risk_loss: 3.3055e-04 - val_dm_type_loss: 0.0020 - val_smoking_loss: 2.5675e-05 - val_numerical_accuracy: 0.5557 - val_binary_accuracy: 0.9999 - val_foot_risk_accuracy: 1.0000 - val_eye_risk_accuracy: 0.9999 - val_dm_type_accuracy: 0.9997 - val_smoking_accuracy: 1.0000\n",
      "Epoch 113/200\n",
      "1755/1755 [==============================] - 2s 1ms/step - loss: 933206.7500 - numerical_loss: 0.0020 - binary_loss: 4.3465e-04 - foot_risk_loss: 6.0372e-04 - eye_risk_loss: 0.0011 - dm_type_loss: 8.0015e-04 - smoking_loss: 3.2759e-04 - numerical_accuracy: 0.5649 - binary_accuracy: 0.9998 - foot_risk_accuracy: 0.9998 - eye_risk_accuracy: 0.9996 - dm_type_accuracy: 0.9998 - smoking_accuracy: 0.9999 - val_loss: 957182.0625 - val_numerical_loss: 0.0013 - val_binary_loss: 0.0073 - val_foot_risk_loss: 8.2975e-06 - val_eye_risk_loss: 2.6082e-04 - val_dm_type_loss: 8.5844e-04 - val_smoking_loss: 2.9670e-05 - val_numerical_accuracy: 0.5926 - val_binary_accuracy: 0.9981 - val_foot_risk_accuracy: 1.0000 - val_eye_risk_accuracy: 0.9999 - val_dm_type_accuracy: 0.9997 - val_smoking_accuracy: 1.0000\n",
      "Epoch 114/200\n",
      "1755/1755 [==============================] - 2s 1ms/step - loss: 946834.7500 - numerical_loss: 0.0020 - binary_loss: 4.5081e-04 - foot_risk_loss: 6.9525e-04 - eye_risk_loss: 9.1708e-04 - dm_type_loss: 4.5121e-04 - smoking_loss: 5.3210e-04 - numerical_accuracy: 0.5640 - binary_accuracy: 0.9998 - foot_risk_accuracy: 0.9998 - eye_risk_accuracy: 0.9997 - dm_type_accuracy: 0.9999 - smoking_accuracy: 0.9999 - val_loss: 946211.1875 - val_numerical_loss: 0.0016 - val_binary_loss: 4.2817e-05 - val_foot_risk_loss: 1.3651e-05 - val_eye_risk_loss: 0.0028 - val_dm_type_loss: 0.0026 - val_smoking_loss: 9.2938e-06 - val_numerical_accuracy: 0.6046 - val_binary_accuracy: 1.0000 - val_foot_risk_accuracy: 1.0000 - val_eye_risk_accuracy: 0.9994 - val_dm_type_accuracy: 0.9996 - val_smoking_accuracy: 1.0000\n",
      "Epoch 115/200\n",
      "1755/1755 [==============================] - 2s 1ms/step - loss: 964369.5000 - numerical_loss: 0.0020 - binary_loss: 2.0671e-04 - foot_risk_loss: 3.1734e-04 - eye_risk_loss: 0.0011 - dm_type_loss: 4.0952e-04 - smoking_loss: 3.2034e-04 - numerical_accuracy: 0.5652 - binary_accuracy: 0.9999 - foot_risk_accuracy: 0.9999 - eye_risk_accuracy: 0.9996 - dm_type_accuracy: 0.9998 - smoking_accuracy: 0.9999 - val_loss: 971225.5000 - val_numerical_loss: 0.0012 - val_binary_loss: 3.0306e-05 - val_foot_risk_loss: 9.2797e-06 - val_eye_risk_loss: 5.7256e-05 - val_dm_type_loss: 0.0025 - val_smoking_loss: 1.3207e-05 - val_numerical_accuracy: 0.6131 - val_binary_accuracy: 1.0000 - val_foot_risk_accuracy: 1.0000 - val_eye_risk_accuracy: 1.0000 - val_dm_type_accuracy: 0.9996 - val_smoking_accuracy: 1.0000\n",
      "Epoch 116/200\n",
      "1755/1755 [==============================] - 2s 1ms/step - loss: 985853.1250 - numerical_loss: 0.0019 - binary_loss: 1.7326e-04 - foot_risk_loss: 5.0537e-04 - eye_risk_loss: 5.0647e-04 - dm_type_loss: 6.7150e-04 - smoking_loss: 4.1514e-04 - numerical_accuracy: 0.5672 - binary_accuracy: 1.0000 - foot_risk_accuracy: 0.9999 - eye_risk_accuracy: 0.9999 - dm_type_accuracy: 0.9998 - smoking_accuracy: 1.0000 - val_loss: 991372.5000 - val_numerical_loss: 0.0012 - val_binary_loss: 2.1631e-04 - val_foot_risk_loss: 1.3228e-05 - val_eye_risk_loss: 7.6373e-04 - val_dm_type_loss: 0.0015 - val_smoking_loss: 1.4889e-05 - val_numerical_accuracy: 0.6392 - val_binary_accuracy: 0.9999 - val_foot_risk_accuracy: 1.0000 - val_eye_risk_accuracy: 0.9998 - val_dm_type_accuracy: 0.9996 - val_smoking_accuracy: 1.0000\n",
      "Epoch 117/200\n",
      "1755/1755 [==============================] - 2s 1ms/step - loss: 1006508.8125 - numerical_loss: 0.0020 - binary_loss: 2.6596e-04 - foot_risk_loss: 4.8967e-04 - eye_risk_loss: 0.0014 - dm_type_loss: 5.0460e-04 - smoking_loss: 4.3847e-04 - numerical_accuracy: 0.5648 - binary_accuracy: 0.9999 - foot_risk_accuracy: 0.9998 - eye_risk_accuracy: 0.9995 - dm_type_accuracy: 0.9999 - smoking_accuracy: 0.9999 - val_loss: 1026139.0000 - val_numerical_loss: 0.0012 - val_binary_loss: 4.9726e-05 - val_foot_risk_loss: 2.1785e-05 - val_eye_risk_loss: 2.3125e-04 - val_dm_type_loss: 0.0031 - val_smoking_loss: 1.4104e-05 - val_numerical_accuracy: 0.6153 - val_binary_accuracy: 1.0000 - val_foot_risk_accuracy: 1.0000 - val_eye_risk_accuracy: 0.9999 - val_dm_type_accuracy: 0.9994 - val_smoking_accuracy: 1.0000\n",
      "Epoch 118/200\n",
      "1755/1755 [==============================] - 2s 1ms/step - loss: 1031745.1250 - numerical_loss: 0.0020 - binary_loss: 8.0140e-04 - foot_risk_loss: 5.7806e-04 - eye_risk_loss: 0.0011 - dm_type_loss: 6.3335e-04 - smoking_loss: 2.7474e-04 - numerical_accuracy: 0.5638 - binary_accuracy: 0.9998 - foot_risk_accuracy: 0.9998 - eye_risk_accuracy: 0.9996 - dm_type_accuracy: 0.9998 - smoking_accuracy: 1.0000 - val_loss: 1026608.6875 - val_numerical_loss: 0.0013 - val_binary_loss: 1.4752e-04 - val_foot_risk_loss: 5.7061e-06 - val_eye_risk_loss: 2.6586e-04 - val_dm_type_loss: 0.0025 - val_smoking_loss: 4.1479e-05 - val_numerical_accuracy: 0.6125 - val_binary_accuracy: 1.0000 - val_foot_risk_accuracy: 1.0000 - val_eye_risk_accuracy: 0.9998 - val_dm_type_accuracy: 0.9996 - val_smoking_accuracy: 1.0000\n",
      "Epoch 119/200\n",
      "1755/1755 [==============================] - 2s 1ms/step - loss: 1064990.3750 - numerical_loss: 0.0020 - binary_loss: 1.2128e-04 - foot_risk_loss: 3.1679e-04 - eye_risk_loss: 0.0013 - dm_type_loss: 4.1350e-04 - smoking_loss: 5.7873e-04 - numerical_accuracy: 0.5638 - binary_accuracy: 1.0000 - foot_risk_accuracy: 0.9999 - eye_risk_accuracy: 0.9997 - dm_type_accuracy: 0.9999 - smoking_accuracy: 0.9999 - val_loss: 1066009.6250 - val_numerical_loss: 0.0014 - val_binary_loss: 6.2125e-05 - val_foot_risk_loss: 1.0342e-04 - val_eye_risk_loss: 2.4776e-05 - val_dm_type_loss: 0.0067 - val_smoking_loss: 4.9211e-04 - val_numerical_accuracy: 0.6282 - val_binary_accuracy: 1.0000 - val_foot_risk_accuracy: 1.0000 - val_eye_risk_accuracy: 1.0000 - val_dm_type_accuracy: 0.9992 - val_smoking_accuracy: 1.0000\n",
      "Epoch 120/200\n",
      "1755/1755 [==============================] - 2s 1ms/step - loss: 1077698.2500 - numerical_loss: 0.0020 - binary_loss: 5.7906e-04 - foot_risk_loss: 5.9616e-04 - eye_risk_loss: 0.0011 - dm_type_loss: 3.3727e-04 - smoking_loss: 5.5542e-04 - numerical_accuracy: 0.5637 - binary_accuracy: 0.9998 - foot_risk_accuracy: 0.9998 - eye_risk_accuracy: 0.9997 - dm_type_accuracy: 0.9999 - smoking_accuracy: 0.9998 - val_loss: 1073200.1250 - val_numerical_loss: 0.0014 - val_binary_loss: 7.1486e-05 - val_foot_risk_loss: 1.2773e-05 - val_eye_risk_loss: 2.3376e-04 - val_dm_type_loss: 0.0028 - val_smoking_loss: 3.3489e-05 - val_numerical_accuracy: 0.6146 - val_binary_accuracy: 1.0000 - val_foot_risk_accuracy: 1.0000 - val_eye_risk_accuracy: 0.9999 - val_dm_type_accuracy: 0.9995 - val_smoking_accuracy: 1.0000\n",
      "Epoch 121/200\n",
      "1755/1755 [==============================] - 2s 1ms/step - loss: 1105423.5000 - numerical_loss: 0.0019 - binary_loss: 3.9886e-04 - foot_risk_loss: 3.1319e-04 - eye_risk_loss: 9.0884e-04 - dm_type_loss: 6.4863e-04 - smoking_loss: 2.7624e-04 - numerical_accuracy: 0.5646 - binary_accuracy: 0.9999 - foot_risk_accuracy: 0.9999 - eye_risk_accuracy: 0.9996 - dm_type_accuracy: 0.9997 - smoking_accuracy: 0.9999 - val_loss: 1107328.3750 - val_numerical_loss: 0.0013 - val_binary_loss: 4.7124e-05 - val_foot_risk_loss: 2.6709e-05 - val_eye_risk_loss: 7.9383e-05 - val_dm_type_loss: 0.0013 - val_smoking_loss: 3.9900e-05 - val_numerical_accuracy: 0.6284 - val_binary_accuracy: 1.0000 - val_foot_risk_accuracy: 1.0000 - val_eye_risk_accuracy: 1.0000 - val_dm_type_accuracy: 0.9998 - val_smoking_accuracy: 1.0000\n",
      "Epoch 122/200\n",
      "1755/1755 [==============================] - 2s 1ms/step - loss: 1131672.5000 - numerical_loss: 0.0019 - binary_loss: 4.4471e-04 - foot_risk_loss: 6.2754e-04 - eye_risk_loss: 5.0066e-04 - dm_type_loss: 8.1296e-04 - smoking_loss: 5.9468e-04 - numerical_accuracy: 0.5647 - binary_accuracy: 0.9999 - foot_risk_accuracy: 0.9998 - eye_risk_accuracy: 0.9998 - dm_type_accuracy: 0.9998 - smoking_accuracy: 0.9998 - val_loss: 1160267.5000 - val_numerical_loss: 0.0013 - val_binary_loss: 0.0016 - val_foot_risk_loss: 8.3729e-06 - val_eye_risk_loss: 5.5048e-04 - val_dm_type_loss: 0.0030 - val_smoking_loss: 1.2652e-05 - val_numerical_accuracy: 0.6049 - val_binary_accuracy: 0.9995 - val_foot_risk_accuracy: 1.0000 - val_eye_risk_accuracy: 0.9999 - val_dm_type_accuracy: 0.9995 - val_smoking_accuracy: 1.0000\n",
      "Epoch 123/200\n",
      "1755/1755 [==============================] - 2s 1ms/step - loss: 1159664.3750 - numerical_loss: 0.0019 - binary_loss: 1.9614e-04 - foot_risk_loss: 4.4012e-04 - eye_risk_loss: 9.0283e-04 - dm_type_loss: 9.1206e-04 - smoking_loss: 2.4821e-04 - numerical_accuracy: 0.5636 - binary_accuracy: 0.9999 - foot_risk_accuracy: 0.9999 - eye_risk_accuracy: 0.9997 - dm_type_accuracy: 0.9997 - smoking_accuracy: 0.9999 - val_loss: 1158677.7500 - val_numerical_loss: 0.0015 - val_binary_loss: 2.7492e-04 - val_foot_risk_loss: 3.5126e-05 - val_eye_risk_loss: 3.2319e-04 - val_dm_type_loss: 0.0035 - val_smoking_loss: 1.9882e-05 - val_numerical_accuracy: 0.5911 - val_binary_accuracy: 0.9999 - val_foot_risk_accuracy: 1.0000 - val_eye_risk_accuracy: 0.9999 - val_dm_type_accuracy: 0.9995 - val_smoking_accuracy: 1.0000\n",
      "Epoch 124/200\n",
      "1755/1755 [==============================] - 2s 1ms/step - loss: 1199385.5000 - numerical_loss: 0.0019 - binary_loss: 3.7086e-04 - foot_risk_loss: 2.7623e-04 - eye_risk_loss: 0.0010 - dm_type_loss: 4.1445e-04 - smoking_loss: 6.8104e-04 - numerical_accuracy: 0.5672 - binary_accuracy: 0.9998 - foot_risk_accuracy: 0.9999 - eye_risk_accuracy: 0.9996 - dm_type_accuracy: 0.9999 - smoking_accuracy: 0.9998 - val_loss: 1207309.8750 - val_numerical_loss: 0.0013 - val_binary_loss: 9.4331e-05 - val_foot_risk_loss: 6.5726e-06 - val_eye_risk_loss: 2.9012e-04 - val_dm_type_loss: 0.0028 - val_smoking_loss: 1.2800e-05 - val_numerical_accuracy: 0.5812 - val_binary_accuracy: 1.0000 - val_foot_risk_accuracy: 1.0000 - val_eye_risk_accuracy: 0.9999 - val_dm_type_accuracy: 0.9996 - val_smoking_accuracy: 1.0000\n",
      "Epoch 125/200\n",
      "1755/1755 [==============================] - 2s 1ms/step - loss: 1230130.5000 - numerical_loss: 0.0019 - binary_loss: 1.7732e-04 - foot_risk_loss: 4.2868e-04 - eye_risk_loss: 0.0015 - dm_type_loss: 2.6403e-04 - smoking_loss: 4.6933e-04 - numerical_accuracy: 0.5687 - binary_accuracy: 1.0000 - foot_risk_accuracy: 0.9998 - eye_risk_accuracy: 0.9996 - dm_type_accuracy: 0.9999 - smoking_accuracy: 0.9998 - val_loss: 1277506.6250 - val_numerical_loss: 0.0016 - val_binary_loss: 3.0028e-05 - val_foot_risk_loss: 8.8217e-05 - val_eye_risk_loss: 8.1915e-04 - val_dm_type_loss: 0.0053 - val_smoking_loss: 1.1338e-04 - val_numerical_accuracy: 0.6003 - val_binary_accuracy: 1.0000 - val_foot_risk_accuracy: 1.0000 - val_eye_risk_accuracy: 0.9998 - val_dm_type_accuracy: 0.9993 - val_smoking_accuracy: 1.0000\n",
      "Epoch 126/200\n",
      "1755/1755 [==============================] - 2s 1ms/step - loss: 1246001.6250 - numerical_loss: 0.0019 - binary_loss: 3.1382e-04 - foot_risk_loss: 2.0663e-04 - eye_risk_loss: 9.6483e-04 - dm_type_loss: 9.8465e-04 - smoking_loss: 1.7621e-04 - numerical_accuracy: 0.5634 - binary_accuracy: 0.9999 - foot_risk_accuracy: 1.0000 - eye_risk_accuracy: 0.9997 - dm_type_accuracy: 0.9999 - smoking_accuracy: 1.0000 - val_loss: 1241287.1250 - val_numerical_loss: 0.0012 - val_binary_loss: 3.4197e-05 - val_foot_risk_loss: 4.8335e-06 - val_eye_risk_loss: 8.4497e-05 - val_dm_type_loss: 0.0023 - val_smoking_loss: 2.3099e-05 - val_numerical_accuracy: 0.6121 - val_binary_accuracy: 1.0000 - val_foot_risk_accuracy: 1.0000 - val_eye_risk_accuracy: 1.0000 - val_dm_type_accuracy: 0.9995 - val_smoking_accuracy: 1.0000\n",
      "Epoch 127/200\n",
      "1755/1755 [==============================] - 2s 1ms/step - loss: 1292345.3750 - numerical_loss: 0.0019 - binary_loss: 2.9160e-04 - foot_risk_loss: 3.9707e-04 - eye_risk_loss: 9.8391e-04 - dm_type_loss: 6.0081e-04 - smoking_loss: 6.6908e-04 - numerical_accuracy: 0.5632 - binary_accuracy: 0.9999 - foot_risk_accuracy: 0.9999 - eye_risk_accuracy: 0.9996 - dm_type_accuracy: 0.9998 - smoking_accuracy: 0.9998 - val_loss: 1312032.6250 - val_numerical_loss: 0.0011 - val_binary_loss: 1.5135e-05 - val_foot_risk_loss: 3.9224e-06 - val_eye_risk_loss: 1.3037e-04 - val_dm_type_loss: 0.0023 - val_smoking_loss: 1.1328e-04 - val_numerical_accuracy: 0.6269 - val_binary_accuracy: 1.0000 - val_foot_risk_accuracy: 1.0000 - val_eye_risk_accuracy: 1.0000 - val_dm_type_accuracy: 0.9996 - val_smoking_accuracy: 1.0000\n",
      "Epoch 128/200\n",
      "1755/1755 [==============================] - 2s 1ms/step - loss: 1299392.0000 - numerical_loss: 0.0019 - binary_loss: 2.8225e-04 - foot_risk_loss: 8.3072e-04 - eye_risk_loss: 6.3595e-04 - dm_type_loss: 3.3538e-04 - smoking_loss: 4.0334e-04 - numerical_accuracy: 0.5670 - binary_accuracy: 0.9999 - foot_risk_accuracy: 0.9998 - eye_risk_accuracy: 0.9998 - dm_type_accuracy: 0.9999 - smoking_accuracy: 0.9999 - val_loss: 1313444.5000 - val_numerical_loss: 0.0011 - val_binary_loss: 3.1493e-05 - val_foot_risk_loss: 3.5615e-06 - val_eye_risk_loss: 6.5698e-05 - val_dm_type_loss: 0.0034 - val_smoking_loss: 6.6110e-05 - val_numerical_accuracy: 0.6394 - val_binary_accuracy: 1.0000 - val_foot_risk_accuracy: 1.0000 - val_eye_risk_accuracy: 1.0000 - val_dm_type_accuracy: 0.9994 - val_smoking_accuracy: 1.0000\n",
      "Epoch 129/200\n",
      "1755/1755 [==============================] - 2s 1ms/step - loss: 1321769.5000 - numerical_loss: 0.0019 - binary_loss: 2.5652e-04 - foot_risk_loss: 3.2443e-04 - eye_risk_loss: 9.0853e-04 - dm_type_loss: 5.6237e-04 - smoking_loss: 6.6715e-04 - numerical_accuracy: 0.5667 - binary_accuracy: 1.0000 - foot_risk_accuracy: 0.9999 - eye_risk_accuracy: 0.9998 - dm_type_accuracy: 0.9998 - smoking_accuracy: 0.9998 - val_loss: 1310844.8750 - val_numerical_loss: 0.0014 - val_binary_loss: 1.6761e-04 - val_foot_risk_loss: 1.9985e-04 - val_eye_risk_loss: 2.1956e-04 - val_dm_type_loss: 0.0030 - val_smoking_loss: 0.0014 - val_numerical_accuracy: 0.6085 - val_binary_accuracy: 0.9999 - val_foot_risk_accuracy: 1.0000 - val_eye_risk_accuracy: 0.9999 - val_dm_type_accuracy: 0.9996 - val_smoking_accuracy: 0.9996\n",
      "Epoch 130/200\n",
      "1755/1755 [==============================] - 2s 1ms/step - loss: 1370341.7500 - numerical_loss: 0.0019 - binary_loss: 1.4957e-04 - foot_risk_loss: 8.2309e-04 - eye_risk_loss: 8.0941e-04 - dm_type_loss: 4.3047e-04 - smoking_loss: 4.2411e-04 - numerical_accuracy: 0.5654 - binary_accuracy: 1.0000 - foot_risk_accuracy: 0.9998 - eye_risk_accuracy: 0.9997 - dm_type_accuracy: 0.9999 - smoking_accuracy: 0.9999 - val_loss: 1393323.8750 - val_numerical_loss: 0.0013 - val_binary_loss: 2.0224e-05 - val_foot_risk_loss: 1.1629e-05 - val_eye_risk_loss: 7.0296e-05 - val_dm_type_loss: 0.0020 - val_smoking_loss: 3.8053e-05 - val_numerical_accuracy: 0.6128 - val_binary_accuracy: 1.0000 - val_foot_risk_accuracy: 1.0000 - val_eye_risk_accuracy: 1.0000 - val_dm_type_accuracy: 0.9996 - val_smoking_accuracy: 1.0000\n",
      "Epoch 131/200\n",
      "1755/1755 [==============================] - 2s 1ms/step - loss: 1390894.8750 - numerical_loss: 0.0019 - binary_loss: 5.9072e-04 - foot_risk_loss: 4.6786e-04 - eye_risk_loss: 5.1506e-04 - dm_type_loss: 6.7159e-04 - smoking_loss: 3.4406e-04 - numerical_accuracy: 0.5654 - binary_accuracy: 0.9998 - foot_risk_accuracy: 0.9998 - eye_risk_accuracy: 0.9998 - dm_type_accuracy: 0.9998 - smoking_accuracy: 0.9999 - val_loss: 1389491.2500 - val_numerical_loss: 0.0011 - val_binary_loss: 9.8442e-06 - val_foot_risk_loss: 2.0477e-05 - val_eye_risk_loss: 4.4472e-04 - val_dm_type_loss: 0.0027 - val_smoking_loss: 2.9857e-05 - val_numerical_accuracy: 0.5995 - val_binary_accuracy: 1.0000 - val_foot_risk_accuracy: 1.0000 - val_eye_risk_accuracy: 0.9999 - val_dm_type_accuracy: 0.9995 - val_smoking_accuracy: 1.0000\n",
      "Epoch 132/200\n",
      "1755/1755 [==============================] - 2s 1ms/step - loss: 1401293.6250 - numerical_loss: 0.0019 - binary_loss: 2.5250e-04 - foot_risk_loss: 1.1130e-04 - eye_risk_loss: 6.4839e-04 - dm_type_loss: 7.9000e-04 - smoking_loss: 3.4347e-04 - numerical_accuracy: 0.5693 - binary_accuracy: 0.9999 - foot_risk_accuracy: 1.0000 - eye_risk_accuracy: 0.9998 - dm_type_accuracy: 0.9998 - smoking_accuracy: 0.9999 - val_loss: 1402130.8750 - val_numerical_loss: 0.0011 - val_binary_loss: 1.9051e-04 - val_foot_risk_loss: 4.6289e-06 - val_eye_risk_loss: 5.3385e-05 - val_dm_type_loss: 0.0023 - val_smoking_loss: 1.5694e-05 - val_numerical_accuracy: 0.5413 - val_binary_accuracy: 0.9999 - val_foot_risk_accuracy: 1.0000 - val_eye_risk_accuracy: 1.0000 - val_dm_type_accuracy: 0.9996 - val_smoking_accuracy: 1.0000\n",
      "Epoch 133/200\n",
      "1755/1755 [==============================] - 2s 1ms/step - loss: 1434228.6250 - numerical_loss: 0.0019 - binary_loss: 5.9358e-04 - foot_risk_loss: 4.2306e-04 - eye_risk_loss: 7.4695e-04 - dm_type_loss: 4.0563e-04 - smoking_loss: 3.9102e-04 - numerical_accuracy: 0.5675 - binary_accuracy: 0.9998 - foot_risk_accuracy: 0.9999 - eye_risk_accuracy: 0.9998 - dm_type_accuracy: 0.9999 - smoking_accuracy: 0.9999 - val_loss: 1434407.2500 - val_numerical_loss: 0.0011 - val_binary_loss: 4.2540e-06 - val_foot_risk_loss: 1.6673e-05 - val_eye_risk_loss: 3.1482e-04 - val_dm_type_loss: 0.0011 - val_smoking_loss: 4.2313e-05 - val_numerical_accuracy: 0.6238 - val_binary_accuracy: 1.0000 - val_foot_risk_accuracy: 1.0000 - val_eye_risk_accuracy: 0.9999 - val_dm_type_accuracy: 0.9996 - val_smoking_accuracy: 1.0000\n",
      "Epoch 134/200\n",
      "1755/1755 [==============================] - 2s 1ms/step - loss: 1458765.2500 - numerical_loss: 0.0019 - binary_loss: 4.6779e-04 - foot_risk_loss: 3.4958e-04 - eye_risk_loss: 7.3444e-04 - dm_type_loss: 5.4280e-04 - smoking_loss: 3.5969e-04 - numerical_accuracy: 0.5648 - binary_accuracy: 0.9999 - foot_risk_accuracy: 0.9999 - eye_risk_accuracy: 0.9998 - dm_type_accuracy: 0.9999 - smoking_accuracy: 1.0000 - val_loss: 1479021.8750 - val_numerical_loss: 0.0011 - val_binary_loss: 1.4647e-05 - val_foot_risk_loss: 4.3263e-06 - val_eye_risk_loss: 9.7162e-05 - val_dm_type_loss: 0.0017 - val_smoking_loss: 7.6350e-05 - val_numerical_accuracy: 0.6304 - val_binary_accuracy: 1.0000 - val_foot_risk_accuracy: 1.0000 - val_eye_risk_accuracy: 0.9999 - val_dm_type_accuracy: 0.9995 - val_smoking_accuracy: 1.0000\n",
      "Epoch 135/200\n",
      "1755/1755 [==============================] - 2s 1ms/step - loss: 1496596.0000 - numerical_loss: 0.0019 - binary_loss: 3.0114e-04 - foot_risk_loss: 3.5985e-04 - eye_risk_loss: 0.0011 - dm_type_loss: 6.5084e-04 - smoking_loss: 5.9229e-04 - numerical_accuracy: 0.5645 - binary_accuracy: 0.9999 - foot_risk_accuracy: 0.9999 - eye_risk_accuracy: 0.9996 - dm_type_accuracy: 0.9998 - smoking_accuracy: 0.9998 - val_loss: 1507996.5000 - val_numerical_loss: 0.0011 - val_binary_loss: 1.6868e-05 - val_foot_risk_loss: 1.0692e-05 - val_eye_risk_loss: 2.1282e-05 - val_dm_type_loss: 0.0045 - val_smoking_loss: 6.8144e-05 - val_numerical_accuracy: 0.5761 - val_binary_accuracy: 1.0000 - val_foot_risk_accuracy: 1.0000 - val_eye_risk_accuracy: 1.0000 - val_dm_type_accuracy: 0.9994 - val_smoking_accuracy: 1.0000\n",
      "Epoch 136/200\n",
      "1755/1755 [==============================] - 2s 1ms/step - loss: 1521892.2500 - numerical_loss: 0.0019 - binary_loss: 7.4988e-04 - foot_risk_loss: 4.0643e-04 - eye_risk_loss: 0.0012 - dm_type_loss: 6.6625e-04 - smoking_loss: 4.9671e-04 - numerical_accuracy: 0.5630 - binary_accuracy: 0.9998 - foot_risk_accuracy: 0.9999 - eye_risk_accuracy: 0.9997 - dm_type_accuracy: 0.9998 - smoking_accuracy: 0.9999 - val_loss: 1515439.7500 - val_numerical_loss: 0.0012 - val_binary_loss: 1.9904e-06 - val_foot_risk_loss: 8.1555e-06 - val_eye_risk_loss: 8.1748e-05 - val_dm_type_loss: 0.0032 - val_smoking_loss: 7.3619e-05 - val_numerical_accuracy: 0.5896 - val_binary_accuracy: 1.0000 - val_foot_risk_accuracy: 1.0000 - val_eye_risk_accuracy: 1.0000 - val_dm_type_accuracy: 0.9994 - val_smoking_accuracy: 1.0000\n",
      "Epoch 137/200\n",
      "1755/1755 [==============================] - 2s 1ms/step - loss: 1553138.0000 - numerical_loss: 0.0019 - binary_loss: 8.7805e-04 - foot_risk_loss: 3.2581e-04 - eye_risk_loss: 6.3693e-04 - dm_type_loss: 9.8514e-04 - smoking_loss: 5.5469e-04 - numerical_accuracy: 0.5665 - binary_accuracy: 0.9998 - foot_risk_accuracy: 0.9999 - eye_risk_accuracy: 0.9998 - dm_type_accuracy: 0.9998 - smoking_accuracy: 0.9998 - val_loss: 1563010.5000 - val_numerical_loss: 0.0012 - val_binary_loss: 7.0474e-05 - val_foot_risk_loss: 2.4441e-05 - val_eye_risk_loss: 1.0305e-04 - val_dm_type_loss: 0.0048 - val_smoking_loss: 6.1910e-05 - val_numerical_accuracy: 0.6235 - val_binary_accuracy: 1.0000 - val_foot_risk_accuracy: 1.0000 - val_eye_risk_accuracy: 1.0000 - val_dm_type_accuracy: 0.9995 - val_smoking_accuracy: 1.0000\n",
      "Epoch 138/200\n",
      "1755/1755 [==============================] - 2s 1ms/step - loss: 1594195.7500 - numerical_loss: 0.0019 - binary_loss: 2.7069e-04 - foot_risk_loss: 4.3222e-04 - eye_risk_loss: 7.2760e-04 - dm_type_loss: 6.0639e-04 - smoking_loss: 4.0611e-04 - numerical_accuracy: 0.5646 - binary_accuracy: 0.9999 - foot_risk_accuracy: 0.9999 - eye_risk_accuracy: 0.9997 - dm_type_accuracy: 0.9998 - smoking_accuracy: 1.0000 - val_loss: 1604357.6250 - val_numerical_loss: 0.0011 - val_binary_loss: 8.9318e-06 - val_foot_risk_loss: 5.3282e-06 - val_eye_risk_loss: 2.0685e-04 - val_dm_type_loss: 0.0023 - val_smoking_loss: 4.0935e-05 - val_numerical_accuracy: 0.6168 - val_binary_accuracy: 1.0000 - val_foot_risk_accuracy: 1.0000 - val_eye_risk_accuracy: 0.9999 - val_dm_type_accuracy: 0.9995 - val_smoking_accuracy: 1.0000\n",
      "Epoch 139/200\n",
      "1755/1755 [==============================] - 2s 1ms/step - loss: 1634932.8750 - numerical_loss: 0.0019 - binary_loss: 2.6967e-04 - foot_risk_loss: 2.7121e-04 - eye_risk_loss: 0.0011 - dm_type_loss: 4.6383e-04 - smoking_loss: 2.7936e-04 - numerical_accuracy: 0.5665 - binary_accuracy: 0.9999 - foot_risk_accuracy: 0.9999 - eye_risk_accuracy: 0.9997 - dm_type_accuracy: 0.9998 - smoking_accuracy: 1.0000 - val_loss: 1658863.7500 - val_numerical_loss: 0.0011 - val_binary_loss: 1.2502e-05 - val_foot_risk_loss: 1.1012e-05 - val_eye_risk_loss: 2.2620e-05 - val_dm_type_loss: 0.0049 - val_smoking_loss: 1.9425e-05 - val_numerical_accuracy: 0.5812 - val_binary_accuracy: 1.0000 - val_foot_risk_accuracy: 1.0000 - val_eye_risk_accuracy: 1.0000 - val_dm_type_accuracy: 0.9995 - val_smoking_accuracy: 1.0000\n",
      "Epoch 140/200\n",
      "1755/1755 [==============================] - 2s 1ms/step - loss: 1673306.1250 - numerical_loss: 0.0019 - binary_loss: 2.9372e-04 - foot_risk_loss: 5.6163e-04 - eye_risk_loss: 9.9819e-04 - dm_type_loss: 4.5801e-04 - smoking_loss: 5.4143e-04 - numerical_accuracy: 0.5656 - binary_accuracy: 0.9999 - foot_risk_accuracy: 0.9998 - eye_risk_accuracy: 0.9997 - dm_type_accuracy: 0.9998 - smoking_accuracy: 0.9999 - val_loss: 1761644.3750 - val_numerical_loss: 0.0012 - val_binary_loss: 2.0806e-05 - val_foot_risk_loss: 0.0243 - val_eye_risk_loss: 5.4210e-05 - val_dm_type_loss: 0.0044 - val_smoking_loss: 1.5070e-04 - val_numerical_accuracy: 0.5696 - val_binary_accuracy: 1.0000 - val_foot_risk_accuracy: 0.9944 - val_eye_risk_accuracy: 1.0000 - val_dm_type_accuracy: 0.9994 - val_smoking_accuracy: 0.9999\n",
      "Epoch 141/200\n",
      "1755/1755 [==============================] - 2s 1ms/step - loss: 1690016.2500 - numerical_loss: 0.0019 - binary_loss: 3.4852e-04 - foot_risk_loss: 2.3388e-04 - eye_risk_loss: 4.9410e-04 - dm_type_loss: 9.4521e-04 - smoking_loss: 6.0338e-04 - numerical_accuracy: 0.5662 - binary_accuracy: 0.9999 - foot_risk_accuracy: 0.9999 - eye_risk_accuracy: 0.9999 - dm_type_accuracy: 0.9997 - smoking_accuracy: 0.9998 - val_loss: 1703416.7500 - val_numerical_loss: 0.0012 - val_binary_loss: 2.2019e-06 - val_foot_risk_loss: 4.5434e-06 - val_eye_risk_loss: 1.8456e-04 - val_dm_type_loss: 0.0011 - val_smoking_loss: 5.2819e-05 - val_numerical_accuracy: 0.6460 - val_binary_accuracy: 1.0000 - val_foot_risk_accuracy: 1.0000 - val_eye_risk_accuracy: 0.9999 - val_dm_type_accuracy: 0.9996 - val_smoking_accuracy: 1.0000\n",
      "Epoch 142/200\n",
      "1755/1755 [==============================] - 2s 1ms/step - loss: 1727395.0000 - numerical_loss: 0.0019 - binary_loss: 2.4170e-04 - foot_risk_loss: 2.6208e-04 - eye_risk_loss: 0.0014 - dm_type_loss: 2.7490e-04 - smoking_loss: 5.1989e-04 - numerical_accuracy: 0.5669 - binary_accuracy: 1.0000 - foot_risk_accuracy: 1.0000 - eye_risk_accuracy: 0.9996 - dm_type_accuracy: 0.9999 - smoking_accuracy: 0.9999 - val_loss: 1762362.7500 - val_numerical_loss: 0.0016 - val_binary_loss: 6.6651e-06 - val_foot_risk_loss: 2.0639e-05 - val_eye_risk_loss: 4.1741e-05 - val_dm_type_loss: 0.0026 - val_smoking_loss: 7.3505e-05 - val_numerical_accuracy: 0.5685 - val_binary_accuracy: 1.0000 - val_foot_risk_accuracy: 1.0000 - val_eye_risk_accuracy: 1.0000 - val_dm_type_accuracy: 0.9996 - val_smoking_accuracy: 1.0000\n",
      "Epoch 143/200\n",
      "1755/1755 [==============================] - 2s 1ms/step - loss: 1758143.5000 - numerical_loss: 0.0019 - binary_loss: 6.4238e-04 - foot_risk_loss: 5.4531e-04 - eye_risk_loss: 5.5058e-04 - dm_type_loss: 6.0655e-04 - smoking_loss: 5.6966e-04 - numerical_accuracy: 0.5667 - binary_accuracy: 0.9998 - foot_risk_accuracy: 0.9999 - eye_risk_accuracy: 0.9998 - dm_type_accuracy: 0.9998 - smoking_accuracy: 0.9998 - val_loss: 1832437.6250 - val_numerical_loss: 0.0016 - val_binary_loss: 5.7103e-06 - val_foot_risk_loss: 0.0035 - val_eye_risk_loss: 3.1482e-05 - val_dm_type_loss: 0.0177 - val_smoking_loss: 1.7210e-05 - val_numerical_accuracy: 0.5419 - val_binary_accuracy: 1.0000 - val_foot_risk_accuracy: 0.9989 - val_eye_risk_accuracy: 1.0000 - val_dm_type_accuracy: 0.9966 - val_smoking_accuracy: 1.0000\n",
      "Epoch 144/200\n",
      "1755/1755 [==============================] - 2s 1ms/step - loss: 1791434.3750 - numerical_loss: 0.0019 - binary_loss: 1.7396e-04 - foot_risk_loss: 4.1420e-04 - eye_risk_loss: 5.7553e-04 - dm_type_loss: 4.2965e-04 - smoking_loss: 2.2294e-04 - numerical_accuracy: 0.5652 - binary_accuracy: 0.9999 - foot_risk_accuracy: 0.9999 - eye_risk_accuracy: 0.9998 - dm_type_accuracy: 0.9999 - smoking_accuracy: 0.9999 - val_loss: 1778391.3750 - val_numerical_loss: 0.0012 - val_binary_loss: 3.4023e-05 - val_foot_risk_loss: 1.0251e-05 - val_eye_risk_loss: 0.0018 - val_dm_type_loss: 0.0017 - val_smoking_loss: 1.9800e-05 - val_numerical_accuracy: 0.6082 - val_binary_accuracy: 1.0000 - val_foot_risk_accuracy: 1.0000 - val_eye_risk_accuracy: 0.9997 - val_dm_type_accuracy: 0.9997 - val_smoking_accuracy: 1.0000\n",
      "Epoch 145/200\n",
      "1755/1755 [==============================] - 2s 1ms/step - loss: 1855634.3750 - numerical_loss: 0.0019 - binary_loss: 5.2570e-04 - foot_risk_loss: 5.7282e-04 - eye_risk_loss: 6.7031e-04 - dm_type_loss: 9.1734e-04 - smoking_loss: 5.2373e-04 - numerical_accuracy: 0.5651 - binary_accuracy: 0.9998 - foot_risk_accuracy: 0.9998 - eye_risk_accuracy: 0.9998 - dm_type_accuracy: 0.9998 - smoking_accuracy: 0.9999 - val_loss: 1870046.8750 - val_numerical_loss: 0.0011 - val_binary_loss: 5.1436e-06 - val_foot_risk_loss: 6.2652e-06 - val_eye_risk_loss: 4.5743e-05 - val_dm_type_loss: 0.0016 - val_smoking_loss: 5.8252e-05 - val_numerical_accuracy: 0.6292 - val_binary_accuracy: 1.0000 - val_foot_risk_accuracy: 1.0000 - val_eye_risk_accuracy: 1.0000 - val_dm_type_accuracy: 0.9996 - val_smoking_accuracy: 1.0000\n",
      "Epoch 146/200\n",
      "1755/1755 [==============================] - 2s 1ms/step - loss: 1906840.3750 - numerical_loss: 0.0019 - binary_loss: 3.4295e-04 - foot_risk_loss: 1.1986e-04 - eye_risk_loss: 5.5507e-04 - dm_type_loss: 4.9449e-04 - smoking_loss: 3.1699e-04 - numerical_accuracy: 0.5679 - binary_accuracy: 0.9999 - foot_risk_accuracy: 1.0000 - eye_risk_accuracy: 0.9999 - dm_type_accuracy: 0.9998 - smoking_accuracy: 0.9999 - val_loss: 1928748.8750 - val_numerical_loss: 0.0012 - val_binary_loss: 5.2288e-06 - val_foot_risk_loss: 9.7305e-06 - val_eye_risk_loss: 7.4749e-05 - val_dm_type_loss: 0.0026 - val_smoking_loss: 2.8885e-05 - val_numerical_accuracy: 0.6271 - val_binary_accuracy: 1.0000 - val_foot_risk_accuracy: 1.0000 - val_eye_risk_accuracy: 1.0000 - val_dm_type_accuracy: 0.9996 - val_smoking_accuracy: 1.0000\n",
      "Epoch 147/200\n",
      "1755/1755 [==============================] - 2s 1ms/step - loss: 1946946.5000 - numerical_loss: 0.0019 - binary_loss: 3.8805e-04 - foot_risk_loss: 6.4498e-04 - eye_risk_loss: 0.0014 - dm_type_loss: 0.0013 - smoking_loss: 2.0887e-04 - numerical_accuracy: 0.5669 - binary_accuracy: 0.9999 - foot_risk_accuracy: 0.9998 - eye_risk_accuracy: 0.9996 - dm_type_accuracy: 0.9996 - smoking_accuracy: 1.0000 - val_loss: 1994112.7500 - val_numerical_loss: 0.0019 - val_binary_loss: 2.2528e-05 - val_foot_risk_loss: 8.7890e-06 - val_eye_risk_loss: 2.8602e-04 - val_dm_type_loss: 0.0048 - val_smoking_loss: 1.2227e-05 - val_numerical_accuracy: 0.5943 - val_binary_accuracy: 1.0000 - val_foot_risk_accuracy: 1.0000 - val_eye_risk_accuracy: 0.9999 - val_dm_type_accuracy: 0.9994 - val_smoking_accuracy: 1.0000\n",
      "Epoch 148/200\n",
      "1755/1755 [==============================] - 2s 1ms/step - loss: 1974658.0000 - numerical_loss: 0.0018 - binary_loss: 1.8285e-04 - foot_risk_loss: 6.5622e-04 - eye_risk_loss: 6.2575e-04 - dm_type_loss: 6.6352e-04 - smoking_loss: 0.0011 - numerical_accuracy: 0.5698 - binary_accuracy: 0.9999 - foot_risk_accuracy: 0.9998 - eye_risk_accuracy: 0.9999 - dm_type_accuracy: 0.9998 - smoking_accuracy: 0.9996 - val_loss: 1989778.7500 - val_numerical_loss: 0.0012 - val_binary_loss: 4.3587e-06 - val_foot_risk_loss: 8.5298e-06 - val_eye_risk_loss: 1.1530e-04 - val_dm_type_loss: 0.0025 - val_smoking_loss: 9.1670e-06 - val_numerical_accuracy: 0.6205 - val_binary_accuracy: 1.0000 - val_foot_risk_accuracy: 1.0000 - val_eye_risk_accuracy: 1.0000 - val_dm_type_accuracy: 0.9996 - val_smoking_accuracy: 1.0000\n",
      "Epoch 149/200\n",
      "1755/1755 [==============================] - 2s 1ms/step - loss: 2015833.0000 - numerical_loss: 0.0019 - binary_loss: 4.7921e-04 - foot_risk_loss: 3.8503e-04 - eye_risk_loss: 0.0017 - dm_type_loss: 5.4053e-04 - smoking_loss: 2.8033e-04 - numerical_accuracy: 0.5677 - binary_accuracy: 0.9999 - foot_risk_accuracy: 0.9999 - eye_risk_accuracy: 0.9996 - dm_type_accuracy: 0.9998 - smoking_accuracy: 1.0000 - val_loss: 2019460.1250 - val_numerical_loss: 0.0012 - val_binary_loss: 3.3345e-06 - val_foot_risk_loss: 1.3782e-05 - val_eye_risk_loss: 3.1866e-04 - val_dm_type_loss: 0.0021 - val_smoking_loss: 6.1454e-05 - val_numerical_accuracy: 0.6086 - val_binary_accuracy: 1.0000 - val_foot_risk_accuracy: 1.0000 - val_eye_risk_accuracy: 0.9999 - val_dm_type_accuracy: 0.9996 - val_smoking_accuracy: 1.0000\n",
      "Epoch 150/200\n",
      "1755/1755 [==============================] - 2s 1ms/step - loss: 2019558.8750 - numerical_loss: 0.0019 - binary_loss: 3.5280e-04 - foot_risk_loss: 3.3199e-04 - eye_risk_loss: 9.1851e-04 - dm_type_loss: 6.1178e-04 - smoking_loss: 4.5784e-04 - numerical_accuracy: 0.5669 - binary_accuracy: 0.9999 - foot_risk_accuracy: 0.9999 - eye_risk_accuracy: 0.9997 - dm_type_accuracy: 0.9998 - smoking_accuracy: 0.9999 - val_loss: 2057236.1250 - val_numerical_loss: 0.0012 - val_binary_loss: 1.2762e-04 - val_foot_risk_loss: 4.2780e-06 - val_eye_risk_loss: 4.5450e-05 - val_dm_type_loss: 0.0024 - val_smoking_loss: 4.0430e-05 - val_numerical_accuracy: 0.5676 - val_binary_accuracy: 0.9999 - val_foot_risk_accuracy: 1.0000 - val_eye_risk_accuracy: 1.0000 - val_dm_type_accuracy: 0.9996 - val_smoking_accuracy: 1.0000\n",
      "Epoch 151/200\n",
      "1755/1755 [==============================] - 2s 1ms/step - loss: 2073726.1250 - numerical_loss: 0.0019 - binary_loss: 3.0472e-04 - foot_risk_loss: 9.2489e-04 - eye_risk_loss: 5.0068e-04 - dm_type_loss: 3.9785e-04 - smoking_loss: 6.4520e-04 - numerical_accuracy: 0.5668 - binary_accuracy: 0.9999 - foot_risk_accuracy: 0.9998 - eye_risk_accuracy: 0.9999 - dm_type_accuracy: 0.9999 - smoking_accuracy: 0.9998 - val_loss: 2089255.5000 - val_numerical_loss: 0.0011 - val_binary_loss: 1.0613e-06 - val_foot_risk_loss: 4.4156e-06 - val_eye_risk_loss: 4.7536e-04 - val_dm_type_loss: 0.0025 - val_smoking_loss: 4.9818e-05 - val_numerical_accuracy: 0.5745 - val_binary_accuracy: 1.0000 - val_foot_risk_accuracy: 1.0000 - val_eye_risk_accuracy: 0.9999 - val_dm_type_accuracy: 0.9996 - val_smoking_accuracy: 1.0000\n",
      "Epoch 152/200\n",
      "1755/1755 [==============================] - 2s 1ms/step - loss: 2113778.5000 - numerical_loss: 0.0019 - binary_loss: 3.8843e-04 - foot_risk_loss: 1.4391e-04 - eye_risk_loss: 6.9653e-04 - dm_type_loss: 4.4722e-04 - smoking_loss: 4.3779e-04 - numerical_accuracy: 0.5699 - binary_accuracy: 0.9999 - foot_risk_accuracy: 1.0000 - eye_risk_accuracy: 0.9999 - dm_type_accuracy: 0.9999 - smoking_accuracy: 0.9999 - val_loss: 2145559.0000 - val_numerical_loss: 0.0011 - val_binary_loss: 1.0628e-06 - val_foot_risk_loss: 1.8831e-06 - val_eye_risk_loss: 2.8805e-05 - val_dm_type_loss: 0.0040 - val_smoking_loss: 1.1319e-04 - val_numerical_accuracy: 0.6353 - val_binary_accuracy: 1.0000 - val_foot_risk_accuracy: 1.0000 - val_eye_risk_accuracy: 1.0000 - val_dm_type_accuracy: 0.9994 - val_smoking_accuracy: 1.0000\n",
      "Epoch 153/200\n",
      "1755/1755 [==============================] - 2s 1ms/step - loss: 2126778.5000 - numerical_loss: 0.0019 - binary_loss: 3.8979e-04 - foot_risk_loss: 1.8303e-04 - eye_risk_loss: 0.0017 - dm_type_loss: 6.9770e-04 - smoking_loss: 2.3860e-04 - numerical_accuracy: 0.5671 - binary_accuracy: 0.9999 - foot_risk_accuracy: 1.0000 - eye_risk_accuracy: 0.9996 - dm_type_accuracy: 0.9998 - smoking_accuracy: 1.0000 - val_loss: 2148207.7500 - val_numerical_loss: 0.0013 - val_binary_loss: 2.4402e-05 - val_foot_risk_loss: 3.4272e-06 - val_eye_risk_loss: 6.5196e-04 - val_dm_type_loss: 0.0038 - val_smoking_loss: 4.9088e-05 - val_numerical_accuracy: 0.6086 - val_binary_accuracy: 1.0000 - val_foot_risk_accuracy: 1.0000 - val_eye_risk_accuracy: 0.9999 - val_dm_type_accuracy: 0.9995 - val_smoking_accuracy: 1.0000\n",
      "Epoch 154/200\n",
      "1755/1755 [==============================] - 2s 1ms/step - loss: 2189134.7500 - numerical_loss: 0.0019 - binary_loss: 3.7998e-04 - foot_risk_loss: 3.4098e-04 - eye_risk_loss: 6.9012e-04 - dm_type_loss: 9.1841e-04 - smoking_loss: 4.6509e-04 - numerical_accuracy: 0.5637 - binary_accuracy: 0.9999 - foot_risk_accuracy: 0.9999 - eye_risk_accuracy: 0.9999 - dm_type_accuracy: 0.9997 - smoking_accuracy: 0.9999 - val_loss: 2276017.2500 - val_numerical_loss: 0.0015 - val_binary_loss: 3.4892e-06 - val_foot_risk_loss: 4.5145e-04 - val_eye_risk_loss: 1.1971e-04 - val_dm_type_loss: 0.0033 - val_smoking_loss: 5.7348e-05 - val_numerical_accuracy: 0.6245 - val_binary_accuracy: 1.0000 - val_foot_risk_accuracy: 0.9999 - val_eye_risk_accuracy: 1.0000 - val_dm_type_accuracy: 0.9996 - val_smoking_accuracy: 1.0000\n",
      "Epoch 155/200\n",
      "1755/1755 [==============================] - 2s 1ms/step - loss: 2213175.7500 - numerical_loss: 0.0018 - binary_loss: 3.0233e-04 - foot_risk_loss: 3.6485e-04 - eye_risk_loss: 0.0010 - dm_type_loss: 2.5775e-04 - smoking_loss: 5.6391e-04 - numerical_accuracy: 0.5679 - binary_accuracy: 0.9999 - foot_risk_accuracy: 0.9999 - eye_risk_accuracy: 0.9997 - dm_type_accuracy: 0.9999 - smoking_accuracy: 0.9998 - val_loss: 2281630.7500 - val_numerical_loss: 0.0013 - val_binary_loss: 3.6321e-06 - val_foot_risk_loss: 4.4357e-06 - val_eye_risk_loss: 3.7594e-05 - val_dm_type_loss: 0.0033 - val_smoking_loss: 1.8281e-05 - val_numerical_accuracy: 0.6273 - val_binary_accuracy: 1.0000 - val_foot_risk_accuracy: 1.0000 - val_eye_risk_accuracy: 1.0000 - val_dm_type_accuracy: 0.9996 - val_smoking_accuracy: 1.0000\n",
      "Epoch 156/200\n",
      "1755/1755 [==============================] - 2s 1ms/step - loss: 2245769.7500 - numerical_loss: 0.0019 - binary_loss: 2.8732e-04 - foot_risk_loss: 7.1203e-04 - eye_risk_loss: 0.0022 - dm_type_loss: 7.9982e-04 - smoking_loss: 3.2581e-04 - numerical_accuracy: 0.5648 - binary_accuracy: 0.9999 - foot_risk_accuracy: 0.9998 - eye_risk_accuracy: 0.9994 - dm_type_accuracy: 0.9998 - smoking_accuracy: 1.0000 - val_loss: 2241793.2500 - val_numerical_loss: 0.0012 - val_binary_loss: 2.0696e-06 - val_foot_risk_loss: 4.7768e-05 - val_eye_risk_loss: 6.1566e-04 - val_dm_type_loss: 0.0036 - val_smoking_loss: 5.0120e-05 - val_numerical_accuracy: 0.6404 - val_binary_accuracy: 1.0000 - val_foot_risk_accuracy: 1.0000 - val_eye_risk_accuracy: 0.9999 - val_dm_type_accuracy: 0.9995 - val_smoking_accuracy: 1.0000\n",
      "Epoch 157/200\n",
      "1755/1755 [==============================] - 2s 1ms/step - loss: 2303360.0000 - numerical_loss: 0.0018 - binary_loss: 3.3732e-04 - foot_risk_loss: 1.4367e-04 - eye_risk_loss: 7.0974e-04 - dm_type_loss: 4.8542e-04 - smoking_loss: 3.0527e-04 - numerical_accuracy: 0.5679 - binary_accuracy: 0.9999 - foot_risk_accuracy: 0.9999 - eye_risk_accuracy: 0.9998 - dm_type_accuracy: 0.9998 - smoking_accuracy: 0.9999 - val_loss: 2330796.0000 - val_numerical_loss: 0.0011 - val_binary_loss: 8.5536e-06 - val_foot_risk_loss: 4.1825e-06 - val_eye_risk_loss: 1.1893e-04 - val_dm_type_loss: 0.0036 - val_smoking_loss: 3.2792e-05 - val_numerical_accuracy: 0.6155 - val_binary_accuracy: 1.0000 - val_foot_risk_accuracy: 1.0000 - val_eye_risk_accuracy: 0.9999 - val_dm_type_accuracy: 0.9995 - val_smoking_accuracy: 1.0000\n",
      "Epoch 158/200\n",
      "1755/1755 [==============================] - 2s 1ms/step - loss: 2369831.0000 - numerical_loss: 0.0018 - binary_loss: 8.3553e-04 - foot_risk_loss: 2.9439e-04 - eye_risk_loss: 6.3041e-04 - dm_type_loss: 3.9844e-04 - smoking_loss: 5.2311e-04 - numerical_accuracy: 0.5628 - binary_accuracy: 0.9997 - foot_risk_accuracy: 0.9999 - eye_risk_accuracy: 0.9997 - dm_type_accuracy: 0.9998 - smoking_accuracy: 0.9999 - val_loss: 2394897.5000 - val_numerical_loss: 0.0012 - val_binary_loss: 2.4575e-07 - val_foot_risk_loss: 6.0377e-05 - val_eye_risk_loss: 2.7280e-04 - val_dm_type_loss: 0.0031 - val_smoking_loss: 3.0477e-04 - val_numerical_accuracy: 0.6118 - val_binary_accuracy: 1.0000 - val_foot_risk_accuracy: 1.0000 - val_eye_risk_accuracy: 0.9999 - val_dm_type_accuracy: 0.9996 - val_smoking_accuracy: 1.0000\n",
      "Epoch 159/200\n",
      "1755/1755 [==============================] - 2s 1ms/step - loss: 2411775.2500 - numerical_loss: 0.0018 - binary_loss: 3.0889e-04 - foot_risk_loss: 5.2265e-04 - eye_risk_loss: 0.0012 - dm_type_loss: 5.7528e-04 - smoking_loss: 3.1857e-04 - numerical_accuracy: 0.5670 - binary_accuracy: 0.9999 - foot_risk_accuracy: 0.9998 - eye_risk_accuracy: 0.9996 - dm_type_accuracy: 0.9999 - smoking_accuracy: 1.0000 - val_loss: 2465606.2500 - val_numerical_loss: 0.0011 - val_binary_loss: 5.3802e-07 - val_foot_risk_loss: 5.0481e-06 - val_eye_risk_loss: 1.3457e-04 - val_dm_type_loss: 0.0039 - val_smoking_loss: 5.1722e-05 - val_numerical_accuracy: 0.6091 - val_binary_accuracy: 1.0000 - val_foot_risk_accuracy: 1.0000 - val_eye_risk_accuracy: 0.9999 - val_dm_type_accuracy: 0.9994 - val_smoking_accuracy: 1.0000\n",
      "Epoch 160/200\n",
      "1755/1755 [==============================] - 2s 1ms/step - loss: 2480210.0000 - numerical_loss: 0.0018 - binary_loss: 3.0511e-04 - foot_risk_loss: 0.0012 - eye_risk_loss: 8.7077e-04 - dm_type_loss: 0.0010 - smoking_loss: 6.7875e-04 - numerical_accuracy: 0.5700 - binary_accuracy: 0.9999 - foot_risk_accuracy: 0.9998 - eye_risk_accuracy: 0.9998 - dm_type_accuracy: 0.9998 - smoking_accuracy: 0.9998 - val_loss: 2480881.2500 - val_numerical_loss: 0.0011 - val_binary_loss: 5.7557e-07 - val_foot_risk_loss: 7.6266e-06 - val_eye_risk_loss: 1.2529e-04 - val_dm_type_loss: 0.0033 - val_smoking_loss: 1.7861e-05 - val_numerical_accuracy: 0.6284 - val_binary_accuracy: 1.0000 - val_foot_risk_accuracy: 1.0000 - val_eye_risk_accuracy: 1.0000 - val_dm_type_accuracy: 0.9996 - val_smoking_accuracy: 1.0000\n",
      "Epoch 161/200\n",
      "1755/1755 [==============================] - 2s 1ms/step - loss: 2530438.7500 - numerical_loss: 0.0018 - binary_loss: 4.0291e-04 - foot_risk_loss: 2.5944e-04 - eye_risk_loss: 5.9268e-04 - dm_type_loss: 4.2709e-04 - smoking_loss: 3.1404e-04 - numerical_accuracy: 0.5651 - binary_accuracy: 0.9998 - foot_risk_accuracy: 0.9999 - eye_risk_accuracy: 0.9998 - dm_type_accuracy: 0.9998 - smoking_accuracy: 0.9999 - val_loss: 2516346.5000 - val_numerical_loss: 0.0014 - val_binary_loss: 4.6896e-07 - val_foot_risk_loss: 9.5373e-06 - val_eye_risk_loss: 0.0056 - val_dm_type_loss: 0.0029 - val_smoking_loss: 9.9038e-05 - val_numerical_accuracy: 0.6207 - val_binary_accuracy: 1.0000 - val_foot_risk_accuracy: 1.0000 - val_eye_risk_accuracy: 0.9984 - val_dm_type_accuracy: 0.9996 - val_smoking_accuracy: 1.0000\n",
      "Epoch 162/200\n",
      "1755/1755 [==============================] - 2s 1ms/step - loss: 2613303.2500 - numerical_loss: 0.0018 - binary_loss: 5.9589e-04 - foot_risk_loss: 4.5327e-04 - eye_risk_loss: 6.7906e-04 - dm_type_loss: 6.4538e-04 - smoking_loss: 7.1435e-04 - numerical_accuracy: 0.5693 - binary_accuracy: 0.9998 - foot_risk_accuracy: 0.9998 - eye_risk_accuracy: 0.9998 - dm_type_accuracy: 0.9999 - smoking_accuracy: 0.9998 - val_loss: 2587926.5000 - val_numerical_loss: 0.0012 - val_binary_loss: 6.3567e-07 - val_foot_risk_loss: 1.3155e-05 - val_eye_risk_loss: 5.4508e-04 - val_dm_type_loss: 0.0030 - val_smoking_loss: 1.4706e-05 - val_numerical_accuracy: 0.6213 - val_binary_accuracy: 1.0000 - val_foot_risk_accuracy: 1.0000 - val_eye_risk_accuracy: 0.9997 - val_dm_type_accuracy: 0.9994 - val_smoking_accuracy: 1.0000\n",
      "Epoch 163/200\n",
      "1755/1755 [==============================] - 2s 1ms/step - loss: 2625754.0000 - numerical_loss: 0.0019 - binary_loss: 3.0001e-04 - foot_risk_loss: 6.5615e-04 - eye_risk_loss: 0.0014 - dm_type_loss: 7.0447e-04 - smoking_loss: 2.9979e-04 - numerical_accuracy: 0.5654 - binary_accuracy: 0.9999 - foot_risk_accuracy: 0.9998 - eye_risk_accuracy: 0.9996 - dm_type_accuracy: 0.9997 - smoking_accuracy: 0.9999 - val_loss: 2634079.2500 - val_numerical_loss: 0.0019 - val_binary_loss: 7.3664e-08 - val_foot_risk_loss: 1.6234e-05 - val_eye_risk_loss: 3.8295e-04 - val_dm_type_loss: 0.0038 - val_smoking_loss: 1.0550e-05 - val_numerical_accuracy: 0.5674 - val_binary_accuracy: 1.0000 - val_foot_risk_accuracy: 1.0000 - val_eye_risk_accuracy: 0.9999 - val_dm_type_accuracy: 0.9996 - val_smoking_accuracy: 1.0000\n",
      "Epoch 164/200\n",
      "1755/1755 [==============================] - 2s 1ms/step - loss: 2652882.5000 - numerical_loss: 0.0018 - binary_loss: 4.6750e-04 - foot_risk_loss: 2.4143e-04 - eye_risk_loss: 7.7062e-04 - dm_type_loss: 9.6194e-04 - smoking_loss: 3.0529e-04 - numerical_accuracy: 0.5683 - binary_accuracy: 0.9999 - foot_risk_accuracy: 1.0000 - eye_risk_accuracy: 0.9998 - dm_type_accuracy: 0.9998 - smoking_accuracy: 0.9999 - val_loss: 2682756.7500 - val_numerical_loss: 0.0011 - val_binary_loss: 1.6485e-07 - val_foot_risk_loss: 1.4430e-05 - val_eye_risk_loss: 3.7332e-05 - val_dm_type_loss: 0.0031 - val_smoking_loss: 2.6264e-05 - val_numerical_accuracy: 0.6228 - val_binary_accuracy: 1.0000 - val_foot_risk_accuracy: 1.0000 - val_eye_risk_accuracy: 1.0000 - val_dm_type_accuracy: 0.9996 - val_smoking_accuracy: 1.0000\n",
      "Epoch 165/200\n",
      "1755/1755 [==============================] - 2s 1ms/step - loss: 2715373.7500 - numerical_loss: 0.0018 - binary_loss: 4.6947e-04 - foot_risk_loss: 1.3504e-04 - eye_risk_loss: 4.5805e-04 - dm_type_loss: 6.0579e-04 - smoking_loss: 2.6041e-04 - numerical_accuracy: 0.5697 - binary_accuracy: 0.9999 - foot_risk_accuracy: 1.0000 - eye_risk_accuracy: 0.9999 - dm_type_accuracy: 0.9998 - smoking_accuracy: 1.0000 - val_loss: 2762254.5000 - val_numerical_loss: 0.0012 - val_binary_loss: 3.4245e-07 - val_foot_risk_loss: 1.3239e-05 - val_eye_risk_loss: 3.9051e-05 - val_dm_type_loss: 0.0043 - val_smoking_loss: 2.0155e-04 - val_numerical_accuracy: 0.6103 - val_binary_accuracy: 1.0000 - val_foot_risk_accuracy: 1.0000 - val_eye_risk_accuracy: 1.0000 - val_dm_type_accuracy: 0.9995 - val_smoking_accuracy: 1.0000\n",
      "Epoch 166/200\n",
      "1755/1755 [==============================] - 2s 1ms/step - loss: 2798542.2500 - numerical_loss: 0.0018 - binary_loss: 3.1067e-04 - foot_risk_loss: 5.3957e-04 - eye_risk_loss: 0.0010 - dm_type_loss: 7.4776e-04 - smoking_loss: 6.6004e-04 - numerical_accuracy: 0.5672 - binary_accuracy: 0.9999 - foot_risk_accuracy: 0.9998 - eye_risk_accuracy: 0.9997 - dm_type_accuracy: 0.9998 - smoking_accuracy: 0.9998 - val_loss: 2869147.2500 - val_numerical_loss: 0.0011 - val_binary_loss: 9.3109e-08 - val_foot_risk_loss: 4.9301e-06 - val_eye_risk_loss: 1.0466e-04 - val_dm_type_loss: 0.0021 - val_smoking_loss: 4.4222e-05 - val_numerical_accuracy: 0.6254 - val_binary_accuracy: 1.0000 - val_foot_risk_accuracy: 1.0000 - val_eye_risk_accuracy: 0.9999 - val_dm_type_accuracy: 0.9995 - val_smoking_accuracy: 1.0000\n",
      "Epoch 167/200\n",
      "1755/1755 [==============================] - 2s 1ms/step - loss: 2875178.7500 - numerical_loss: 0.0018 - binary_loss: 4.8191e-04 - foot_risk_loss: 6.8754e-04 - eye_risk_loss: 9.9126e-04 - dm_type_loss: 4.1205e-04 - smoking_loss: 4.3931e-04 - numerical_accuracy: 0.5673 - binary_accuracy: 0.9998 - foot_risk_accuracy: 0.9999 - eye_risk_accuracy: 0.9997 - dm_type_accuracy: 0.9998 - smoking_accuracy: 0.9998 - val_loss: 2903534.5000 - val_numerical_loss: 0.0012 - val_binary_loss: 4.1175e-07 - val_foot_risk_loss: 6.2881e-06 - val_eye_risk_loss: 1.0623e-04 - val_dm_type_loss: 0.0035 - val_smoking_loss: 5.8583e-05 - val_numerical_accuracy: 0.6307 - val_binary_accuracy: 1.0000 - val_foot_risk_accuracy: 1.0000 - val_eye_risk_accuracy: 0.9999 - val_dm_type_accuracy: 0.9995 - val_smoking_accuracy: 1.0000\n",
      "Epoch 168/200\n",
      "1755/1755 [==============================] - 2s 1ms/step - loss: 2888106.7500 - numerical_loss: 0.0018 - binary_loss: 3.0696e-04 - foot_risk_loss: 3.5193e-04 - eye_risk_loss: 0.0016 - dm_type_loss: 8.2196e-04 - smoking_loss: 5.8099e-04 - numerical_accuracy: 0.5719 - binary_accuracy: 0.9999 - foot_risk_accuracy: 0.9999 - eye_risk_accuracy: 0.9996 - dm_type_accuracy: 0.9997 - smoking_accuracy: 0.9999 - val_loss: 2872768.0000 - val_numerical_loss: 0.0010 - val_binary_loss: 4.6882e-06 - val_foot_risk_loss: 3.8141e-05 - val_eye_risk_loss: 1.4592e-05 - val_dm_type_loss: 0.0018 - val_smoking_loss: 2.8585e-04 - val_numerical_accuracy: 0.6418 - val_binary_accuracy: 1.0000 - val_foot_risk_accuracy: 1.0000 - val_eye_risk_accuracy: 1.0000 - val_dm_type_accuracy: 0.9996 - val_smoking_accuracy: 1.0000\n",
      "Epoch 169/200\n",
      "1755/1755 [==============================] - 2s 1ms/step - loss: 2907037.7500 - numerical_loss: 0.0018 - binary_loss: 5.5952e-04 - foot_risk_loss: 2.6441e-04 - eye_risk_loss: 7.8073e-04 - dm_type_loss: 2.1272e-04 - smoking_loss: 2.1806e-04 - numerical_accuracy: 0.5678 - binary_accuracy: 0.9998 - foot_risk_accuracy: 1.0000 - eye_risk_accuracy: 0.9998 - dm_type_accuracy: 0.9999 - smoking_accuracy: 1.0000 - val_loss: 2947494.5000 - val_numerical_loss: 0.0014 - val_binary_loss: 1.8158e-04 - val_foot_risk_loss: 6.1780e-06 - val_eye_risk_loss: 3.8757e-05 - val_dm_type_loss: 0.0032 - val_smoking_loss: 3.5677e-05 - val_numerical_accuracy: 0.6142 - val_binary_accuracy: 0.9999 - val_foot_risk_accuracy: 1.0000 - val_eye_risk_accuracy: 1.0000 - val_dm_type_accuracy: 0.9996 - val_smoking_accuracy: 1.0000\n",
      "Epoch 170/200\n",
      "1755/1755 [==============================] - 2s 1ms/step - loss: 2913161.2500 - numerical_loss: 0.0018 - binary_loss: 3.4171e-04 - foot_risk_loss: 4.8644e-04 - eye_risk_loss: 4.2400e-04 - dm_type_loss: 4.0354e-04 - smoking_loss: 4.0511e-04 - numerical_accuracy: 0.5700 - binary_accuracy: 0.9999 - foot_risk_accuracy: 0.9999 - eye_risk_accuracy: 0.9999 - dm_type_accuracy: 0.9999 - smoking_accuracy: 0.9999 - val_loss: 2971449.0000 - val_numerical_loss: 0.0012 - val_binary_loss: 1.6268e-07 - val_foot_risk_loss: 5.7657e-06 - val_eye_risk_loss: 8.2047e-05 - val_dm_type_loss: 0.0030 - val_smoking_loss: 2.7581e-04 - val_numerical_accuracy: 0.6361 - val_binary_accuracy: 1.0000 - val_foot_risk_accuracy: 1.0000 - val_eye_risk_accuracy: 1.0000 - val_dm_type_accuracy: 0.9994 - val_smoking_accuracy: 0.9999\n",
      "Epoch 171/200\n",
      "1755/1755 [==============================] - 2s 1ms/step - loss: 2964054.5000 - numerical_loss: 0.0018 - binary_loss: 2.4506e-04 - foot_risk_loss: 3.9013e-04 - eye_risk_loss: 5.5145e-04 - dm_type_loss: 3.1349e-04 - smoking_loss: 4.5623e-04 - numerical_accuracy: 0.5700 - binary_accuracy: 0.9999 - foot_risk_accuracy: 0.9999 - eye_risk_accuracy: 0.9999 - dm_type_accuracy: 1.0000 - smoking_accuracy: 0.9999 - val_loss: 2942750.5000 - val_numerical_loss: 0.0012 - val_binary_loss: 1.5903e-07 - val_foot_risk_loss: 1.0089e-05 - val_eye_risk_loss: 3.8037e-05 - val_dm_type_loss: 0.0040 - val_smoking_loss: 1.9307e-05 - val_numerical_accuracy: 0.5814 - val_binary_accuracy: 1.0000 - val_foot_risk_accuracy: 1.0000 - val_eye_risk_accuracy: 1.0000 - val_dm_type_accuracy: 0.9994 - val_smoking_accuracy: 1.0000\n",
      "Epoch 172/200\n",
      "1755/1755 [==============================] - 2s 1ms/step - loss: 3019114.7500 - numerical_loss: 0.0018 - binary_loss: 0.0010 - foot_risk_loss: 6.7148e-04 - eye_risk_loss: 9.5162e-04 - dm_type_loss: 5.9772e-04 - smoking_loss: 4.5889e-04 - numerical_accuracy: 0.5670 - binary_accuracy: 0.9997 - foot_risk_accuracy: 0.9998 - eye_risk_accuracy: 0.9998 - dm_type_accuracy: 0.9998 - smoking_accuracy: 0.9999 - val_loss: 3033308.5000 - val_numerical_loss: 0.0012 - val_binary_loss: 1.0944e-04 - val_foot_risk_loss: 2.6707e-05 - val_eye_risk_loss: 2.3714e-05 - val_dm_type_loss: 0.0022 - val_smoking_loss: 7.7044e-05 - val_numerical_accuracy: 0.6226 - val_binary_accuracy: 1.0000 - val_foot_risk_accuracy: 1.0000 - val_eye_risk_accuracy: 1.0000 - val_dm_type_accuracy: 0.9995 - val_smoking_accuracy: 1.0000\n",
      "Epoch 173/200\n",
      "1755/1755 [==============================] - 2s 1ms/step - loss: 3075477.5000 - numerical_loss: 0.0018 - binary_loss: 3.6724e-04 - foot_risk_loss: 2.0094e-04 - eye_risk_loss: 8.2568e-04 - dm_type_loss: 0.0011 - smoking_loss: 5.6992e-04 - numerical_accuracy: 0.5693 - binary_accuracy: 0.9999 - foot_risk_accuracy: 1.0000 - eye_risk_accuracy: 0.9998 - dm_type_accuracy: 0.9997 - smoking_accuracy: 0.9998 - val_loss: 3092291.5000 - val_numerical_loss: 0.0016 - val_binary_loss: 3.8780e-07 - val_foot_risk_loss: 1.1768e-05 - val_eye_risk_loss: 0.0084 - val_dm_type_loss: 0.0034 - val_smoking_loss: 1.6001e-05 - val_numerical_accuracy: 0.5885 - val_binary_accuracy: 1.0000 - val_foot_risk_accuracy: 1.0000 - val_eye_risk_accuracy: 0.9986 - val_dm_type_accuracy: 0.9996 - val_smoking_accuracy: 1.0000\n",
      "Epoch 174/200\n",
      "1755/1755 [==============================] - 2s 1ms/step - loss: 3134231.2500 - numerical_loss: 0.0018 - binary_loss: 4.5117e-04 - foot_risk_loss: 5.2841e-04 - eye_risk_loss: 6.7458e-04 - dm_type_loss: 5.6722e-04 - smoking_loss: 5.3974e-04 - numerical_accuracy: 0.5700 - binary_accuracy: 0.9998 - foot_risk_accuracy: 0.9998 - eye_risk_accuracy: 0.9998 - dm_type_accuracy: 0.9998 - smoking_accuracy: 0.9998 - val_loss: 3137890.7500 - val_numerical_loss: 0.0011 - val_binary_loss: 4.0500e-07 - val_foot_risk_loss: 4.6149e-06 - val_eye_risk_loss: 8.4120e-05 - val_dm_type_loss: 0.0034 - val_smoking_loss: 6.1343e-05 - val_numerical_accuracy: 0.6093 - val_binary_accuracy: 1.0000 - val_foot_risk_accuracy: 1.0000 - val_eye_risk_accuracy: 1.0000 - val_dm_type_accuracy: 0.9996 - val_smoking_accuracy: 1.0000\n",
      "Epoch 175/200\n",
      "1755/1755 [==============================] - 2s 1ms/step - loss: 3176748.7500 - numerical_loss: 0.0018 - binary_loss: 2.8544e-04 - foot_risk_loss: 5.1645e-04 - eye_risk_loss: 0.0011 - dm_type_loss: 3.2610e-04 - smoking_loss: 4.3409e-04 - numerical_accuracy: 0.5699 - binary_accuracy: 0.9999 - foot_risk_accuracy: 1.0000 - eye_risk_accuracy: 0.9996 - dm_type_accuracy: 0.9999 - smoking_accuracy: 0.9999 - val_loss: 3235123.7500 - val_numerical_loss: 9.8935e-04 - val_binary_loss: 2.3334e-07 - val_foot_risk_loss: 9.5353e-06 - val_eye_risk_loss: 2.9561e-05 - val_dm_type_loss: 0.0033 - val_smoking_loss: 5.8026e-06 - val_numerical_accuracy: 0.6374 - val_binary_accuracy: 1.0000 - val_foot_risk_accuracy: 1.0000 - val_eye_risk_accuracy: 1.0000 - val_dm_type_accuracy: 0.9996 - val_smoking_accuracy: 1.0000\n",
      "Epoch 176/200\n",
      "1755/1755 [==============================] - 2s 1ms/step - loss: 3273940.2500 - numerical_loss: 0.0018 - binary_loss: 8.0200e-04 - foot_risk_loss: 2.7976e-04 - eye_risk_loss: 4.6923e-04 - dm_type_loss: 8.8316e-04 - smoking_loss: 3.9917e-04 - numerical_accuracy: 0.5740 - binary_accuracy: 0.9998 - foot_risk_accuracy: 1.0000 - eye_risk_accuracy: 0.9999 - dm_type_accuracy: 0.9998 - smoking_accuracy: 0.9999 - val_loss: 3298515.7500 - val_numerical_loss: 0.0012 - val_binary_loss: 5.1462e-07 - val_foot_risk_loss: 1.6570e-05 - val_eye_risk_loss: 6.6153e-05 - val_dm_type_loss: 0.0026 - val_smoking_loss: 1.8135e-05 - val_numerical_accuracy: 0.6004 - val_binary_accuracy: 1.0000 - val_foot_risk_accuracy: 1.0000 - val_eye_risk_accuracy: 1.0000 - val_dm_type_accuracy: 0.9996 - val_smoking_accuracy: 1.0000\n",
      "Epoch 177/200\n",
      "1755/1755 [==============================] - 2s 1ms/step - loss: 3325599.5000 - numerical_loss: 0.0018 - binary_loss: 2.1236e-04 - foot_risk_loss: 3.9021e-04 - eye_risk_loss: 8.8885e-04 - dm_type_loss: 6.6595e-04 - smoking_loss: 2.7276e-04 - numerical_accuracy: 0.5689 - binary_accuracy: 0.9999 - foot_risk_accuracy: 0.9999 - eye_risk_accuracy: 0.9998 - dm_type_accuracy: 0.9999 - smoking_accuracy: 0.9999 - val_loss: 3304066.0000 - val_numerical_loss: 0.0010 - val_binary_loss: 2.7733e-06 - val_foot_risk_loss: 5.2312e-06 - val_eye_risk_loss: 1.3430e-05 - val_dm_type_loss: 0.0021 - val_smoking_loss: 1.0628e-05 - val_numerical_accuracy: 0.6257 - val_binary_accuracy: 1.0000 - val_foot_risk_accuracy: 1.0000 - val_eye_risk_accuracy: 1.0000 - val_dm_type_accuracy: 0.9996 - val_smoking_accuracy: 1.0000\n",
      "Epoch 178/200\n",
      "1755/1755 [==============================] - 2s 1ms/step - loss: 3388859.2500 - numerical_loss: 0.0018 - binary_loss: 3.1585e-04 - foot_risk_loss: 5.1572e-04 - eye_risk_loss: 6.3732e-04 - dm_type_loss: 0.0013 - smoking_loss: 1.8774e-04 - numerical_accuracy: 0.5676 - binary_accuracy: 0.9999 - foot_risk_accuracy: 0.9998 - eye_risk_accuracy: 0.9998 - dm_type_accuracy: 0.9996 - smoking_accuracy: 1.0000 - val_loss: 3398660.7500 - val_numerical_loss: 0.0012 - val_binary_loss: 2.8026e-07 - val_foot_risk_loss: 7.0442e-06 - val_eye_risk_loss: 1.0602e-04 - val_dm_type_loss: 0.0028 - val_smoking_loss: 6.6385e-06 - val_numerical_accuracy: 0.6225 - val_binary_accuracy: 1.0000 - val_foot_risk_accuracy: 1.0000 - val_eye_risk_accuracy: 1.0000 - val_dm_type_accuracy: 0.9995 - val_smoking_accuracy: 1.0000\n",
      "Epoch 179/200\n",
      "1755/1755 [==============================] - 2s 1ms/step - loss: 3397763.0000 - numerical_loss: 0.0018 - binary_loss: 1.5015e-04 - foot_risk_loss: 3.1676e-04 - eye_risk_loss: 8.9992e-04 - dm_type_loss: 4.4681e-04 - smoking_loss: 4.9648e-04 - numerical_accuracy: 0.5734 - binary_accuracy: 1.0000 - foot_risk_accuracy: 0.9999 - eye_risk_accuracy: 0.9996 - dm_type_accuracy: 0.9999 - smoking_accuracy: 0.9998 - val_loss: 3372862.2500 - val_numerical_loss: 0.0011 - val_binary_loss: 5.6770e-07 - val_foot_risk_loss: 4.3127e-05 - val_eye_risk_loss: 8.0176e-05 - val_dm_type_loss: 0.0021 - val_smoking_loss: 8.7891e-06 - val_numerical_accuracy: 0.6227 - val_binary_accuracy: 1.0000 - val_foot_risk_accuracy: 1.0000 - val_eye_risk_accuracy: 1.0000 - val_dm_type_accuracy: 0.9996 - val_smoking_accuracy: 1.0000\n",
      "Epoch 180/200\n",
      "1755/1755 [==============================] - 2s 1ms/step - loss: 3441710.0000 - numerical_loss: 0.0018 - binary_loss: 2.4624e-04 - foot_risk_loss: 3.2464e-04 - eye_risk_loss: 6.7148e-04 - dm_type_loss: 2.8313e-04 - smoking_loss: 2.7297e-04 - numerical_accuracy: 0.5717 - binary_accuracy: 0.9999 - foot_risk_accuracy: 0.9999 - eye_risk_accuracy: 0.9998 - dm_type_accuracy: 0.9999 - smoking_accuracy: 0.9999 - val_loss: 3523264.0000 - val_numerical_loss: 0.0012 - val_binary_loss: 9.6229e-07 - val_foot_risk_loss: 2.3799e-04 - val_eye_risk_loss: 1.1391e-05 - val_dm_type_loss: 0.0030 - val_smoking_loss: 1.3574e-05 - val_numerical_accuracy: 0.6478 - val_binary_accuracy: 1.0000 - val_foot_risk_accuracy: 0.9999 - val_eye_risk_accuracy: 1.0000 - val_dm_type_accuracy: 0.9994 - val_smoking_accuracy: 1.0000\n",
      "Epoch 181/200\n",
      "1755/1755 [==============================] - 2s 1ms/step - loss: 3504320.5000 - numerical_loss: 0.0018 - binary_loss: 6.4466e-04 - foot_risk_loss: 5.7359e-04 - eye_risk_loss: 0.0010 - dm_type_loss: 7.9418e-04 - smoking_loss: 2.8166e-04 - numerical_accuracy: 0.5681 - binary_accuracy: 0.9998 - foot_risk_accuracy: 0.9998 - eye_risk_accuracy: 0.9997 - dm_type_accuracy: 0.9998 - smoking_accuracy: 0.9999 - val_loss: 3479137.0000 - val_numerical_loss: 0.0010 - val_binary_loss: 9.9369e-07 - val_foot_risk_loss: 1.0139e-05 - val_eye_risk_loss: 8.6977e-05 - val_dm_type_loss: 0.0022 - val_smoking_loss: 3.6381e-05 - val_numerical_accuracy: 0.6090 - val_binary_accuracy: 1.0000 - val_foot_risk_accuracy: 1.0000 - val_eye_risk_accuracy: 1.0000 - val_dm_type_accuracy: 0.9996 - val_smoking_accuracy: 1.0000\n",
      "Epoch 182/200\n",
      "1755/1755 [==============================] - 2s 1ms/step - loss: 3577399.7500 - numerical_loss: 0.0018 - binary_loss: 1.3623e-04 - foot_risk_loss: 4.1757e-04 - eye_risk_loss: 8.9560e-04 - dm_type_loss: 4.5173e-04 - smoking_loss: 3.4444e-04 - numerical_accuracy: 0.5678 - binary_accuracy: 1.0000 - foot_risk_accuracy: 0.9999 - eye_risk_accuracy: 0.9998 - dm_type_accuracy: 0.9999 - smoking_accuracy: 0.9999 - val_loss: 3683030.0000 - val_numerical_loss: 0.0013 - val_binary_loss: 9.7780e-06 - val_foot_risk_loss: 9.7998e-06 - val_eye_risk_loss: 3.0309e-05 - val_dm_type_loss: 0.0030 - val_smoking_loss: 6.0237e-05 - val_numerical_accuracy: 0.5441 - val_binary_accuracy: 1.0000 - val_foot_risk_accuracy: 1.0000 - val_eye_risk_accuracy: 1.0000 - val_dm_type_accuracy: 0.9996 - val_smoking_accuracy: 1.0000\n",
      "Epoch 183/200\n",
      "1755/1755 [==============================] - 2s 1ms/step - loss: 3628112.5000 - numerical_loss: 0.0018 - binary_loss: 7.8894e-04 - foot_risk_loss: 2.8437e-04 - eye_risk_loss: 0.0012 - dm_type_loss: 4.7778e-04 - smoking_loss: 2.4756e-04 - numerical_accuracy: 0.5747 - binary_accuracy: 0.9998 - foot_risk_accuracy: 0.9999 - eye_risk_accuracy: 0.9996 - dm_type_accuracy: 0.9999 - smoking_accuracy: 1.0000 - val_loss: 3792933.7500 - val_numerical_loss: 0.0016 - val_binary_loss: 6.2363e-06 - val_foot_risk_loss: 6.6777e-04 - val_eye_risk_loss: 7.3195e-05 - val_dm_type_loss: 0.0031 - val_smoking_loss: 2.1044e-05 - val_numerical_accuracy: 0.5950 - val_binary_accuracy: 1.0000 - val_foot_risk_accuracy: 0.9999 - val_eye_risk_accuracy: 0.9999 - val_dm_type_accuracy: 0.9995 - val_smoking_accuracy: 1.0000\n",
      "Epoch 184/200\n",
      "1755/1755 [==============================] - 2s 1ms/step - loss: 3667151.2500 - numerical_loss: 0.0018 - binary_loss: 3.6971e-04 - foot_risk_loss: 4.2075e-04 - eye_risk_loss: 7.6270e-04 - dm_type_loss: 3.9368e-04 - smoking_loss: 3.9181e-04 - numerical_accuracy: 0.5672 - binary_accuracy: 0.9999 - foot_risk_accuracy: 0.9999 - eye_risk_accuracy: 0.9998 - dm_type_accuracy: 0.9999 - smoking_accuracy: 0.9999 - val_loss: 3711981.7500 - val_numerical_loss: 0.0011 - val_binary_loss: 5.2380e-07 - val_foot_risk_loss: 2.1708e-06 - val_eye_risk_loss: 4.7664e-05 - val_dm_type_loss: 0.0049 - val_smoking_loss: 2.5381e-05 - val_numerical_accuracy: 0.5947 - val_binary_accuracy: 1.0000 - val_foot_risk_accuracy: 1.0000 - val_eye_risk_accuracy: 1.0000 - val_dm_type_accuracy: 0.9994 - val_smoking_accuracy: 1.0000\n",
      "Epoch 185/200\n",
      "1755/1755 [==============================] - 2s 1ms/step - loss: 3708882.7500 - numerical_loss: 0.0018 - binary_loss: 3.1633e-04 - foot_risk_loss: 5.5515e-04 - eye_risk_loss: 5.9623e-04 - dm_type_loss: 4.1859e-04 - smoking_loss: 1.8926e-04 - numerical_accuracy: 0.5698 - binary_accuracy: 0.9999 - foot_risk_accuracy: 0.9998 - eye_risk_accuracy: 0.9998 - dm_type_accuracy: 0.9999 - smoking_accuracy: 1.0000 - val_loss: 3737826.7500 - val_numerical_loss: 0.0011 - val_binary_loss: 1.5403e-06 - val_foot_risk_loss: 5.5859e-06 - val_eye_risk_loss: 4.2478e-05 - val_dm_type_loss: 0.0030 - val_smoking_loss: 1.8803e-05 - val_numerical_accuracy: 0.5295 - val_binary_accuracy: 1.0000 - val_foot_risk_accuracy: 1.0000 - val_eye_risk_accuracy: 1.0000 - val_dm_type_accuracy: 0.9996 - val_smoking_accuracy: 1.0000\n",
      "Epoch 186/200\n",
      "1755/1755 [==============================] - 2s 1ms/step - loss: 3752979.0000 - numerical_loss: 0.0018 - binary_loss: 5.1961e-04 - foot_risk_loss: 3.9498e-04 - eye_risk_loss: 7.2718e-04 - dm_type_loss: 3.8447e-04 - smoking_loss: 2.9378e-04 - numerical_accuracy: 0.5690 - binary_accuracy: 0.9999 - foot_risk_accuracy: 0.9999 - eye_risk_accuracy: 0.9998 - dm_type_accuracy: 0.9999 - smoking_accuracy: 1.0000 - val_loss: 3836306.2500 - val_numerical_loss: 0.0012 - val_binary_loss: 4.3175e-07 - val_foot_risk_loss: 9.7414e-05 - val_eye_risk_loss: 2.8909e-05 - val_dm_type_loss: 0.0050 - val_smoking_loss: 2.1842e-05 - val_numerical_accuracy: 0.6036 - val_binary_accuracy: 1.0000 - val_foot_risk_accuracy: 1.0000 - val_eye_risk_accuracy: 1.0000 - val_dm_type_accuracy: 0.9994 - val_smoking_accuracy: 1.0000\n",
      "Epoch 187/200\n",
      "1755/1755 [==============================] - 2s 1ms/step - loss: 3835106.2500 - numerical_loss: 0.0018 - binary_loss: 4.6240e-04 - foot_risk_loss: 1.4770e-04 - eye_risk_loss: 7.9578e-04 - dm_type_loss: 8.2787e-04 - smoking_loss: 4.1598e-04 - numerical_accuracy: 0.5721 - binary_accuracy: 0.9999 - foot_risk_accuracy: 0.9999 - eye_risk_accuracy: 0.9998 - dm_type_accuracy: 0.9998 - smoking_accuracy: 0.9999 - val_loss: 3874267.5000 - val_numerical_loss: 0.0013 - val_binary_loss: 1.6963e-06 - val_foot_risk_loss: 6.0751e-06 - val_eye_risk_loss: 4.5033e-05 - val_dm_type_loss: 0.0032 - val_smoking_loss: 9.5025e-06 - val_numerical_accuracy: 0.5598 - val_binary_accuracy: 1.0000 - val_foot_risk_accuracy: 1.0000 - val_eye_risk_accuracy: 1.0000 - val_dm_type_accuracy: 0.9996 - val_smoking_accuracy: 1.0000\n",
      "Epoch 188/200\n",
      "1755/1755 [==============================] - 2s 1ms/step - loss: 3913608.0000 - numerical_loss: 0.0018 - binary_loss: 4.9451e-04 - foot_risk_loss: 5.2635e-04 - eye_risk_loss: 0.0018 - dm_type_loss: 3.5107e-04 - smoking_loss: 2.7060e-04 - numerical_accuracy: 0.5670 - binary_accuracy: 0.9999 - foot_risk_accuracy: 0.9998 - eye_risk_accuracy: 0.9996 - dm_type_accuracy: 0.9999 - smoking_accuracy: 0.9999 - val_loss: 3917138.7500 - val_numerical_loss: 0.0013 - val_binary_loss: 1.5404e-06 - val_foot_risk_loss: 7.4133e-06 - val_eye_risk_loss: 1.6796e-05 - val_dm_type_loss: 0.0039 - val_smoking_loss: 5.6060e-05 - val_numerical_accuracy: 0.6355 - val_binary_accuracy: 1.0000 - val_foot_risk_accuracy: 1.0000 - val_eye_risk_accuracy: 1.0000 - val_dm_type_accuracy: 0.9995 - val_smoking_accuracy: 1.0000\n",
      "Epoch 189/200\n",
      "1755/1755 [==============================] - 2s 1ms/step - loss: 4022614.2500 - numerical_loss: 0.0018 - binary_loss: 2.9457e-04 - foot_risk_loss: 7.1880e-04 - eye_risk_loss: 8.8070e-04 - dm_type_loss: 3.9552e-04 - smoking_loss: 2.6784e-04 - numerical_accuracy: 0.5676 - binary_accuracy: 0.9999 - foot_risk_accuracy: 0.9998 - eye_risk_accuracy: 0.9998 - dm_type_accuracy: 0.9999 - smoking_accuracy: 0.9999 - val_loss: 4099608.0000 - val_numerical_loss: 9.9737e-04 - val_binary_loss: 9.0131e-07 - val_foot_risk_loss: 1.4697e-05 - val_eye_risk_loss: 4.2135e-05 - val_dm_type_loss: 0.0018 - val_smoking_loss: 2.6242e-05 - val_numerical_accuracy: 0.5819 - val_binary_accuracy: 1.0000 - val_foot_risk_accuracy: 1.0000 - val_eye_risk_accuracy: 1.0000 - val_dm_type_accuracy: 0.9998 - val_smoking_accuracy: 1.0000\n",
      "Epoch 190/200\n",
      "1755/1755 [==============================] - 2s 1ms/step - loss: 4136346.7500 - numerical_loss: 0.0018 - binary_loss: 5.1106e-04 - foot_risk_loss: 1.7061e-04 - eye_risk_loss: 0.0016 - dm_type_loss: 3.6837e-04 - smoking_loss: 4.2044e-04 - numerical_accuracy: 0.5694 - binary_accuracy: 0.9999 - foot_risk_accuracy: 1.0000 - eye_risk_accuracy: 0.9995 - dm_type_accuracy: 0.9999 - smoking_accuracy: 0.9999 - val_loss: 4145882.2500 - val_numerical_loss: 9.6115e-04 - val_binary_loss: 2.8492e-06 - val_foot_risk_loss: 7.8592e-06 - val_eye_risk_loss: 4.2361e-04 - val_dm_type_loss: 0.0037 - val_smoking_loss: 1.3223e-05 - val_numerical_accuracy: 0.6530 - val_binary_accuracy: 1.0000 - val_foot_risk_accuracy: 1.0000 - val_eye_risk_accuracy: 0.9998 - val_dm_type_accuracy: 0.9994 - val_smoking_accuracy: 1.0000\n",
      "Epoch 191/200\n",
      "1755/1755 [==============================] - 2s 1ms/step - loss: 4206687.5000 - numerical_loss: 0.0018 - binary_loss: 6.7015e-04 - foot_risk_loss: 3.8443e-04 - eye_risk_loss: 5.5955e-04 - dm_type_loss: 8.4081e-04 - smoking_loss: 3.8192e-04 - numerical_accuracy: 0.5701 - binary_accuracy: 0.9998 - foot_risk_accuracy: 0.9999 - eye_risk_accuracy: 0.9998 - dm_type_accuracy: 0.9997 - smoking_accuracy: 0.9999 - val_loss: 4248391.5000 - val_numerical_loss: 0.0011 - val_binary_loss: 6.0729e-06 - val_foot_risk_loss: 1.5491e-05 - val_eye_risk_loss: 8.2074e-05 - val_dm_type_loss: 0.0012 - val_smoking_loss: 5.8588e-05 - val_numerical_accuracy: 0.6158 - val_binary_accuracy: 1.0000 - val_foot_risk_accuracy: 1.0000 - val_eye_risk_accuracy: 1.0000 - val_dm_type_accuracy: 0.9998 - val_smoking_accuracy: 1.0000\n",
      "Epoch 192/200\n",
      "1755/1755 [==============================] - 2s 1ms/step - loss: 4270476.0000 - numerical_loss: 0.0018 - binary_loss: 5.3764e-04 - foot_risk_loss: 5.1287e-04 - eye_risk_loss: 9.6463e-04 - dm_type_loss: 3.3993e-04 - smoking_loss: 3.2790e-04 - numerical_accuracy: 0.5681 - binary_accuracy: 0.9998 - foot_risk_accuracy: 0.9999 - eye_risk_accuracy: 0.9998 - dm_type_accuracy: 0.9999 - smoking_accuracy: 0.9999 - val_loss: 4299413.5000 - val_numerical_loss: 0.0010 - val_binary_loss: 1.4425e-06 - val_foot_risk_loss: 1.4228e-05 - val_eye_risk_loss: 9.7692e-05 - val_dm_type_loss: 0.0035 - val_smoking_loss: 7.4956e-05 - val_numerical_accuracy: 0.6059 - val_binary_accuracy: 1.0000 - val_foot_risk_accuracy: 1.0000 - val_eye_risk_accuracy: 1.0000 - val_dm_type_accuracy: 0.9994 - val_smoking_accuracy: 1.0000\n",
      "Epoch 193/200\n",
      "1755/1755 [==============================] - 2s 1ms/step - loss: 4343808.5000 - numerical_loss: 0.0018 - binary_loss: 4.9974e-04 - foot_risk_loss: 1.6992e-04 - eye_risk_loss: 6.2444e-04 - dm_type_loss: 4.8300e-04 - smoking_loss: 5.8902e-04 - numerical_accuracy: 0.5729 - binary_accuracy: 0.9999 - foot_risk_accuracy: 1.0000 - eye_risk_accuracy: 0.9998 - dm_type_accuracy: 0.9999 - smoking_accuracy: 0.9998 - val_loss: 4436036.5000 - val_numerical_loss: 0.0017 - val_binary_loss: 7.4852e-04 - val_foot_risk_loss: 5.4857e-06 - val_eye_risk_loss: 2.8715e-05 - val_dm_type_loss: 0.0012 - val_smoking_loss: 1.2230e-05 - val_numerical_accuracy: 0.5788 - val_binary_accuracy: 0.9996 - val_foot_risk_accuracy: 1.0000 - val_eye_risk_accuracy: 1.0000 - val_dm_type_accuracy: 0.9998 - val_smoking_accuracy: 1.0000\n",
      "Epoch 194/200\n",
      "1755/1755 [==============================] - 2s 1ms/step - loss: 4479938.5000 - numerical_loss: 0.0018 - binary_loss: 7.1970e-04 - foot_risk_loss: 5.2000e-04 - eye_risk_loss: 0.0012 - dm_type_loss: 4.7244e-04 - smoking_loss: 2.1489e-04 - numerical_accuracy: 0.5710 - binary_accuracy: 0.9998 - foot_risk_accuracy: 0.9999 - eye_risk_accuracy: 0.9995 - dm_type_accuracy: 0.9999 - smoking_accuracy: 1.0000 - val_loss: 4548589.0000 - val_numerical_loss: 0.0010 - val_binary_loss: 1.5429e-06 - val_foot_risk_loss: 3.7650e-05 - val_eye_risk_loss: 3.9278e-05 - val_dm_type_loss: 0.0034 - val_smoking_loss: 5.1267e-05 - val_numerical_accuracy: 0.6531 - val_binary_accuracy: 1.0000 - val_foot_risk_accuracy: 1.0000 - val_eye_risk_accuracy: 1.0000 - val_dm_type_accuracy: 0.9995 - val_smoking_accuracy: 1.0000\n",
      "Epoch 195/200\n",
      "1755/1755 [==============================] - 2s 1ms/step - loss: 4535341.5000 - numerical_loss: 0.0018 - binary_loss: 2.2735e-04 - foot_risk_loss: 5.0693e-04 - eye_risk_loss: 0.0015 - dm_type_loss: 7.7205e-04 - smoking_loss: 4.1821e-04 - numerical_accuracy: 0.5703 - binary_accuracy: 0.9999 - foot_risk_accuracy: 0.9999 - eye_risk_accuracy: 0.9995 - dm_type_accuracy: 0.9999 - smoking_accuracy: 0.9999 - val_loss: 4436714.5000 - val_numerical_loss: 0.0013 - val_binary_loss: 6.9692e-05 - val_foot_risk_loss: 1.1414e-05 - val_eye_risk_loss: 4.9741e-06 - val_dm_type_loss: 0.0044 - val_smoking_loss: 4.6980e-05 - val_numerical_accuracy: 0.5698 - val_binary_accuracy: 0.9999 - val_foot_risk_accuracy: 1.0000 - val_eye_risk_accuracy: 1.0000 - val_dm_type_accuracy: 0.9995 - val_smoking_accuracy: 1.0000\n",
      "Epoch 196/200\n",
      "1755/1755 [==============================] - 2s 1ms/step - loss: 4566004.5000 - numerical_loss: 0.0018 - binary_loss: 1.7818e-04 - foot_risk_loss: 4.0013e-04 - eye_risk_loss: 3.8454e-04 - dm_type_loss: 7.8060e-04 - smoking_loss: 3.7174e-04 - numerical_accuracy: 0.5698 - binary_accuracy: 0.9999 - foot_risk_accuracy: 0.9999 - eye_risk_accuracy: 0.9999 - dm_type_accuracy: 0.9997 - smoking_accuracy: 0.9999 - val_loss: 4627066.5000 - val_numerical_loss: 0.0014 - val_binary_loss: 1.3440e-06 - val_foot_risk_loss: 1.3870e-05 - val_eye_risk_loss: 3.6243e-05 - val_dm_type_loss: 0.0016 - val_smoking_loss: 1.6790e-05 - val_numerical_accuracy: 0.6395 - val_binary_accuracy: 1.0000 - val_foot_risk_accuracy: 1.0000 - val_eye_risk_accuracy: 1.0000 - val_dm_type_accuracy: 0.9998 - val_smoking_accuracy: 1.0000\n",
      "Epoch 197/200\n",
      "1755/1755 [==============================] - 2s 1ms/step - loss: 4667136.5000 - numerical_loss: 0.0018 - binary_loss: 6.9077e-04 - foot_risk_loss: 3.5088e-04 - eye_risk_loss: 7.6690e-04 - dm_type_loss: 3.5385e-04 - smoking_loss: 3.7289e-04 - numerical_accuracy: 0.5663 - binary_accuracy: 0.9997 - foot_risk_accuracy: 0.9999 - eye_risk_accuracy: 0.9998 - dm_type_accuracy: 0.9998 - smoking_accuracy: 0.9999 - val_loss: 4594288.0000 - val_numerical_loss: 0.0011 - val_binary_loss: 1.2084e-06 - val_foot_risk_loss: 2.6830e-05 - val_eye_risk_loss: 5.6850e-06 - val_dm_type_loss: 0.0024 - val_smoking_loss: 5.4807e-05 - val_numerical_accuracy: 0.6396 - val_binary_accuracy: 1.0000 - val_foot_risk_accuracy: 1.0000 - val_eye_risk_accuracy: 1.0000 - val_dm_type_accuracy: 0.9995 - val_smoking_accuracy: 1.0000\n",
      "Epoch 198/200\n",
      "1755/1755 [==============================] - 2s 1ms/step - loss: 4726427.0000 - numerical_loss: 0.0018 - binary_loss: 2.0276e-04 - foot_risk_loss: 7.2041e-04 - eye_risk_loss: 6.3810e-04 - dm_type_loss: 3.6371e-04 - smoking_loss: 4.2982e-04 - numerical_accuracy: 0.5694 - binary_accuracy: 0.9999 - foot_risk_accuracy: 0.9998 - eye_risk_accuracy: 0.9998 - dm_type_accuracy: 0.9999 - smoking_accuracy: 0.9999 - val_loss: 4796339.0000 - val_numerical_loss: 0.0012 - val_binary_loss: 2.5935e-06 - val_foot_risk_loss: 6.3111e-06 - val_eye_risk_loss: 6.9173e-04 - val_dm_type_loss: 0.0017 - val_smoking_loss: 4.2846e-06 - val_numerical_accuracy: 0.6314 - val_binary_accuracy: 1.0000 - val_foot_risk_accuracy: 1.0000 - val_eye_risk_accuracy: 0.9997 - val_dm_type_accuracy: 0.9996 - val_smoking_accuracy: 1.0000\n",
      "Epoch 199/200\n",
      "1755/1755 [==============================] - 2s 1ms/step - loss: 4775185.0000 - numerical_loss: 0.0018 - binary_loss: 3.0368e-04 - foot_risk_loss: 2.8159e-04 - eye_risk_loss: 0.0011 - dm_type_loss: 2.2397e-04 - smoking_loss: 6.4060e-04 - numerical_accuracy: 0.5706 - binary_accuracy: 1.0000 - foot_risk_accuracy: 0.9999 - eye_risk_accuracy: 0.9996 - dm_type_accuracy: 1.0000 - smoking_accuracy: 0.9998 - val_loss: 4828305.5000 - val_numerical_loss: 9.9243e-04 - val_binary_loss: 1.4760e-06 - val_foot_risk_loss: 4.8142e-06 - val_eye_risk_loss: 2.8698e-05 - val_dm_type_loss: 0.0022 - val_smoking_loss: 6.4246e-06 - val_numerical_accuracy: 0.6622 - val_binary_accuracy: 1.0000 - val_foot_risk_accuracy: 1.0000 - val_eye_risk_accuracy: 1.0000 - val_dm_type_accuracy: 0.9996 - val_smoking_accuracy: 1.0000\n",
      "Epoch 200/200\n",
      "1755/1755 [==============================] - 2s 1ms/step - loss: 4836333.5000 - numerical_loss: 0.0018 - binary_loss: 4.7707e-04 - foot_risk_loss: 5.4647e-04 - eye_risk_loss: 6.0348e-04 - dm_type_loss: 3.5558e-04 - smoking_loss: 4.6818e-04 - numerical_accuracy: 0.5715 - binary_accuracy: 0.9999 - foot_risk_accuracy: 0.9998 - eye_risk_accuracy: 0.9998 - dm_type_accuracy: 0.9999 - smoking_accuracy: 0.9999 - val_loss: 4860376.0000 - val_numerical_loss: 0.0011 - val_binary_loss: 2.0740e-05 - val_foot_risk_loss: 3.6690e-06 - val_eye_risk_loss: 5.8313e-06 - val_dm_type_loss: 0.0054 - val_smoking_loss: 1.5789e-05 - val_numerical_accuracy: 0.6211 - val_binary_accuracy: 1.0000 - val_foot_risk_accuracy: 1.0000 - val_eye_risk_accuracy: 1.0000 - val_dm_type_accuracy: 0.9994 - val_smoking_accuracy: 1.0000\n"
     ]
    }
   ],
   "source": [
    "batch_size = batch_size\n",
    "\n",
    "# Train the model ('loss' is the sum of kl_divergence and (the loss_weights * the printed reconstruction losses: numerical_loss, binary_loss etc))\n",
    "history = vae.fit(\n",
    "    X_train_2, X_train_2,\n",
    "    validation_data=(X_test_2, X_test_2),\n",
    "    # epochs must be defined before encoder for kl_annealing\n",
    "    epochs=total_epochs,\n",
    "    batch_size=batch_size,\n",
    "    callbacks=[epoch_counter]\n",
    ")\n",
    "\n",
    "# Store the training loss for the final epoch\n",
    "training_loss = history.history['loss'][-1]\n",
    "\n",
    "end_time = timeit.default_timer()\n",
    "training_runtime = end_time - start_time"
   ]
  },
  {
   "cell_type": "markdown",
   "id": "6fa80812",
   "metadata": {
    "papermill": {
     "duration": 0.06551,
     "end_time": "2024-11-06T13:32:18.213369",
     "exception": false,
     "start_time": "2024-11-06T13:32:18.147859",
     "status": "completed"
    },
    "tags": []
   },
   "source": [
    "Save encoder and decoder models"
   ]
  },
  {
   "cell_type": "code",
   "execution_count": 74,
   "id": "19514d27",
   "metadata": {
    "execution": {
     "iopub.execute_input": "2024-11-06T13:32:18.344812Z",
     "iopub.status.busy": "2024-11-06T13:32:18.344667Z",
     "iopub.status.idle": "2024-11-06T13:32:18.387029Z",
     "shell.execute_reply": "2024-11-06T13:32:18.386782Z"
    },
    "papermill": {
     "duration": 0.108425,
     "end_time": "2024-11-06T13:32:18.387776",
     "exception": false,
     "start_time": "2024-11-06T13:32:18.279351",
     "status": "completed"
    },
    "tags": []
   },
   "outputs": [
    {
     "name": "stdout",
     "output_type": "stream",
     "text": [
      "Models and parameters saved successfully.\n"
     ]
    }
   ],
   "source": [
    "# Save encoder and decoder\n",
    "encoder.save('Models/encoder_model.keras')\n",
    "decoder.save('Models/decoder_model.keras')\n",
    "\n",
    "# Create a dictionary with the parameters\n",
    "params = {\n",
    "    'Number of epochs': total_epochs,\n",
    "    'Learning rate': learning_rate,\n",
    "    'Latent space dimensionality': latent_dim,\n",
    "    'Batch size': batch_size,\n",
    "    'KL scaling factor': kl_scaling_factor\n",
    "}\n",
    "\n",
    "# Save parameters to a JSON file\n",
    "params_file_path = 'Models/training_hyperparameters.json'\n",
    "with open(params_file_path, 'w') as f:\n",
    "    json.dump(params, f, indent=4)\n",
    "\n",
    "print(f\"Models and parameters saved successfully.\")"
   ]
  },
  {
   "cell_type": "markdown",
   "id": "2562f929",
   "metadata": {
    "papermill": {
     "duration": 0.064579,
     "end_time": "2024-11-06T13:32:18.518884",
     "exception": false,
     "start_time": "2024-11-06T13:32:18.454305",
     "status": "completed"
    },
    "tags": []
   },
   "source": [
    "Save general latent space tensors"
   ]
  },
  {
   "cell_type": "code",
   "execution_count": 75,
   "id": "350fb0ab",
   "metadata": {
    "execution": {
     "iopub.execute_input": "2024-11-06T13:32:18.650133Z",
     "iopub.status.busy": "2024-11-06T13:32:18.649993Z",
     "iopub.status.idle": "2024-11-06T13:32:19.751876Z",
     "shell.execute_reply": "2024-11-06T13:32:19.751570Z"
    },
    "papermill": {
     "duration": 1.168478,
     "end_time": "2024-11-06T13:32:19.752826",
     "exception": false,
     "start_time": "2024-11-06T13:32:18.584348",
     "status": "completed"
    },
    "tags": []
   },
   "outputs": [
    {
     "name": "stdout",
     "output_type": "stream",
     "text": [
      "1050/1755 [================>.............] - ETA: 0s"
     ]
    },
    {
     "name": "stdout",
     "output_type": "stream",
     "text": [
      "1755/1755 [==============================] - 1s 405us/step\n"
     ]
    }
   ],
   "source": [
    "z_mean, z_log_sigma, _ = encoder.predict(X_train_2)\n",
    "save_dir = \"Latent Space Tensors\"\n",
    "os.makedirs(save_dir, exist_ok=True)\n",
    "np.save(f\"{save_dir}/z_mean.npy\", z_mean)\n",
    "np.save(f\"{save_dir}/z_log_sigma.npy\", z_log_sigma)"
   ]
  },
  {
   "cell_type": "markdown",
   "id": "11aa8fda",
   "metadata": {
    "papermill": {
     "duration": 0.067856,
     "end_time": "2024-11-06T13:32:19.890228",
     "exception": false,
     "start_time": "2024-11-06T13:32:19.822372",
     "status": "completed"
    },
    "tags": []
   },
   "source": [
    "Save cat conditional latent space tensors"
   ]
  },
  {
   "cell_type": "code",
   "execution_count": 76,
   "id": "72efa701",
   "metadata": {
    "execution": {
     "iopub.execute_input": "2024-11-06T13:32:20.057299Z",
     "iopub.status.busy": "2024-11-06T13:32:20.057133Z",
     "iopub.status.idle": "2024-11-06T13:32:23.936950Z",
     "shell.execute_reply": "2024-11-06T13:32:23.936696Z"
    },
    "papermill": {
     "duration": 3.980024,
     "end_time": "2024-11-06T13:32:23.937491",
     "exception": false,
     "start_time": "2024-11-06T13:32:19.957467",
     "status": "completed"
    },
    "tags": []
   },
   "outputs": [
    {
     "name": "stdout",
     "output_type": "stream",
     "text": [
      "2/2 [==============================] - 0s 1ms/step\n",
      "1/1 [==============================] - 0s 9ms/step\n",
      "4/4 [==============================] - 0s 756us/step\n",
      "220/220 [==============================] - 0s 384us/step\n",
      " 262/1530 [====>.........................] - ETA: 0s"
     ]
    },
    {
     "name": "stdout",
     "output_type": "stream",
     "text": [
      "1530/1530 [==============================] - 1s 378us/step\n",
      "323/323 [==============================] - 0s 411us/step\n",
      "555/555 [==============================] - 0s 378us/step\n",
      "877/877 [==============================] - 0s 367us/step\n",
      "Categorical conditional latent space tensors saved successfully.\n"
     ]
    }
   ],
   "source": [
    "# Specify directory and subdirectory names\n",
    "conditional_save_dir = \"Latent Space Tensors/Conditional Latent Space Tensors\"\n",
    "cat_conditional_features = ['dm_type', 'smoking']\n",
    "\n",
    "# Mapping of cat cond features to their index in X_train_2\n",
    "feature_indices = {'dm_type': 4, 'smoking': 5, 'ethCode': 6}\n",
    "\n",
    "dm_type_cols = ['dm_type_Maturity Onset Diabetes of Youth', 'dm_type_Secondary - Drug Induced',\n",
    "                'dm_type_Secondary - Pancreatic Pathology', 'dm_type_Type 1 Diabetes Mellitus', \n",
    "                'dm_type_Type 2 Diabetes Mellitus']\n",
    "\n",
    "smoking_cols = ['smoking_Current smoker', 'smoking_Ex-smoker', 'smoking_Never smoked', \n",
    "                'smoking_Patient declined']\n",
    "\n",
    "\n",
    "# Mapping of cat cond values to column titles for each feature\n",
    "value_to_column = {\n",
    "    'dm_type': dm_type_cols,\n",
    "    'smoking': smoking_cols\n",
    "}\n",
    "\n",
    "# Function to process and save conditional tensors\n",
    "def save_cat_cond_tensors(feature, feature_array):\n",
    "    unique_values = np.unique(feature_array)\n",
    "    for value in unique_values:\n",
    "        value_index = int(value)\n",
    "        column_title = value_to_column[feature][value_index]\n",
    "        clean_title = column_title.replace(f'{feature}_', '') if feature == 'dm_type' else column_title.split('_', 1)[1]\n",
    "        \n",
    "        value_dir = f\"{conditional_save_dir}/{feature}/{clean_title}\"\n",
    "        os.makedirs(value_dir, exist_ok=True)\n",
    "        \n",
    "        mask = feature_array == value\n",
    "        X_train_2_conditional_value = [arr[mask] if i == feature_indices.get(feature, 1) else arr[mask] for i, arr in enumerate(X_train_2)]\n",
    "        \n",
    "        z_mean_conditional_value, z_log_sigma_conditional_value, _ = encoder.predict(X_train_2_conditional_value)\n",
    "        \n",
    "        np.save(f\"{value_dir}/z_mean_{clean_title}.npy\", z_mean_conditional_value)\n",
    "        np.save(f\"{value_dir}/z_log_sigma_{clean_title}.npy\", z_log_sigma_conditional_value)\n",
    "\n",
    "\n",
    "# Process categorical features\n",
    "for feature in cat_conditional_features:\n",
    "    feature_array = X_train_2[feature_indices[feature]]\n",
    "    save_cat_cond_tensors(feature, feature_array)\n",
    "\n",
    "print(\"Categorical conditional latent space tensors saved successfully.\")"
   ]
  },
  {
   "cell_type": "markdown",
   "id": "2733bc47",
   "metadata": {
    "papermill": {
     "duration": 0.069048,
     "end_time": "2024-11-06T13:32:24.077767",
     "exception": false,
     "start_time": "2024-11-06T13:32:24.008719",
     "status": "completed"
    },
    "tags": []
   },
   "source": [
    "Save prescribed conditional latent space tensors"
   ]
  },
  {
   "cell_type": "code",
   "execution_count": 77,
   "id": "12a08353",
   "metadata": {
    "execution": {
     "iopub.execute_input": "2024-11-06T13:32:24.212856Z",
     "iopub.status.busy": "2024-11-06T13:32:24.212682Z",
     "iopub.status.idle": "2024-11-06T13:32:38.155639Z",
     "shell.execute_reply": "2024-11-06T13:32:38.155287Z"
    },
    "papermill": {
     "duration": 14.01093,
     "end_time": "2024-11-06T13:32:38.156225",
     "exception": false,
     "start_time": "2024-11-06T13:32:24.145295",
     "status": "completed"
    },
    "tags": []
   },
   "outputs": [
    {
     "name": "stdout",
     "output_type": "stream",
     "text": [
      "Conditional latent space tensors saved successfully.\n"
     ]
    }
   ],
   "source": [
    "prescribed_conditional_features = [feature for feature in numerical_features if feature.endswith('prescribed')]\n",
    "\n",
    "# Add a binary flag column to save tensors for either 'drug_x_prescribed' or 'drug_x_not_prescribed'\n",
    "numerical_features_with_binary_flags = pd.DataFrame(X_train_2[0].copy(), columns=numerical_features)\n",
    "for drug in prescribed_conditional_features:\n",
    "    numerical_features_with_binary_flags[f'binary_{drug}'] = (numerical_features_with_binary_flags[drug] > 0).astype(int)\n",
    "\n",
    "def save_drug_cond_tensors(feature, feature_array):\n",
    "    for value in [0, 1]:\n",
    "        clean_title = \"prescribed\" if value == 1 else \"not_prescribed\"\n",
    "        value_dir = f\"{conditional_save_dir}/{feature}/{clean_title}\"\n",
    "        os.makedirs(value_dir, exist_ok=True)\n",
    "        \n",
    "        # Filter rows based on the binary feature\n",
    "        mask = feature_array[f'binary_{feature}'] == value\n",
    "        filtered_data = [arr[mask] for arr in X_train_2]\n",
    "        \n",
    "        # Generate tensors using filtered da)lean_title}.npy\", z_log_sigma)\n",
    "\n",
    "for feature in prescribed_conditional_features:\n",
    "    save_drug_cond_tensors(feature, numerical_features_with_binary_flags)\n",
    "\n",
    "print(\"Conditional latent space tensors saved successfully.\")"
   ]
  },
  {
   "cell_type": "markdown",
   "id": "edc165bf",
   "metadata": {
    "papermill": {
     "duration": 0.073058,
     "end_time": "2024-11-06T13:32:38.304528",
     "exception": false,
     "start_time": "2024-11-06T13:32:38.231470",
     "status": "completed"
    },
    "tags": []
   },
   "source": [
    "Plots kl and reconstruction losses"
   ]
  },
  {
   "cell_type": "code",
   "execution_count": 78,
   "id": "7ecb243e",
   "metadata": {
    "execution": {
     "iopub.execute_input": "2024-11-06T13:32:38.454295Z",
     "iopub.status.busy": "2024-11-06T13:32:38.454138Z",
     "iopub.status.idle": "2024-11-06T13:32:39.005669Z",
     "shell.execute_reply": "2024-11-06T13:32:39.005338Z"
    },
    "papermill": {
     "duration": 0.628663,
     "end_time": "2024-11-06T13:32:39.007546",
     "exception": false,
     "start_time": "2024-11-06T13:32:38.378883",
     "status": "completed"
    },
    "tags": []
   },
   "outputs": [],
   "source": [
    "# # Plot training history\n",
    "# plt.figure(figsize=(15, 10))\n",
    "\n",
    "# # Total Loss plot\n",
    "# plt.subplot(2, 2, 1)\n",
    "# plt.plot(history.history['loss'], label='Total Loss')\n",
    "# plt.plot(history.history['val_loss'], label='Val Total Loss')\n",
    "# plt.title('Total Loss (KL + Reconstruction)')\n",
    "# plt.xlabel('Epoch')\n",
    "# plt.ylabel('Loss')\n",
    "# plt.legend()\n",
    "\n",
    "# # KL Divergence plot\n",
    "# plt.subplot(2, 2, 2)\n",
    "# kl_loss = np.sum([history.history[f'{output}_loss'] for output in vae.output_names], axis=0)\n",
    "# val_kl_loss = np.sum([history.history[f'val_{output}_loss'] for output in vae.output_names], axis=0)\n",
    "# plt.plot(kl_loss, label='Reconstruction Loss')\n",
    "# plt.plot(val_kl_loss, label='Val Reconstruction Loss')\n",
    "# plt.title('KL Divergence')\n",
    "# plt.xlabel('Epoch')\n",
    "# plt.ylabel('Loss')\n",
    "# plt.yscale('log')\n",
    "# plt.legend()\n",
    "\n",
    "# # Reconstruction Loss plot\n",
    "# plt.subplot(2, 2, 3)\n",
    "# for output in vae.output_names:\n",
    "#     plt.plot(history.history[f'{output}_loss'], label=f'{output} Loss')\n",
    "# plt.title('Reconstruction Losses')\n",
    "# plt.xlabel('Epoch')\n",
    "# plt.ylabel('Loss')\n",
    "# plt.yscale('log')\n",
    "# plt.legend()\n",
    "\n",
    "# # Validation Reconstruction Loss plot\n",
    "# plt.subplot(2, 2, 4)\n",
    "# for output in vae.output_names:\n",
    "#     plt.plot(history.history[f'val_{output}_loss'], label=f'Val {output} Loss')\n",
    "# plt.title('Validation Reconstruction Losses')\n",
    "# plt.xlabel('Epoch')\n",
    "# plt.ylabel('Loss')\n",
    "# plt.yscale('log')\n",
    "# plt.legend()\n",
    "\n",
    "# plt.tight_layout()\n",
    "# plt.show()\n",
    "\n",
    "# # Define the category names (unchanged)\n",
    "# category_names = {\n",
    "#     'dm_type': dm_type_cols,\n",
    "#     'smoking': smoking_cols,\n",
    "#     'ethCode': ethCode_cols,\n",
    "#     'foot_risk': ['_low', '_moderate', '_high', '_highest'],\n",
    "#     'eye_risk': ['_lowest','_low', '_moderate', '_high', '_highest']\n",
    "# }"
   ]
  },
  {
   "cell_type": "markdown",
   "id": "cf48978d",
   "metadata": {
    "papermill": {
     "duration": 0.074931,
     "end_time": "2024-11-06T13:32:39.159935",
     "exception": false,
     "start_time": "2024-11-06T13:32:39.085004",
     "status": "completed"
    },
    "tags": []
   },
   "source": [
    "Converts output probabilities into integers, then horizontally concatenate into a dataframe to match X_train_final"
   ]
  },
  {
   "cell_type": "code",
   "execution_count": 79,
   "id": "64757c44",
   "metadata": {
    "execution": {
     "iopub.execute_input": "2024-11-06T13:32:39.344240Z",
     "iopub.status.busy": "2024-11-06T13:32:39.344092Z",
     "iopub.status.idle": "2024-11-06T13:32:41.507991Z",
     "shell.execute_reply": "2024-11-06T13:32:41.507696Z"
    },
    "papermill": {
     "duration": 2.274924,
     "end_time": "2024-11-06T13:32:41.509315",
     "exception": false,
     "start_time": "2024-11-06T13:32:39.234391",
     "status": "completed"
    },
    "tags": []
   },
   "outputs": [
    {
     "name": "stdout",
     "output_type": "stream",
     "text": [
      "439/439 [==============================] - 0s 536us/step\n"
     ]
    },
    {
     "name": "stdout",
     "output_type": "stream",
     "text": [
      "1755/1755 [==============================] - 1s 535us/step\n"
     ]
    }
   ],
   "source": [
    "column_names = numerical_features + binary_features + embedding_features\n",
    "\n",
    "def process_decoder_outputs(prediction_tuple):\n",
    "    numerical_pred_0, binary_pred_0, footrisk_pred_0, eyerisk_pred_0, dmtype_pred_0, smoking_pred_0 = prediction_tuple\n",
    "    \n",
    "    footrisk_pred_1 = footrisk_pred_0.argmax(axis=1)\n",
    "    \n",
    "    X_pred_df = pd.concat([\n",
    "        pd.DataFrame(numerical_pred_0),\n",
    "        pd.DataFrame(binary_pred_0).ge(0.5).astype(int),\n",
    "        pd.DataFrame(footrisk_pred_1, columns=['foot_risk']),\n",
    "        pd.DataFrame(eyerisk_pred_0.argmax(axis=1), columns=['eye_risk']),\n",
    "        pd.DataFrame(dmtype_pred_0.argmax(axis=1), columns=['dm_type']),\n",
    "        pd.DataFrame(smoking_pred_0.argmax(axis=1), columns=['smoking'])\n",
    "    ], axis=1)\n",
    "    \n",
    "    X_pred_df.columns = column_names\n",
    "    \n",
    "    return X_pred_df\n",
    "\n",
    "# Reconstruct test dataset\n",
    "X_test_pred_tuple = vae.predict([X_test_2])\n",
    "X_train_pred_tuple = vae.predict([X_train_2])\n",
    "\n",
    "# Process outputs\n",
    "X_test_pred = process_decoder_outputs(X_test_pred_tuple)\n",
    "X_train_pred = process_decoder_outputs(X_train_pred_tuple)"
   ]
  },
  {
   "cell_type": "markdown",
   "id": "b53444be",
   "metadata": {
    "papermill": {
     "duration": 0.075803,
     "end_time": "2024-11-06T13:32:41.663479",
     "exception": false,
     "start_time": "2024-11-06T13:32:41.587676",
     "status": "completed"
    },
    "tags": []
   },
   "source": [
    "Tabulated summary statistics for original and reconstructed test distributions."
   ]
  },
  {
   "cell_type": "code",
   "execution_count": 80,
   "id": "e432db37",
   "metadata": {
    "execution": {
     "iopub.execute_input": "2024-11-06T13:32:41.815081Z",
     "iopub.status.busy": "2024-11-06T13:32:41.814654Z",
     "iopub.status.idle": "2024-11-06T13:32:41.875071Z",
     "shell.execute_reply": "2024-11-06T13:32:41.874665Z"
    },
    "papermill": {
     "duration": 0.137675,
     "end_time": "2024-11-06T13:32:41.876257",
     "exception": false,
     "start_time": "2024-11-06T13:32:41.738582",
     "status": "completed"
    },
    "tags": []
   },
   "outputs": [
    {
     "name": "stdout",
     "output_type": "stream",
     "text": [
      "MSE train: 0.16445649017108313\n",
      "MSE test: 0.16461145198228502\n",
      "Test/train MSE ratio: 1.0009422663164018\n"
     ]
    }
   ],
   "source": [
    "mse_0 = mean_squared_error(X_train_1, X_train_pred)\n",
    "mse_1 = mean_squared_error(X_test_1, X_test_pred)\n",
    "test_train_MSE_ratio = np.divide(mse_1, mse_0)\n",
    "print(\"MSE train:\", mse_0)\n",
    "print(\"MSE test:\", mse_1)\n",
    "# Model is overfitting if test_train_MSE_ratio is >> 1\n",
    "print('Test/train MSE ratio:', test_train_MSE_ratio)\n",
    "\n",
    "def analyze_dataframe(df):\n",
    "    \"\"\"\n",
    "    Calculates the mean, standard deviation, kurtosis, and skewness of each column in a DataFrame.\n",
    "    Skewness should be 0 for a normal dist, kurtosis (a measure of outlier prevalence) should be 3.\n",
    "    Each of these metrics is calculated as a mean across all columns.\n",
    "    \"\"\"\n",
    "    analysis_results = pd.DataFrame({\n",
    "        'Mean': df.mean(),\n",
    "        'Standard Deviation': df.std(),\n",
    "        'Kurtosis': df.kurtosis(),\n",
    "        'Skewness': df.skew()\n",
    "    })\n",
    "\n",
    "    # Calculate mean values for the metrics across all columns\n",
    "    mean_metrics = analysis_results.mean()\n",
    "\n",
    "    # Return the analysis results along with averaged normality test results\n",
    "    return pd.Series({\n",
    "        'Mean': mean_metrics['Mean'],\n",
    "        'Standard Deviation': mean_metrics['Standard Deviation'],\n",
    "        'Kurtosis': mean_metrics['Kurtosis'],\n",
    "        'Skewness': mean_metrics['Skewness']\n",
    "    })\n",
    "\n",
    "def tabular_comparison(df1, df2, df1_name, df2_name):\n",
    "    \"\"\"\n",
    "    Compares the original test data and the reconstructed data by analyzing both.\n",
    "    Outputs a tabulated table with comparisons.\n",
    "    \"\"\"\n",
    "    # Convert reconstructed data to DataFrame if it's not already one\n",
    "    if not isinstance(df2, pd.DataFrame):\n",
    "        df2 = pd.DataFrame(df2, columns=df1.columns)\n",
    "\n",
    "    # Analyze both datasets\n",
    "    original_analysis = analyze_dataframe(df1)\n",
    "    comparison_analysis = analyze_dataframe(df2)\n",
    "\n",
    "    # Extract real_moments and synthetic_moments\n",
    "    real_moments = original_analysis.values\n",
    "    comparison_moments = comparison_analysis.values\n",
    "\n",
    "    # Store real_moments and synthetic_moments as attributes of the function\n",
    "    tabular_comparison.real_moments = real_moments\n",
    "    tabular_comparison.comparison_moments = comparison_moments\n",
    "\n",
    "    # Combine results for comparison\n",
    "    comparison_df = pd.DataFrame({\n",
    "        'Metric': ['Mean', 'Standard Deviation', 'Kurtosis', 'Skewness'],\n",
    "        df1_name: real_moments,\n",
    "        df2_name: comparison_moments\n",
    "    })\n",
    "\n",
    "    print(tabulate(comparison_df, headers='keys', tablefmt='grid'))\n",
    "\n",
    "# tabular_comparison(X_test_1, X_test_pred,'X_test','X_test_reconstructed')\n",
    "   "
   ]
  },
  {
   "cell_type": "markdown",
   "id": "280e2519",
   "metadata": {
    "papermill": {
     "duration": 0.074387,
     "end_time": "2024-11-06T13:32:42.028837",
     "exception": false,
     "start_time": "2024-11-06T13:32:41.954450",
     "status": "completed"
    },
    "tags": []
   },
   "source": [
    "Without differentiating between features, density plot of values for original and reconstructed test sets."
   ]
  },
  {
   "cell_type": "code",
   "execution_count": 81,
   "id": "0a2e4a29",
   "metadata": {
    "execution": {
     "iopub.execute_input": "2024-11-06T13:32:42.179990Z",
     "iopub.status.busy": "2024-11-06T13:32:42.179804Z",
     "iopub.status.idle": "2024-11-06T13:32:45.483742Z",
     "shell.execute_reply": "2024-11-06T13:32:45.483396Z"
    },
    "papermill": {
     "duration": 3.380878,
     "end_time": "2024-11-06T13:32:45.484786",
     "exception": false,
     "start_time": "2024-11-06T13:32:42.103908",
     "status": "completed"
    },
    "tags": []
   },
   "outputs": [],
   "source": [
    "def plot_density(df1, df2, df1_name, df2_name, cutoff_percentile=99.5):\n",
    "    df1_melted = df1.melt(var_name='Feature', value_name='Value')\n",
    "    df1_melted['Type'] = df1_name\n",
    "    df2_melted = df2.melt(var_name='Feature', value_name='Value')\n",
    "    df2_melted['Type'] = df2_name\n",
    "    combined_df = pd.concat([df1_melted, df2_melted])\n",
    "    \n",
    "    cutoff = np.percentile(combined_df['Value'], cutoff_percentile)\n",
    "    combined_df = combined_df[combined_df['Value'] <= cutoff]\n",
    "\n",
    "    plt.figure(figsize=(10, 6))\n",
    "    sns.kdeplot(data=combined_df[combined_df['Type'] == df1_name], x='Value', fill=True, common_norm=False, alpha=0.5, label=df1_name)\n",
    "    sns.kdeplot(data=combined_df[combined_df['Type'] == df2_name], x='Value', fill=True, common_norm=False, alpha=0.1, label=df2_name)\n",
    "    \n",
    "    plt.title(f'Density Plot of {df1_name} vs. {df2_name} (Cutoff at {cutoff_percentile}th percentile)')\n",
    "    plt.xlabel('Value')\n",
    "    plt.ylabel('Density')\n",
    "    plt.legend(title='Dataset Type')\n",
    "    plt.tight_layout()\n",
    "    plt.show()\n",
    "\n",
    "# plot_density(X_test_1, X_test_pred, 'Original', 'Reconstructed')    \n"
   ]
  },
  {
   "cell_type": "markdown",
   "id": "38ac7a2f",
   "metadata": {
    "papermill": {
     "duration": 0.074649,
     "end_time": "2024-11-06T13:32:45.637258",
     "exception": false,
     "start_time": "2024-11-06T13:32:45.562609",
     "status": "completed"
    },
    "tags": []
   },
   "source": [
    "Numerical feature vs feature plots: compares the scaled data with the reconstructed data\n",
    "- to see if feature relationships are preserved"
   ]
  },
  {
   "cell_type": "code",
   "execution_count": 82,
   "id": "50b74dd8",
   "metadata": {
    "execution": {
     "iopub.execute_input": "2024-11-06T13:32:45.824530Z",
     "iopub.status.busy": "2024-11-06T13:32:45.824360Z",
     "iopub.status.idle": "2024-11-06T13:32:49.466927Z",
     "shell.execute_reply": "2024-11-06T13:32:49.466553Z"
    },
    "papermill": {
     "duration": 3.726931,
     "end_time": "2024-11-06T13:32:49.476008",
     "exception": false,
     "start_time": "2024-11-06T13:32:45.749077",
     "status": "completed"
    },
    "tags": []
   },
   "outputs": [],
   "source": [
    "def feature_plot(dataset, ax_limits=None, axs=None, index=0, alpha=0.5, label=None, feature_combinations=None):\n",
    "    \"\"\"\n",
    "    Produces one feature vs feature plot for a specified dataset.\n",
    "    \"\"\"\n",
    "    feature1, feature2 = feature_combinations[index]\n",
    "    \n",
    "    if axs.ndim == 1:\n",
    "        ax = axs[index]\n",
    "    else:\n",
    "        ax = axs[index // 4, index % 4]\n",
    "    \n",
    "    ax.scatter(dataset[feature1], dataset[feature2], alpha=alpha, label=label)\n",
    "    ax.set_xlabel(feature1)\n",
    "    ax.set_ylabel(feature2)\n",
    "    ax.set_title(f'{feature1} vs {feature2}')\n",
    "    \n",
    "    if ax_limits is not None:\n",
    "        ax.set_xlim(ax_limits[index][0])\n",
    "        ax.set_ylim(ax_limits[index][1])\n",
    "\n",
    "def feature_comparison_plot(df1, df2, dataset1_name, dataset2_name, features):\n",
    "    \"\"\"\n",
    "    Plots feature comparisons for two datasets in a single figure, with the second dataset overlaid on top of the first.\n",
    "    \"\"\"\n",
    "    df1 = pd.DataFrame(df1)\n",
    "    df2 = pd.DataFrame(df2)\n",
    "    \n",
    "    feature_combinations = list(zip(features[:-1], features[1:]))\n",
    "    \n",
    "    num_plots = len(feature_combinations)\n",
    "    num_rows = (num_plots - 1) // 4 + 1\n",
    "    fig, axs = plt.subplots(num_rows, 4, figsize=(20, 5 * num_rows))\n",
    "    ax_limits = []\n",
    "    for i in range(num_plots):\n",
    "        ax_limits.append(feature_plot(df1, axs=axs, index=i, alpha=0.7, label=dataset1_name, feature_combinations=feature_combinations))\n",
    "        feature_plot(df2, ax_limits=ax_limits[-1], axs=axs, index=i, alpha=0.5, label=dataset2_name, feature_combinations=feature_combinations)\n",
    "\n",
    "    if axs.ndim == 1:\n",
    "        axs[0].legend()\n",
    "    else:\n",
    "        axs[0, 0].legend()\n",
    "\n",
    "    plt.tight_layout()\n",
    "    plt.show()\n",
    "\n",
    "## Compare datasets using numerical features\n",
    "# feature_comparison_plot(X_test_1, X_test_pred, 'Scaled Data', 'Reconstructed Data', numerical_features)\n"
   ]
  },
  {
   "cell_type": "markdown",
   "id": "56e30121",
   "metadata": {
    "papermill": {
     "duration": 0.1069,
     "end_time": "2024-11-06T13:32:49.685822",
     "exception": false,
     "start_time": "2024-11-06T13:32:49.578922",
     "status": "completed"
    },
    "tags": []
   },
   "source": [
    "Categorical feature vs feature plots"
   ]
  },
  {
   "cell_type": "code",
   "execution_count": 83,
   "id": "e7b06a1b",
   "metadata": {
    "execution": {
     "iopub.execute_input": "2024-11-06T13:32:49.901828Z",
     "iopub.status.busy": "2024-11-06T13:32:49.901662Z",
     "iopub.status.idle": "2024-11-06T13:32:50.473346Z",
     "shell.execute_reply": "2024-11-06T13:32:50.472994Z"
    },
    "papermill": {
     "duration": 0.680352,
     "end_time": "2024-11-06T13:32:50.474330",
     "exception": false,
     "start_time": "2024-11-06T13:32:49.793978",
     "status": "completed"
    },
    "tags": []
   },
   "outputs": [],
   "source": [
    "# # Compare with categorical features (called embedding_features)\n",
    "# feature_comparison_plot(X_test_1, X_test_pred, 'Scaled Data', 'Reconstructed Data', embedding_features)"
   ]
  },
  {
   "cell_type": "markdown",
   "id": "f34e09f8",
   "metadata": {
    "papermill": {
     "duration": 0.106617,
     "end_time": "2024-11-06T13:32:50.689282",
     "exception": false,
     "start_time": "2024-11-06T13:32:50.582665",
     "status": "completed"
    },
    "tags": []
   },
   "source": [
    "Choose conditional or unconditional generation & load latent space tensors"
   ]
  },
  {
   "cell_type": "code",
   "execution_count": 84,
   "id": "7d2da25f",
   "metadata": {
    "execution": {
     "iopub.execute_input": "2024-11-06T13:32:50.905259Z",
     "iopub.status.busy": "2024-11-06T13:32:50.905102Z",
     "iopub.status.idle": "2024-11-06T13:32:50.910239Z",
     "shell.execute_reply": "2024-11-06T13:32:50.909979Z"
    },
    "papermill": {
     "duration": 0.113665,
     "end_time": "2024-11-06T13:32:50.910953",
     "exception": false,
     "start_time": "2024-11-06T13:32:50.797288",
     "status": "completed"
    },
    "tags": []
   },
   "outputs": [
    {
     "name": "stdout",
     "output_type": "stream",
     "text": [
      "Number of available latent space tensors: 56129\n"
     ]
    }
   ],
   "source": [
    "generate_with_conditions = False  # Set to False for unconditional generation\n",
    "# names of conditional_variable and conditional value are taken from subdirectory names\n",
    "#  in 'Latent Space Tensors/Conditional Latent Space Tensors'\n",
    "conditional_variable = 'metformin_preparations_prescribed'  # Only used if generate_with_conditions is True\n",
    "conditional_value = 'not_prescribed'  # Only used if generate_with_conditions is True\n",
    "\n",
    "# Base directory for latent space tensors\n",
    "base_dir = '/home/shogg/mwdh_ml_projects/projects/vae/Latent Space Tensors'\n",
    "\n",
    "if generate_with_conditions:\n",
    "    # Path for conditional tensors\n",
    "    conditional_dir = os.path.join(base_dir, 'Conditional Latent Space Tensors', conditional_variable, conditional_value)\n",
    "    \n",
    "    # Load conditional tensors\n",
    "    z_mean = np.load(os.path.join(conditional_dir, f'z_mean_{conditional_value}.npy'))\n",
    "    z_log_sigma = np.load(os.path.join(conditional_dir, f'z_log_sigma_{conditional_value}.npy'))\n",
    "else:\n",
    "    # Load unconditional tensors\n",
    "    z_mean = np.load(os.path.join(base_dir, 'z_mean.npy'))\n",
    "    z_log_sigma = np.load(os.path.join(base_dir, 'z_log_sigma.npy'))\n",
    "\n",
    "print(f\"Number of available latent space tensors: {len(z_mean)}\")"
   ]
  },
  {
   "cell_type": "markdown",
   "id": "5c81d73d",
   "metadata": {
    "papermill": {
     "duration": 0.107895,
     "end_time": "2024-11-06T13:32:51.128696",
     "exception": false,
     "start_time": "2024-11-06T13:32:51.020801",
     "status": "completed"
    },
    "tags": []
   },
   "source": [
    "Samples subset of X_test_0 that matches the chosen condition if generate_with_conditions=True"
   ]
  },
  {
   "cell_type": "code",
   "execution_count": 85,
   "id": "318560f3",
   "metadata": {
    "execution": {
     "iopub.execute_input": "2024-11-06T13:32:51.379801Z",
     "iopub.status.busy": "2024-11-06T13:32:51.379321Z",
     "iopub.status.idle": "2024-11-06T13:32:51.382394Z",
     "shell.execute_reply": "2024-11-06T13:32:51.382094Z"
    },
    "papermill": {
     "duration": 0.145961,
     "end_time": "2024-11-06T13:32:51.383093",
     "exception": false,
     "start_time": "2024-11-06T13:32:51.237132",
     "status": "completed"
    },
    "tags": []
   },
   "outputs": [],
   "source": [
    "if generate_with_conditions:\n",
    "    if conditional_variable in cat_conditional_features:\n",
    "        # Handle categorical features\n",
    "        matching_columns = [col for col in X_test_0.columns if conditional_variable in col]\n",
    "        if matching_columns:\n",
    "            condition_column = matching_columns[0]\n",
    "            encoded_value = value_to_column[conditional_variable].index(f\"{conditional_variable}_{conditional_value}\")\n",
    "            condition_mask = X_test_0[condition_column] == encoded_value\n",
    "        else:\n",
    "            print(f\"No column found containing '{conditional_variable}'. Using full datasets.\")\n",
    "            condition_mask = np.ones(len(X_test_0), dtype=bool)\n",
    "    elif conditional_variable in prescribed_conditional_features:\n",
    "        # Handle binary features (prescribed drugs)\n",
    "        condition_mask = X_test_0[conditional_variable] == (1 if conditional_value == 'prescribed' else 0)\n",
    "    else:\n",
    "        print(f\"Unknown conditional variable '{conditional_variable}'. Using full datasets.\")\n",
    "        condition_mask = np.ones(len(X_test_0), dtype=bool)\n",
    "\n",
    "    X_test_0_subset = X_test_0[condition_mask]\n",
    "    X_test_1_subset = X_test_1[condition_mask]\n",
    "else:\n",
    "    X_test_0_subset = X_test_0\n",
    "    X_test_1_subset = X_test_1"
   ]
  },
  {
   "cell_type": "code",
   "execution_count": 86,
   "id": "983aa87d",
   "metadata": {
    "execution": {
     "iopub.execute_input": "2024-11-06T13:32:51.599561Z",
     "iopub.status.busy": "2024-11-06T13:32:51.599281Z",
     "iopub.status.idle": "2024-11-06T13:32:51.909796Z",
     "shell.execute_reply": "2024-11-06T13:32:51.909449Z"
    },
    "papermill": {
     "duration": 0.419774,
     "end_time": "2024-11-06T13:32:51.910672",
     "exception": false,
     "start_time": "2024-11-06T13:32:51.490898",
     "status": "completed"
    },
    "tags": []
   },
   "outputs": [
    {
     "name": "stdout",
     "output_type": "stream",
     "text": [
      "313/313 [==============================] - 0s 399us/step\n"
     ]
    }
   ],
   "source": [
    "# Generate new data from the latent space\n",
    "n_samples = 10000\n",
    "indices = np.random.choice(len(z_mean), n_samples, replace=True)\n",
    "selected_mean = z_mean[indices]\n",
    "selected_log_sigma = z_log_sigma[indices]\n",
    "# Sample from latent space\n",
    "latent_samples = selected_mean + np.exp(selected_log_sigma / 2) * np.random.normal(size=(n_samples, selected_mean.shape[1]))\n",
    "# Generate data\n",
    "generated_data_dict = decoder.predict(latent_samples)\n",
    "generated_data = process_decoder_outputs(generated_data_dict)"
   ]
  },
  {
   "cell_type": "markdown",
   "id": "29445252",
   "metadata": {
    "papermill": {
     "duration": 0.112229,
     "end_time": "2024-11-06T13:32:52.136648",
     "exception": false,
     "start_time": "2024-11-06T13:32:52.024419",
     "status": "completed"
    },
    "tags": []
   },
   "source": [
    "Samples from saved collection of latent space tensors, then pass through decoder to generate synthetic data"
   ]
  },
  {
   "cell_type": "code",
   "execution_count": 87,
   "id": "ca4a7297",
   "metadata": {
    "execution": {
     "iopub.execute_input": "2024-11-06T13:32:52.355233Z",
     "iopub.status.busy": "2024-11-06T13:32:52.355078Z",
     "iopub.status.idle": "2024-11-06T13:32:52.366503Z",
     "shell.execute_reply": "2024-11-06T13:32:52.366247Z"
    },
    "papermill": {
     "duration": 0.120731,
     "end_time": "2024-11-06T13:32:52.367290",
     "exception": false,
     "start_time": "2024-11-06T13:32:52.246559",
     "status": "completed"
    },
    "tags": []
   },
   "outputs": [
    {
     "name": "stdout",
     "output_type": "stream",
     "text": [
      "MSE: 0.23114404295810095\n",
      "Generated 10000 samples without conditions.\n",
      "Compared 10000 samples.\n"
     ]
    }
   ],
   "source": [
    "# # Determine the number of samples to compare\n",
    "# test_set_size = X_test_1_subset.shape[0]\n",
    "# comparison_size = min(test_set_size, len(generated_data))\n",
    "\n",
    "# # Sample from generated data if necessary\n",
    "# if len(generated_data) > comparison_size:\n",
    "#     generated_subset = generated_data.sample(n=comparison_size, replace=False)\n",
    "# else:\n",
    "#     generated_subset = generated_data\n",
    "\n",
    "# # Sample from X_test_1 if necessary\n",
    "# if X_test_1_subset.shape[0] > comparison_size:\n",
    "#     X_test_1_subset = X_test_1_subset.sample(n=comparison_size, replace=False)\n",
    "# else:\n",
    "#     X_test_1_subset = X_test_1_subset\n",
    "\n",
    "X_test_1_subset = X_test_1_subset.sample(n=n_samples, replace=(X_test_1_subset.shape[0] < n_samples))\n",
    "X_test_0_subset = X_test_0_subset.sample(n=n_samples, replace=(X_test_0_subset.shape[0] < n_samples))\n",
    "\n",
    "\n",
    "\n",
    "# Calculate MSE\n",
    "mse_2 = mean_squared_error(X_test_1_subset, generated_data)\n",
    "print(\"MSE:\", mse_2)\n",
    "\n",
    "print(f\"Generated {n_samples} samples {'with' if generate_with_conditions else 'without'} conditions.\")\n",
    "if generate_with_conditions:\n",
    "    print(f\"Condition: {conditional_variable} = {conditional_value}\")\n",
    "print(f\"Compared {n_samples} samples.\")"
   ]
  },
  {
   "cell_type": "code",
   "execution_count": 88,
   "id": "028fd2f2",
   "metadata": {
    "execution": {
     "iopub.execute_input": "2024-11-06T13:32:52.588966Z",
     "iopub.status.busy": "2024-11-06T13:32:52.588767Z",
     "iopub.status.idle": "2024-11-06T13:32:52.590546Z",
     "shell.execute_reply": "2024-11-06T13:32:52.590288Z"
    },
    "papermill": {
     "duration": 0.112061,
     "end_time": "2024-11-06T13:32:52.591261",
     "exception": false,
     "start_time": "2024-11-06T13:32:52.479200",
     "status": "completed"
    },
    "tags": []
   },
   "outputs": [],
   "source": [
    "# tabular_comparison(X_test_1_subset,generated_subset,'scaled data', 'generated data')"
   ]
  },
  {
   "cell_type": "code",
   "execution_count": 89,
   "id": "ec79ebc8",
   "metadata": {
    "execution": {
     "iopub.execute_input": "2024-11-06T13:32:52.812241Z",
     "iopub.status.busy": "2024-11-06T13:32:52.812063Z",
     "iopub.status.idle": "2024-11-06T13:32:52.827703Z",
     "shell.execute_reply": "2024-11-06T13:32:52.827434Z"
    },
    "papermill": {
     "duration": 0.1256,
     "end_time": "2024-11-06T13:32:52.828477",
     "exception": false,
     "start_time": "2024-11-06T13:32:52.702877",
     "status": "completed"
    },
    "tags": []
   },
   "outputs": [
    {
     "name": "stdout",
     "output_type": "stream",
     "text": [
      "generated_data_inverse shape: (10000, 43)\n",
      "synthetic_data initial shape: (10000, 48)\n",
      "synthetic_data final shape: (10000, 48)\n",
      "Original vs Inverse Transformed:\n",
      "\n",
      "age:\n",
      "Original mean: 64.1343\n",
      "Inverse mean: 62.6554\n",
      "Ratio: 0.9769\n",
      "\n",
      "duration:\n",
      "Original mean: 10.4749\n",
      "Inverse mean: 9.8787\n",
      "Ratio: 0.9431\n"
     ]
    }
   ],
   "source": [
    "def inverse_transform_data(scaled_data):\n",
    "    inv = minmax_scaler.inverse_transform(scaled_data[numerical_features])\n",
    "    return pd.DataFrame(inv, columns=numerical_features, index=scaled_data.index)\n",
    "\n",
    "# After generating data, inverse transform\n",
    "generated_data_inverse = inverse_transform_data(generated_data[numerical_features])\n",
    "print(\"generated_data_inverse shape:\", generated_data_inverse.shape)\n",
    "\n",
    "# Create a new DataFrame with all original columns\n",
    "generated_subset = generated_data.copy()\n",
    "print(\"synthetic_data initial shape:\", generated_subset.shape)\n",
    "\n",
    "# Update only the numerical columns with the inverse transformed data\n",
    "generated_subset.update(generated_data_inverse)\n",
    "print(\"synthetic_data final shape:\", generated_subset.shape)\n",
    "\n",
    "# Check results\n",
    "print(\"Original vs Inverse Transformed:\")\n",
    "for col in numerical_features[:2]:  # Check first 5 features\n",
    "    print(f\"\\n{col}:\")\n",
    "    print(f\"Original mean: {X_test_0_subset[col].mean():.4f}\")\n",
    "    print(f\"Inverse mean: {generated_subset[col].mean():.4f}\")\n",
    "    print(f\"Ratio: {generated_subset[col].mean() / X_test_0_subset[col].mean():.4f}\")"
   ]
  },
  {
   "cell_type": "code",
   "execution_count": 90,
   "id": "85673fb2",
   "metadata": {},
   "outputs": [],
   "source": [
    "# Identify columns in X_test_0_subset that contain no non-integer numbers\n",
    "def is_column_integer(column):\n",
    "    return np.all(column.dropna().apply(lambda x: isinstance(x, (int, float)) and x == int(x)))\n",
    "\n",
    "integer_columns = [col for col in X_test_0_subset.columns if is_column_integer(X_test_0_subset[col])]\n",
    "\n",
    "# Round every value in integer_columns of generated_subset to the nearest integer\n",
    "generated_subset[integer_columns] = generated_subset[integer_columns].applymap(round)\n"
   ]
  },
  {
   "cell_type": "code",
   "execution_count": 91,
   "id": "e8087945",
   "metadata": {
    "execution": {
     "iopub.execute_input": "2024-11-06T13:32:53.051059Z",
     "iopub.status.busy": "2024-11-06T13:32:53.050857Z",
     "iopub.status.idle": "2024-11-06T13:32:53.058502Z",
     "shell.execute_reply": "2024-11-06T13:32:53.058186Z"
    },
    "papermill": {
     "duration": 0.120008,
     "end_time": "2024-11-06T13:32:53.059270",
     "exception": false,
     "start_time": "2024-11-06T13:32:52.939262",
     "status": "completed"
    },
    "tags": []
   },
   "outputs": [
    {
     "name": "stdout",
     "output_type": "stream",
     "text": [
      "MSE: 483.192141818402\n"
     ]
    }
   ],
   "source": [
    "#Overall MSE\n",
    "mse_3 = mean_squared_error(X_test_0_subset, generated_subset)\n",
    "print(\"MSE:\", mse_3)\n",
    "\n",
    "# # Compare datasets and define lists of moments (mean, variance etc) for later use\n",
    "# tabular_comparison(X_test_0_subset, synthetic_data, 'X_test', 'Synthetic_data')\n",
    "# real_moments = tabular_comparison.real_moments\n",
    "# synthetic_moments = tabular_comparison.comparison_moments"
   ]
  },
  {
   "cell_type": "code",
   "execution_count": 92,
   "id": "03096510",
   "metadata": {
    "execution": {
     "iopub.execute_input": "2024-11-06T13:32:53.315410Z",
     "iopub.status.busy": "2024-11-06T13:32:53.315202Z",
     "iopub.status.idle": "2024-11-06T13:32:53.903717Z",
     "shell.execute_reply": "2024-11-06T13:32:53.903130Z"
    },
    "papermill": {
     "duration": 0.733984,
     "end_time": "2024-11-06T13:32:53.904426",
     "exception": false,
     "start_time": "2024-11-06T13:32:53.170442",
     "status": "completed"
    },
    "tags": []
   },
   "outputs": [
    {
     "name": "stdout",
     "output_type": "stream",
     "text": [
      "Test set accuracy: 0.9968\n"
     ]
    },
    {
     "data": {
      "text/plain": [
       "<Figure size 1000x800 with 0 Axes>"
      ]
     },
     "metadata": {},
     "output_type": "display_data"
    },
    {
     "data": {
      "image/png": "[encoded data removed]",
      "text/plain": [
       "<Figure size 640x480 with 1 Axes>"
      ]
     },
     "metadata": {},
     "output_type": "display_data"
    }
   ],
   "source": [
    "# Add 'real_or_synthetic' column\n",
    "generated_subset['real_or_synthetic'] = 'synthetic'\n",
    "X_test_0_subset['real_or_synthetic'] = 'real'\n",
    "\n",
    "# Combine the datasets\n",
    "combined_df = pd.concat([generated_subset, X_test_0_subset], ignore_index=True)\n",
    "\n",
    "# Split into features and target\n",
    "X = combined_df.drop('real_or_synthetic', axis=1)\n",
    "y = combined_df['real_or_synthetic']\n",
    "\n",
    "# Encode the target variable\n",
    "label_encoder = LabelEncoder()\n",
    "y_encoded = label_encoder.fit_transform(y)  # 'real' -> 0, 'synthetic' -> 1\n",
    "\n",
    "# Split into training and test sets (80% training, 20% testing)\n",
    "X_train, X_test, y_train, y_test = train_test_split(\n",
    "    X, y_encoded, test_size=0.2, random_state=42, stratify=y_encoded\n",
    ")\n",
    "\n",
    "# Train XGBoost classifier\n",
    "xgb_model = xgb.XGBClassifier(use_label_encoder=False, eval_metric='logloss')\n",
    "xgb_model.fit(X_train, y_train)\n",
    "\n",
    "# Evaluate on the test set\n",
    "accuracy = xgb_model.score(X_test, y_test)\n",
    "print(f\"Test set accuracy: {accuracy:.4f}\")\n",
    "\n",
    "# Plot feature importance\n",
    "plt.figure(figsize=(10, 8))\n",
    "plot_importance(xgb_model, max_num_features=20)\n",
    "plt.title('Feature Importance')\n",
    "plt.show()\n"
   ]
  },
  {
   "cell_type": "code",
   "execution_count": 93,
   "id": "b74e34b7",
   "metadata": {},
   "outputs": [],
   "source": [
    "# Identify columns in X_test_0 that contain negative numbers and calculate percentage\n",
    "negative_columns_info = {\n",
    "    col: (X_test_0[col] < 0).mean() * 100 for col in X_test_0.columns if (X_test_0[col] < 0).any()\n",
    "}\n",
    "\n",
    "# Print the results\n",
    "for col, percentage in negative_columns_info.items():\n",
    "    print(f\"{col}: {percentage:.2f}% negative\")\n"
   ]
  },
  {
   "cell_type": "code",
   "execution_count": 94,
   "id": "0dca4b12",
   "metadata": {
    "execution": {
     "iopub.execute_input": "2024-11-06T13:32:54.122081Z",
     "iopub.status.busy": "2024-11-06T13:32:54.121887Z",
     "iopub.status.idle": "2024-11-06T13:32:54.544059Z",
     "shell.execute_reply": "2024-11-06T13:32:54.543841Z"
    },
    "papermill": {
     "duration": 0.532198,
     "end_time": "2024-11-06T13:32:54.545473",
     "exception": false,
     "start_time": "2024-11-06T13:32:54.013275",
     "status": "completed"
    },
    "tags": []
   },
   "outputs": [
    {
     "name": "stdout",
     "output_type": "stream",
     "text": [
      "Trained on real -> tested on real - Accuracy: 0.8710\n",
      "Trained on synthetic -> tested on real - Accuracy: 0.8400\n"
     ]
    }
   ],
   "source": [
    "# Create the target variable y = (age < 60)?\n",
    "y_X_test_0_subset = (X_test_0_subset['age'] < 60).astype(int)\n",
    "y_generated_subset = (generated_subset['age'] < 60).astype(int)\n",
    "\n",
    "# Drop 'real_or_synthetic' column if it exists\n",
    "for df in [X_test_0_subset, generated_subset]:\n",
    "    if 'real_or_synthetic' in df.columns:\n",
    "        df.drop('real_or_synthetic', axis=1, inplace=True)\n",
    "\n",
    "# Remove 'age' from features\n",
    "X_features_X_test_0_subset = X_test_0_subset.drop('age', axis=1)\n",
    "X_features_generated_subset = generated_subset.drop('age', axis=1)\n",
    "\n",
    "# Ensure the feature columns match in both datasets\n",
    "common_columns = X_features_X_test_0_subset.columns.intersection(X_features_generated_subset.columns)\n",
    "X_features_X_test_0_subset = X_features_X_test_0_subset[common_columns]\n",
    "X_features_generated_subset = X_features_generated_subset[common_columns]\n",
    "\n",
    "# Experiment 1: Trained on 80% of X_test_0_subset, tested on 20% of X_test_0_subset\n",
    "X_train1, X_test1, y_train1, y_test1 = train_test_split(\n",
    "    X_features_X_test_0_subset,\n",
    "    y_X_test_0_subset,\n",
    "    test_size=0.2,\n",
    "    random_state=42,\n",
    "    stratify=y_X_test_0_subset\n",
    ")\n",
    "\n",
    "# Train XGBoost classifier for Experiment 1\n",
    "xgb_model1 = xgb.XGBClassifier(use_label_encoder=False, eval_metric='logloss')\n",
    "xgb_model1.fit(X_train1, y_train1)\n",
    "\n",
    "# Evaluate on the test set\n",
    "accuracy1 = xgb_model1.score(X_test1, y_test1)\n",
    "print(f\"Trained on real -> tested on real - Accuracy: {accuracy1:.4f}\")\n",
    "\n",
    "# Experiment 2: Trained on 80% of generated_subset, tested on 20% of X_test_0_subset\n",
    "X_train2, _, y_train2, _ = train_test_split(\n",
    "    X_features_generated_subset,\n",
    "    y_generated_subset,\n",
    "    test_size=0.2,\n",
    "    random_state=42,\n",
    "    stratify=y_generated_subset\n",
    ")\n",
    "\n",
    "# Use X_test1 and y_test1 from Experiment 1 as the test set\n",
    "# Train XGBoost classifier for Experiment 2\n",
    "xgb_model2 = xgb.XGBClassifier(use_label_encoder=False, eval_metric='logloss')\n",
    "xgb_model2.fit(X_train2, y_train2)\n",
    "\n",
    "# Evaluate on the test set\n",
    "accuracy2 = xgb_model2.score(X_test1, y_test1)\n",
    "print(f\"Trained on synthetic -> tested on real - Accuracy: {accuracy2:.4f}\")\n",
    "\n",
    "# Plot feature importance for Experiment 1\n",
    "# plt.figure(figsize=(10, 8))\n",
    "# plot_importance(xgb_model1, max_num_features=20)\n",
    "# plt.title('Feature Importance - Experiment 1')\n",
    "# plt.show()\n",
    "\n",
    "# # Plot feature importance for Experiment 2\n",
    "# plt.figure(figsize=(10, 8))\n",
    "# plot_importance(xgb_model2, max_num_features=20)\n",
    "# plt.title('Feature Importance - Experiment 2')\n",
    "# plt.show()\n"
   ]
  },
  {
   "cell_type": "code",
   "execution_count": 95,
   "id": "7fba491c",
   "metadata": {},
   "outputs": [],
   "source": [
    "# import shap\n",
    "# import matplotlib.pyplot as plt\n",
    "\n",
    "# # Compute SHAP values\n",
    "# explainer = shap.Explainer(xgb_model, X_train)\n",
    "# shap_values = explainer(X_test)\n",
    "\n",
    "# # Beeswarm plot\n",
    "# plt.figure(figsize=(12, 8))\n",
    "# shap.summary_plot(shap_values, X_test, plot_type=\"bee\")\n",
    "# plt.title(\"SHAP Beeswarm Plot\")\n",
    "# plt.show()\n"
   ]
  },
  {
   "cell_type": "code",
   "execution_count": 96,
   "id": "299ececc",
   "metadata": {
    "execution": {
     "iopub.execute_input": "2024-11-06T13:32:54.763906Z",
     "iopub.status.busy": "2024-11-06T13:32:54.763755Z",
     "iopub.status.idle": "2024-11-06T13:32:54.766167Z",
     "shell.execute_reply": "2024-11-06T13:32:54.765864Z"
    },
    "papermill": {
     "duration": 0.112212,
     "end_time": "2024-11-06T13:32:54.767344",
     "exception": false,
     "start_time": "2024-11-06T13:32:54.655132",
     "status": "completed"
    },
    "tags": []
   },
   "outputs": [
    {
     "name": "stdout",
     "output_type": "stream",
     "text": [
      "Real_real_accuracy\tSynthetic_real_accuracy\tSynthetic_vs_original_MSE\tReal_vs_synthetic_discriminator_accuracy\tTraining_runtime\n",
      "0.871\t0.84\t483.0\t0.99675\t427.22\n"
     ]
    },
    {
     "data": {
      "application/scrapbook.scrap.json+json": {
       "data": 0.871,
       "encoder": "json",
       "name": "Real_real_accuracy",
       "version": 1
      }
     },
     "metadata": {
      "scrapbook": {
       "data": true,
       "display": false,
       "name": "Real_real_accuracy"
      }
     },
     "output_type": "display_data"
    },
    {
     "data": {
      "application/scrapbook.scrap.json+json": {
       "data": 0.84,
       "encoder": "json",
       "name": "Synthetic_real_accuracy",
       "version": 1
      }
     },
     "metadata": {
      "scrapbook": {
       "data": true,
       "display": false,
       "name": "Synthetic_real_accuracy"
      }
     },
     "output_type": "display_data"
    },
    {
     "data": {
      "application/scrapbook.scrap.json+json": {
       "data": 483.192141818402,
       "encoder": "json",
       "name": "Synthetic_vs_original_MSE",
       "version": 1
      }
     },
     "metadata": {
      "scrapbook": {
       "data": true,
       "display": false,
       "name": "Synthetic_vs_original_MSE"
      }
     },
     "output_type": "display_data"
    },
    {
     "data": {
      "application/scrapbook.scrap.json+json": {
       "data": 0.99675,
       "encoder": "json",
       "name": "Real_vs_synthetic_discriminator_accuracy",
       "version": 1
      }
     },
     "metadata": {
      "scrapbook": {
       "data": true,
       "display": false,
       "name": "Real_vs_synthetic_discriminator_accuracy"
      }
     },
     "output_type": "display_data"
    },
    {
     "data": {
      "application/scrapbook.scrap.json+json": {
       "data": 427.21571180800674,
       "encoder": "json",
       "name": "Training_runtime",
       "version": 1
      }
     },
     "metadata": {
      "scrapbook": {
       "data": true,
       "display": false,
       "name": "Training_runtime"
      }
     },
     "output_type": "display_data"
    }
   ],
   "source": [
    "print(\"Real_real_accuracy\\tSynthetic_real_accuracy\\tSynthetic_vs_original_MSE\\tReal_vs_synthetic_discriminator_accuracy\\tTraining_runtime\")\n",
    "print(f\"{round(accuracy1,3)}\\t{round(accuracy2,3)}\\t{round(mse_3,0)}\\t{round(accuracy,5)}\\t{round(training_runtime,2)}\")\n",
    "\n",
    "sb.glue(\"Real_real_accuracy\", accuracy1)\n",
    "sb.glue(\"Synthetic_real_accuracy\", accuracy2)\n",
    "sb.glue(\"Synthetic_vs_original_MSE\", mse_3)\n",
    "sb.glue(\"Real_vs_synthetic_discriminator_accuracy\", accuracy)\n",
    "sb.glue(\"Training_runtime\", training_runtime)"
   ]
  },
  {
   "cell_type": "markdown",
   "id": "2379573b",
   "metadata": {
    "papermill": {
     "duration": 0.107029,
     "end_time": "2024-11-06T13:32:54.983263",
     "exception": false,
     "start_time": "2024-11-06T13:32:54.876234",
     "status": "completed"
    },
    "tags": []
   },
   "source": [
    "KL divergence - difference between real data distribution and synthetic data distribution"
   ]
  },
  {
   "cell_type": "code",
   "execution_count": 97,
   "id": "2507d499",
   "metadata": {
    "execution": {
     "iopub.execute_input": "2024-11-06T13:32:55.200104Z",
     "iopub.status.busy": "2024-11-06T13:32:55.199928Z",
     "iopub.status.idle": "2024-11-06T13:32:55.202229Z",
     "shell.execute_reply": "2024-11-06T13:32:55.201880Z"
    },
    "papermill": {
     "duration": 0.111872,
     "end_time": "2024-11-06T13:32:55.203227",
     "exception": false,
     "start_time": "2024-11-06T13:32:55.091355",
     "status": "completed"
    },
    "tags": []
   },
   "outputs": [],
   "source": [
    "# def calculate_kl_divergence(p, q):\n",
    "#     # Add a small smoothing factor to avoid zero probabilities\n",
    "#     p = p + 1e-10\n",
    "#     q = q + 1e-10\n",
    "    \n",
    "#     # Normalize the distributions\n",
    "#     p = p / np.sum(p)\n",
    "#     q = q / np.sum(q)\n",
    "    \n",
    "#     return entropy(p, q)\n",
    "\n",
    "# kl_divergences = []\n",
    "\n",
    "# for column in column_names:\n",
    "#     original_col = X_test_0_subset[column]\n",
    "#     synthetic_col = synthetic_data[column]\n",
    "\n",
    "#     # Calculate the histograms of the original and synthetic data for each column\n",
    "#     original_hist, _ = np.histogram(original_col, bins=50, density=True)\n",
    "#     synthetic_hist, _ = np.histogram(synthetic_col, bins=50, density=True)\n",
    "\n",
    "#     # Calculate the KL divergence for each column\n",
    "#     kl_divergence = calculate_kl_divergence(original_hist, synthetic_hist)\n",
    "#     kl_divergences.append(kl_divergence)\n",
    "\n",
    "# # Calculate the average KL divergence across all columns\n",
    "# average_kl_divergence = np.mean(kl_divergences)\n",
    "\n",
    "# print(f\"Average KL Divergence: {average_kl_divergence:.3f}\")"
   ]
  },
  {
   "cell_type": "markdown",
   "id": "b5450053",
   "metadata": {
    "papermill": {
     "duration": 0.108717,
     "end_time": "2024-11-06T13:32:55.421847",
     "exception": false,
     "start_time": "2024-11-06T13:32:55.313130",
     "status": "completed"
    },
    "tags": []
   },
   "source": [
    "Moment matching score - (average normalised MSE for mean, variance, skewness and kurtosis between distributions)"
   ]
  },
  {
   "cell_type": "code",
   "execution_count": 98,
   "id": "753f0245",
   "metadata": {
    "execution": {
     "iopub.execute_input": "2024-11-06T13:32:55.671393Z",
     "iopub.status.busy": "2024-11-06T13:32:55.671237Z",
     "iopub.status.idle": "2024-11-06T13:32:55.673231Z",
     "shell.execute_reply": "2024-11-06T13:32:55.672928Z"
    },
    "papermill": {
     "duration": 0.111461,
     "end_time": "2024-11-06T13:32:55.673897",
     "exception": false,
     "start_time": "2024-11-06T13:32:55.562436",
     "status": "completed"
    },
    "tags": []
   },
   "outputs": [],
   "source": [
    "# def moment_matching_score(real_moments, synthetic_moments):\n",
    "#     normalized_diff = ((real_moments - synthetic_moments) / real_moments) ** 2\n",
    "#     mse = np.mean(normalized_diff, axis=0)\n",
    "#     return np.mean(mse)\n",
    "\n",
    "# moment_score = moment_matching_score(np.array(real_moments), np.array(synthetic_moments))\n",
    "# print(f\"Moment Matching Score: {moment_score:.3f}\")"
   ]
  },
  {
   "cell_type": "code",
   "execution_count": 99,
   "id": "73d518af",
   "metadata": {
    "execution": {
     "iopub.execute_input": "2024-11-06T13:32:55.897342Z",
     "iopub.status.busy": "2024-11-06T13:32:55.897174Z",
     "iopub.status.idle": "2024-11-06T13:32:55.899562Z",
     "shell.execute_reply": "2024-11-06T13:32:55.899218Z"
    },
    "papermill": {
     "duration": 0.117308,
     "end_time": "2024-11-06T13:32:55.900228",
     "exception": false,
     "start_time": "2024-11-06T13:32:55.782920",
     "status": "completed"
    },
    "tags": []
   },
   "outputs": [],
   "source": [
    "# mmd_synthetic = synthetic_data.sample(n=1000, replace=True)\n",
    "# mmd_X_test = X_test_0_subset.sample(n=1000, replace=True)\n",
    "\n",
    "# def compute_kernel(x, y):\n",
    "#     x_size = tf.shape(x)[0]\n",
    "#     y_size = tf.shape(y)[0]\n",
    "#     dim = tf.shape(x)[1]\n",
    "    \n",
    "#     x = tf.expand_dims(x, 1)  # (x_size, 1, dim)\n",
    "#     y = tf.expand_dims(y, 0)  # (1, y_size, dim)\n",
    "    \n",
    "#     tiled_x = tf.tile(x, [1, y_size, 1])\n",
    "#     tiled_y = tf.tile(y, [x_size, 1, 1])\n",
    "    \n",
    "#     kernel_input = tf.reduce_mean(tf.pow(tiled_x - tiled_y, 2), axis=2) / tf.cast(dim, tf.float64)\n",
    "#     return tf.exp(-kernel_input)  # (x_size, y_size)\n",
    "\n",
    "# def compute_mmd(x, y):\n",
    "#     ''' Given the fake (x) and real (y) data, return the MMD\n",
    "#     '''\n",
    "#     x_kernel = compute_kernel(x, x)\n",
    "#     y_kernel = compute_kernel(y, y)\n",
    "#     xy_kernel = compute_kernel(x, y)\n",
    "    \n",
    "#     mmd = tf.reduce_mean(x_kernel) + tf.reduce_mean(y_kernel) - 2 * tf.reduce_mean(xy_kernel)\n",
    "#     return mmd\n",
    "\n",
    "# mmd_value = compute_mmd(mmd_X_test, mmd_synthetic).numpy()\n",
    "\n",
    "# print(mmd_value)"
   ]
  },
  {
   "cell_type": "code",
   "execution_count": 100,
   "id": "983e50f1",
   "metadata": {
    "execution": {
     "iopub.execute_input": "2024-11-06T13:32:56.124809Z",
     "iopub.status.busy": "2024-11-06T13:32:56.124644Z",
     "iopub.status.idle": "2024-11-06T13:32:56.126733Z",
     "shell.execute_reply": "2024-11-06T13:32:56.126486Z"
    },
    "papermill": {
     "duration": 0.116459,
     "end_time": "2024-11-06T13:32:56.127364",
     "exception": false,
     "start_time": "2024-11-06T13:32:56.010905",
     "status": "completed"
    },
    "tags": []
   },
   "outputs": [],
   "source": [
    "# plot_density(X_test_0_subset, synthetic_data, 'Original', 'Synthetic')  "
   ]
  },
  {
   "cell_type": "markdown",
   "id": "8a81c01a",
   "metadata": {
    "papermill": {
     "duration": 0.108433,
     "end_time": "2024-11-06T13:32:56.347103",
     "exception": false,
     "start_time": "2024-11-06T13:32:56.238670",
     "status": "completed"
    },
    "tags": []
   },
   "source": [
    "Feature plot for synthetic categorical features"
   ]
  },
  {
   "cell_type": "code",
   "execution_count": 101,
   "id": "3c2da351",
   "metadata": {
    "execution": {
     "iopub.execute_input": "2024-11-06T13:32:56.565497Z",
     "iopub.status.busy": "2024-11-06T13:32:56.565316Z",
     "iopub.status.idle": "2024-11-06T13:32:56.567471Z",
     "shell.execute_reply": "2024-11-06T13:32:56.567118Z"
    },
    "papermill": {
     "duration": 0.112479,
     "end_time": "2024-11-06T13:32:56.568193",
     "exception": false,
     "start_time": "2024-11-06T13:32:56.455714",
     "status": "completed"
    },
    "tags": []
   },
   "outputs": [],
   "source": [
    "# feature_comparison_plot(X_test_0_subset, synthetic_data, 'Original', 'Synthetic', embedding_features)"
   ]
  },
  {
   "cell_type": "markdown",
   "id": "b6981131",
   "metadata": {
    "papermill": {
     "duration": 0.109642,
     "end_time": "2024-11-06T13:32:56.789428",
     "exception": false,
     "start_time": "2024-11-06T13:32:56.679786",
     "status": "completed"
    },
    "tags": []
   },
   "source": [
    "Print benchmark scores and feature plot"
   ]
  },
  {
   "cell_type": "code",
   "execution_count": 102,
   "id": "7b5e3b1e",
   "metadata": {
    "execution": {
     "iopub.execute_input": "2024-11-06T13:32:57.007908Z",
     "iopub.status.busy": "2024-11-06T13:32:57.007746Z",
     "iopub.status.idle": "2024-11-06T13:32:57.010233Z",
     "shell.execute_reply": "2024-11-06T13:32:57.009657Z"
    },
    "papermill": {
     "duration": 0.112695,
     "end_time": "2024-11-06T13:32:57.010882",
     "exception": false,
     "start_time": "2024-11-06T13:32:56.898187",
     "status": "completed"
    },
    "tags": []
   },
   "outputs": [],
   "source": [
    "# # feature_comparison_plot(X_test_0_subset, synthetic_data, 'Original', 'Synthetic', numerical_features)\n",
    "\n",
    "# print(\"Training_runtime\\tTraining_loss\\tSynthetic_vs_original_MSE\\tAverage_kl_divergence\\tMoment_matching_score\\tMax_mean_discrepancy\")\n",
    "# print(f\"{round(training_runtime,1)}\\t{round(training_loss,4)}\\t{round(mse_3,0)}\\t{round(average_kl_divergence,2)}\\t{round(moment_score,3)}\\t{round(mmd_value,3)}\")"
   ]
  },
  {
   "cell_type": "code",
   "execution_count": 103,
   "id": "9081f8fb",
   "metadata": {
    "execution": {
     "iopub.execute_input": "2024-11-06T13:32:57.263197Z",
     "iopub.status.busy": "2024-11-06T13:32:57.263033Z",
     "iopub.status.idle": "2024-11-06T13:32:57.265409Z",
     "shell.execute_reply": "2024-11-06T13:32:57.265076Z"
    },
    "papermill": {
     "duration": 0.112363,
     "end_time": "2024-11-06T13:32:57.266118",
     "exception": false,
     "start_time": "2024-11-06T13:32:57.153755",
     "status": "completed"
    },
    "tags": []
   },
   "outputs": [],
   "source": [
    "# import os\n",
    "# import pandas as pd\n",
    "\n",
    "# # Set the base directory for saving the files\n",
    "# base_save_dir = '/home/shogg/mwdh_ml_projects/data/synthetic data'\n",
    "\n",
    "# # Ensure the directory exists\n",
    "# os.makedirs(base_save_dir, exist_ok=True)\n",
    "\n",
    "# # Function to save a dataframe\n",
    "# def save_dataframe(df, filename):\n",
    "#     full_path = os.path.join(base_save_dir, filename)\n",
    "#     df.to_csv(full_path, index=False)\n",
    "#     print(f\"Saved: {full_path}\")\n",
    "\n",
    "# # Save unconditional data\n",
    "# for condition, data in unconditional_data_dict.items():\n",
    "#     filename = f\"unconditional_synthetic_10k.csv\"\n",
    "#     save_dataframe(pd.DataFrame(data), filename)\n",
    "\n",
    "# # Save drug condition data\n",
    "# for drug, conditions in synthetic_drug_data_dict.items():\n",
    "#     for condition, data in conditions.items():\n",
    "#         filename = f\"{drug}_{condition}_synthetic_10k.csv\"\n",
    "#         save_dataframe(pd.DataFrame(data), filename)\n",
    "\n",
    "# # Save categorical condition data\n",
    "# for feature, conditions in synthetic_cat_data_dict.items():\n",
    "#     for condition, data in conditions.items():\n",
    "#         if feature == 'dm_type':\n",
    "#             clean_condition = condition.replace(f'{feature}_', '')\n",
    "#         else:\n",
    "#             clean_condition = condition.split('_', 1)[1]\n",
    "#         filename = f\"{feature}_{clean_condition}_synthetic_10k.csv\"\n",
    "#         save_dataframe(pd.DataFrame(data), filename)\n",
    "\n",
    "# print(\"All synthetic data has been saved.\")"
   ]
  },
  {
   "cell_type": "code",
   "execution_count": 104,
   "id": "f25cba83",
   "metadata": {
    "execution": {
     "iopub.execute_input": "2024-11-06T13:32:57.487642Z",
     "iopub.status.busy": "2024-11-06T13:32:57.487474Z",
     "iopub.status.idle": "2024-11-06T13:32:57.489715Z",
     "shell.execute_reply": "2024-11-06T13:32:57.489408Z"
    },
    "papermill": {
     "duration": 0.112404,
     "end_time": "2024-11-06T13:32:57.490434",
     "exception": false,
     "start_time": "2024-11-06T13:32:57.378030",
     "status": "completed"
    },
    "tags": []
   },
   "outputs": [],
   "source": [
    "# import pandas as pd\n",
    "\n",
    "# def create_summary_table(synthetic_cat_data_dict, value_to_column):\n",
    "#     rows = []\n",
    "\n",
    "#     for feature, conditions in synthetic_cat_data_dict.items():\n",
    "#         for condition, data in conditions.items():\n",
    "#             if condition != 'unconditional':\n",
    "#                 if feature == 'dm_type':\n",
    "#                     clean_condition = condition.replace(f'{feature}_', '')\n",
    "#                     correct_count = (data[feature] == value_to_column[feature].index(condition)).sum()\n",
    "#                 else:\n",
    "#                     clean_condition = condition.split('_', 1)[1]\n",
    "#                     correct_count = (data[feature] == clean_condition).sum()\n",
    "                \n",
    "#                 percentage = (correct_count / len(data)) * 100\n",
    "#                 rows.append({\n",
    "#                     'Feature': feature,\n",
    "#                     'Condition': clean_condition,\n",
    "#                     '% Correct': f\"{percentage:.2f}%\"\n",
    "#                 })\n",
    "\n",
    "#     return pd.DataFrame(rows)\n",
    "\n",
    "# # Create the summary table\n",
    "# summary_table = create_summary_table(synthetic_cat_data_dict, value_to_column)\n",
    "\n",
    "# # Display the table\n",
    "# print(summary_table.to_string(index=False))\n",
    "\n",
    "# # Optionally, save to CSV\n",
    "# # summary_table.to_csv('synthetic_data_summary.csv', index=False)"
   ]
  },
  {
   "cell_type": "code",
   "execution_count": 105,
   "id": "8bdf6961",
   "metadata": {
    "execution": {
     "iopub.execute_input": "2024-11-06T13:32:57.709931Z",
     "iopub.status.busy": "2024-11-06T13:32:57.709772Z",
     "iopub.status.idle": "2024-11-06T13:32:57.712064Z",
     "shell.execute_reply": "2024-11-06T13:32:57.711756Z"
    },
    "papermill": {
     "duration": 0.112428,
     "end_time": "2024-11-06T13:32:57.712776",
     "exception": false,
     "start_time": "2024-11-06T13:32:57.600348",
     "status": "completed"
    },
    "tags": []
   },
   "outputs": [],
   "source": [
    "# import matplotlib.pyplot as plt\n",
    "# import seaborn as sns\n",
    "# import math\n",
    "\n",
    "# # Set up the plot\n",
    "# n_drugs = len(prescribed_conditional_features)\n",
    "# n_cols = 2\n",
    "# n_rows = math.ceil(n_drugs / 2)\n",
    "\n",
    "# fig, axs = plt.subplots(n_rows, n_cols, figsize=(20, 10*n_rows), squeeze=False)\n",
    "# axs = axs.flatten()\n",
    "\n",
    "# colors = {'unconditional': 'blue', 'prescribed': 'green', 'not_prescribed': 'red'}\n",
    "\n",
    "# for i, drug in enumerate(prescribed_conditional_features):\n",
    "#     ax = axs[i]\n",
    "    \n",
    "#     for condition in ['unconditional', 'prescribed', 'not_prescribed']:\n",
    "#         data = synthetic_data_dict[drug][condition][drug]\n",
    "#         sns.kdeplot(data=data, ax=ax, color=colors[condition], label=condition)\n",
    "    \n",
    "#     ax.axvline(x=0.5, color='black', linestyle='--')\n",
    "#     ax.set_title(f'{drug}')\n",
    "#     ax.set_xlabel('Prescription Count')\n",
    "#     ax.set_ylabel('Density')\n",
    "\n",
    "# # Remove any unused subplots\n",
    "# for j in range(i+1, len(axs)):\n",
    "#     fig.delaxes(axs[j])\n",
    "\n",
    "# plt.tight_layout()\n",
    "\n",
    "# # Add a single legend for the entire figure\n",
    "# handles, labels = axs[0].get_legend_handles_labels()\n",
    "# fig.legend(handles, labels, loc='upper center', bbox_to_anchor=(0.5, 1.05), ncol=3)\n",
    "\n",
    "# plt.show()"
   ]
  },
  {
   "cell_type": "code",
   "execution_count": 106,
   "id": "f060cb8b",
   "metadata": {
    "execution": {
     "iopub.execute_input": "2024-11-06T13:32:57.931789Z",
     "iopub.status.busy": "2024-11-06T13:32:57.931648Z",
     "iopub.status.idle": "2024-11-06T13:32:57.933822Z",
     "shell.execute_reply": "2024-11-06T13:32:57.933490Z"
    },
    "papermill": {
     "duration": 0.11228,
     "end_time": "2024-11-06T13:32:57.934512",
     "exception": false,
     "start_time": "2024-11-06T13:32:57.822232",
     "status": "completed"
    },
    "tags": []
   },
   "outputs": [],
   "source": [
    "# def save_datasets_csv(real_data, synthetic_data, save_path, real_filename='real_data.csv', synthetic_filename='synthetic_data.csv'):\n",
    "#     \"\"\"\n",
    "#     Save real and synthetic datasets as CSV files.\n",
    "    \n",
    "#     Parameters:\n",
    "#     real_data (pd.DataFrame): DataFrame containing real data\n",
    "#     synthetic_data (pd.DataFrame): DataFrame containing synthetic data\n",
    "#     save_path (str): Directory path to save the CSV files\n",
    "#     real_filename (str): Filename for the real data CSV\n",
    "#     synthetic_filename (str): Filename for the synthetic data CSV\n",
    "#     \"\"\"\n",
    "#     # Ensure the save directory exists\n",
    "#     os.makedirs(save_path, exist_ok=True)\n",
    "    \n",
    "#     # Save real data\n",
    "#     real_path = os.path.join(save_path, real_filename)\n",
    "#     real_data.to_csv(real_path, index=False)\n",
    "#     print(f\"Real data saved to {real_path}\")\n",
    "    \n",
    "#     # Save synthetic data\n",
    "#     synthetic_path = os.path.join(save_path, synthetic_filename)\n",
    "#     synthetic_data.to_csv(synthetic_path, index=False)\n",
    "#     print(f\"Synthetic data saved to {synthetic_path}\")\n",
    "\n",
    "# # Usage example:\n",
    "# save_datasets_csv(X_test_0_subset, synthetic_data, '/home/shogg/mwdh_ml_projects/data')"
   ]
  }
 ],
 "metadata": {
  "kernelspec": {
   "display_name": "venv",
   "language": "python",
   "name": "python3"
  },
  "language_info": {
   "codemirror_mode": {
    "name": "ipython",
    "version": 3
   },
   "file_extension": ".py",
   "mimetype": "text/x-python",
   "name": "python",
   "nbconvert_exporter": "python",
   "pygments_lexer": "ipython3",
   "version": "3.10.12"
  },
  "papermill": {
   "default_parameters": {},
   "duration": 218.868442,
   "end_time": "2024-11-06T13:32:58.761893",
   "environment_variables": {},
   "exception": null,
   "input_path": "base_vae.ipynb",
   "output_path": "base_vae.ipynb",
   "parameters": {
    "batch_size": 32,
    "kl_scaling_factor": 1,
    "latent_dim": 32,
    "learning_rate": 0.001,
    "total_epochs": 100
   },
   "start_time": "2024-11-06T13:29:19.893451",
   "version": "2.4.0"
  }
 },
 "nbformat": 4,
 "nbformat_minor": 5
}
